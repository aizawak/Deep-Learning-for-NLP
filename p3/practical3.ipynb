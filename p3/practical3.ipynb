{
 "cells": [
  {
   "cell_type": "markdown",
   "metadata": {},
   "source": [
    "## Practical 3: Text Classification with RNNs\n",
    "<p>Oxford CS - Deep NLP 2017<br>\n",
    "https://www.cs.ox.ac.uk/teaching/courses/2016-2017/dl/</p>\n",
    "<p>[Chris Dyer, Phil Blunsom, Yannis Assael, Brendan Shillingford, Yishu Miao]</p>"
   ]
  },
  {
   "cell_type": "code",
   "execution_count": null,
   "metadata": {
    "collapsed": false
   },
   "outputs": [],
   "source": [
    "import numpy as np\n",
    "import os\n",
    "from random import shuffle\n",
    "import re\n",
    "import collections\n",
    "import tensorflow as tf\n",
    "import urllib.request\n",
    "import zipfile\n",
    "import lxml.etree"
   ]
  },
  {
   "cell_type": "code",
   "execution_count": 2,
   "metadata": {
    "collapsed": false
   },
   "outputs": [],
   "source": [
    "# Download the dataset if it's not already there: this may take a minute as it is 75MB\n",
    "if not os.path.isfile('ted_en-20160408.zip'):\n",
    "    urllib.request.urlretrieve(\"https://wit3.fbk.eu/get.php?path=XML_releases/xml/ted_en-20160408.zip&filename=ted_en-20160408.zip\", filename=\"ted_en-20160408.zip\")"
   ]
  },
  {
   "cell_type": "code",
   "execution_count": 3,
   "metadata": {
    "collapsed": true
   },
   "outputs": [],
   "source": [
    "with zipfile.ZipFile('ted_en-20160408.zip', 'r') as z:\n",
    "    doc = lxml.etree.parse(z.open('ted_en-20160408.xml', 'r'))\n",
    "\n",
    "root = doc.getroot()\n",
    "\n",
    "del doc"
   ]
  },
  {
   "cell_type": "code",
   "execution_count": 4,
   "metadata": {
    "collapsed": true
   },
   "outputs": [],
   "source": [
    "labels_talks_ted = []\n",
    "tokens_talks_ted = []\n",
    "\n",
    "for file in root:\n",
    "    keywords = file.find(\"head\").find(\"keywords\").text.lower()\n",
    "    content = file.find(\"content\").text.lower()\n",
    "    label = np.empty(shape=(1,3), dtype=\"float16\")\n",
    "    label[0,0]= (1 if keywords.find(\"technology\")>-1 else 0)\n",
    "    label[0,1]= (1 if keywords.find(\"entertainment\")>-1 else 0)\n",
    "    label[0,2]= (1 if keywords.find(\"design\")>-1 else 0)\n",
    "    \n",
    "    content = re.sub(r'\\([^)]*\\)', '', content)\n",
    "    \n",
    "    sentences_strings_content = []\n",
    "    for line in content.split('\\n'):\n",
    "        m = re.match(r'^(?:(?P<precolon>[^:]{,20}):)?(?P<postcolon>.*)$', line)\n",
    "        sentences_strings_content.extend(sent for sent in m.groupdict()['postcolon'].split('.') if sent)\n",
    "    \n",
    "    content_tokens = []\n",
    "    for sent_str in sentences_strings_content:\n",
    "        tokens = re.sub(r\"[^a-z0-9]+\", \" \", sent_str.lower()).split()\n",
    "        content_tokens += tokens\n",
    "    \n",
    "    labels_talks_ted.append(label)\n",
    "    tokens_talks_ted.append(content_tokens)"
   ]
  },
  {
   "cell_type": "code",
   "execution_count": 5,
   "metadata": {
    "collapsed": false
   },
   "outputs": [],
   "source": [
    "min_count = 10\n",
    "\n",
    "training_labels_talks_ted = labels_talks_ted[0:1585]\n",
    "training_tokens_talks_ted = tokens_talks_ted[0:1585]\n",
    "\n",
    "# count occurence of each token\n",
    "\n",
    "training_counts_ted = collections.Counter()\n",
    "training_tokens_ted = [token for talk in training_tokens_talks_ted for token in talk]\n",
    "\n",
    "for token in training_tokens_ted:\n",
    "    training_counts_ted[token] += 1\n",
    "\n",
    "training_idx_ted = {}\n",
    "\n",
    "# create dictionary for one-hot encoding idx of all tokens\n",
    "next_idx = 0\n",
    "for talk in training_tokens_talks_ted:\n",
    "    for idx in range(0, len(talk)):\n",
    "        if training_counts_ted[talk[idx]] < min_count:\n",
    "            talk[idx]=\"UNKNOWNTEXT\"\n",
    "        if talk[idx] in training_idx_ted:\n",
    "            continue\n",
    "        else:\n",
    "            training_idx_ted[talk[idx]] = next_idx\n",
    "            next_idx+=1\n",
    "            \n",
    "vocab_size = len(training_idx_ted)"
   ]
  },
  {
   "cell_type": "code",
   "execution_count": 6,
   "metadata": {
    "collapsed": true
   },
   "outputs": [],
   "source": [
    "def length(sequence):\n",
    "    used = tf.sign(tf.reduce_max(tf.abs(sequence), reduction_indices=2))\n",
    "    length = tf.reduce_sum(used, reduction_indices=1)\n",
    "    length = tf.cast(length, tf.int32)\n",
    "    return length"
   ]
  },
  {
   "cell_type": "code",
   "execution_count": 7,
   "metadata": {
    "collapsed": false
   },
   "outputs": [],
   "source": [
    "init_scale = 0.1\n",
    "learning_rate = 1.0\n",
    "max_grad_norm = 5\n",
    "num_layers = 2\n",
    "num_steps = 2000\n",
    "num_outputs = 3\n",
    "hidden_size = 200\n",
    "keep_prob = 1.0\n",
    "lr_decay = 0.5\n",
    "batch_size = 1\n",
    "\n",
    "x = tf.placeholder(\"float16\",shape=[None, num_steps, vocab_size], name=\"x_placeholder\")\n",
    "y = tf.placeholder(\"float16\",shape=[None, num_outputs], name=\"y_placeholder\")\n",
    "weights = tf.Variable(tf.truncated_normal([hidden_size, num_outputs], stddev=0.05, dtype=tf.float16))\n",
    "bias = tf.Variable(tf.constant(.1, shape=[num_outputs], dtype=tf.float16))\n",
    "\n",
    "lstm = tf.contrib.rnn.BasicLSTMCell(hidden_size, forget_bias=0.0, state_is_tuple=True)\n",
    "stacked_lstm = tf.contrib.rnn.MultiRNNCell([lstm] * num_layers, state_is_tuple=True)\n",
    "\n",
    "initial_state = stacked_lstm.zero_state(batch_size, dtype=tf.float16)\n",
    "\n",
    "outputs, state = tf.nn.dynamic_rnn(stacked_lstm, x, initial_state=initial_state, dtype=tf.float16, sequence_length=length(x))\n",
    "\n",
    "# outputs = tf.transpose(outputs, [1,0,2])\n",
    "# last = tf.gather(outputs, num_steps - 1)\n",
    "# y_pred = tf.nn.softmax(tf.matmul(last, weights) + bias)\n",
    "outputs = tf.reduce_mean(outputs, 1)\n",
    "y_pred = tf.nn.softmax(tf.matmul(outputs, weights) + bias)\n",
    "\n",
    "cross_entropy = tf.reduce_mean(tf.nn.softmax_cross_entropy_with_logits(logits=y_pred, labels=y))\n",
    "optimizer = tf.train.AdamOptimizer(learning_rate=learning_rate).minimize(cross_entropy)\n",
    "\n",
    "correct_pred = tf.equal(tf.argmax(y_pred,1), tf.argmax(y,1))\n",
    "accuracy = tf.reduce_mean(tf.cast(correct_pred, tf.float32))"
   ]
  },
  {
   "cell_type": "code",
   "execution_count": 12,
   "metadata": {
    "collapsed": true
   },
   "outputs": [],
   "source": [
    "def data_iterator():\n",
    "    batch_idx = 0\n",
    "    while True:\n",
    "        for batch_idx in range(0, len(training_tokens_talks_ted), batch_size):\n",
    "            sequence_batch = np.empty(shape=(0,num_steps,vocab_size), dtype=\"float16\")\n",
    "            \n",
    "            for talk in training_tokens_talks_ted[batch_idx:batch_idx+batch_size]:\n",
    "                sequence = np.empty(shape=(0,vocab_size), dtype=\"float16\")\n",
    "    \n",
    "                for token_idx in range(0,num_steps):\n",
    "                    one_hot = np.empty(shape=(1,vocab_size), dtype=\"float16\")\n",
    "                    if token_idx + 1 < len(talk):\n",
    "                        one_hot[0,training_idx_ted[talk[token_idx]]] = 1\n",
    "                    sequence = np.append(sequence, one_hot, axis=0)\n",
    "                    \n",
    "                print(sequence.shape)\n",
    "                sequence_batch = np.vstack((sequence_batch, [sequence]))\n",
    "            \n",
    "            labels_batch = np.reshape(training_labels_talks_ted[batch_idx:batch_idx+batch_size], (batch_size,num_outputs))\n",
    "            yield sequence_batch, labels_batch\n",
    "            \n",
    "iter_ = data_iterator()"
   ]
  },
  {
   "cell_type": "code",
   "execution_count": null,
   "metadata": {
    "collapsed": false
   },
   "outputs": [
    {
     "name": "stdout",
     "output_type": "stream",
     "text": [
      "(2000, 12098)\n"
     ]
    }
   ],
   "source": [
    "init = tf.global_variables_initializer()\n",
    "with tf.Session() as sess:\n",
    "    sess.run(init)\n",
    "    step = 1\n",
    "    for i in range(300):\n",
    "        sequence_batch, labels_batch = iter_.__next__()\n",
    "        if (i+1)%10==0:\n",
    "            train_accuracy = accuracy.eval(session = sess, feed_dict={ x:sequence_batch, y: labels_batch})\n",
    "            print(\"step %d, training accuracy %g\"%(i, train_accuracy))\n",
    "        optimizer.run(session = sess, feed_dict={x: sequence_batch, y: labels_batch})\n",
    "    \n",
    "        \n",
    "        \n",
    "        \n",
    "        "
   ]
  },
  {
   "cell_type": "code",
   "execution_count": null,
   "metadata": {
    "collapsed": true
   },
   "outputs": [],
   "source": [
    "batch_size = 20\n",
    "no_of_batches = int(len(training_sentences_ted)/batch_size)\n",
    "epoch = 10\n",
    "for i in range(epoch):\n",
    "    ptr = 0\n",
    "    for j in range(no_of_batches):\n",
    "        inp, out = train_input[ptr:ptr+batch_size], train_output[ptr:ptr+batch_size]\n",
    "        ptr+=batch_size\n",
    "        sess.run(minimize,{data: inp, target: out})\n",
    "    print \"Epoch - \",str(i)\n",
    "incorrect = sess.run(error,{data: test_input, target: test_output})\n",
    "print('Epoch {:2d} error {:3.1f}%'.format(i + 1, 100 * incorrect))\n",
    "sess.close()"
   ]
  }
 ],
 "metadata": {
  "anaconda-cloud": {},
  "kernelspec": {
   "display_name": "Python [default]",
   "language": "python",
   "name": "python3"
  },
  "language_info": {
   "codemirror_mode": {
    "name": "ipython",
    "version": 3
   },
   "file_extension": ".py",
   "mimetype": "text/x-python",
   "name": "python",
   "nbconvert_exporter": "python",
   "pygments_lexer": "ipython3",
   "version": "3.5.2"
  }
 },
 "nbformat": 4,
 "nbformat_minor": 1
}
