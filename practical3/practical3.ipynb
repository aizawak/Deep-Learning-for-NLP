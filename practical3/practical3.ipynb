{
 "cells": [
  {
   "cell_type": "markdown",
   "metadata": {},
   "source": [
    "## Practical 3: Text Classification with RNNs\n",
    "<p>Oxford CS - Deep NLP 2017<br>\n",
    "https://www.cs.ox.ac.uk/teaching/courses/2016-2017/dl/</p>\n",
    "<p>[Chris Dyer, Phil Blunsom, Yannis Assael, Brendan Shillingford, Yishu Miao]</p>"
   ]
  },
  {
   "cell_type": "code",
   "execution_count": 1,
   "metadata": {
    "collapsed": false
   },
   "outputs": [],
   "source": [
    "import numpy as np\n",
    "import os\n",
    "from random import shuffle\n",
    "import re\n",
    "import collections\n",
    "import tensorflow as tf\n",
    "import urllib.request\n",
    "import zipfile\n",
    "import lxml.etree"
   ]
  },
  {
   "cell_type": "markdown",
   "metadata": {},
   "source": [
    "Downloaded data if it's not already present in the directory. The data is a TED talk transcript dump from the Web Inventory of Transcribed and Translated Talks (WIT3)."
   ]
  },
  {
   "cell_type": "code",
   "execution_count": 2,
   "metadata": {
    "collapsed": false
   },
   "outputs": [],
   "source": [
    "if not os.path.isfile('ted_en-20160408.zip'):\n",
    "    urllib.request.urlretrieve(\"https://wit3.fbk.eu/get.php?path=XML_releases/xml/ted_en-20160408.zip&filename=ted_en-20160408.zip\", filename=\"ted_en-20160408.zip\")"
   ]
  },
  {
   "cell_type": "code",
   "execution_count": 3,
   "metadata": {
    "collapsed": true
   },
   "outputs": [],
   "source": [
    "with zipfile.ZipFile('ted_en-20160408.zip', 'r') as z:\n",
    "    doc = lxml.etree.parse(z.open('ted_en-20160408.xml', 'r'))\n",
    "\n",
    "root = doc.getroot()\n",
    "\n",
    "del doc"
   ]
  },
  {
   "cell_type": "markdown",
   "metadata": {},
   "source": [
    "Extract labels and content from .xml. Remove punctuation, numbers, and speaker names from the content."
   ]
  },
  {
   "cell_type": "code",
   "execution_count": 4,
   "metadata": {
    "collapsed": true
   },
   "outputs": [],
   "source": [
    "labels_talks_ted = []\n",
    "tokens_talks_ted = []\n",
    "\n",
    "for file in root:\n",
    "    keywords = file.find(\"head\").find(\"keywords\").text.lower()\n",
    "    content = file.find(\"content\").text.lower()\n",
    "    label = np.empty(shape=(1,3), dtype=\"float16\")\n",
    "    label[0,0]= (1 if keywords.find(\"technology\")>-1 else 0)\n",
    "    label[0,1]= (1 if keywords.find(\"entertainment\")>-1 else 0)\n",
    "    label[0,2]= (1 if keywords.find(\"design\")>-1 else 0)\n",
    "    \n",
    "    content = re.sub(r'\\([^)]*\\)', '', content)\n",
    "    \n",
    "    sentences_strings_content = []\n",
    "    for line in content.split('\\n'):\n",
    "        m = re.match(r'^(?:(?P<precolon>[^:]{,20}):)?(?P<postcolon>.*)$', line)\n",
    "        sentences_strings_content.extend(sent for sent in m.groupdict()['postcolon'].split('.') if sent)\n",
    "    \n",
    "    content_tokens = []\n",
    "    for sent_str in sentences_strings_content:\n",
    "        tokens = re.sub(r\"[^a-z0-9]+\", \" \", sent_str.lower()).split()\n",
    "        content_tokens += tokens\n",
    "    \n",
    "    labels_talks_ted.append(label)\n",
    "    tokens_talks_ted.append(content_tokens)"
   ]
  },
  {
   "cell_type": "markdown",
   "metadata": {},
   "source": [
    "Count occurence of each token in the training transcripts."
   ]
  },
  {
   "cell_type": "code",
   "execution_count": 5,
   "metadata": {
    "collapsed": false
   },
   "outputs": [],
   "source": [
    "training_counts_ted = collections.Counter()\n",
    "training_tokens_ted = [token for talk in tokens_talks_ted[0:1585] for token in talk]\n",
    "\n",
    "for token in training_tokens_ted:\n",
    "    training_counts_ted[token] += 1"
   ]
  },
  {
   "cell_type": "markdown",
   "metadata": {},
   "source": [
    "Replace tokens in all transcripts which occur in the training transcripts fewer than ```min_count``` times with ```\"UNKNOWNTEXT\"``` and assign each unique token a unique index to be used for one-hot encoding."
   ]
  },
  {
   "cell_type": "code",
   "execution_count": null,
   "metadata": {
    "collapsed": true
   },
   "outputs": [],
   "source": [
    "onehot_idx_ted = {}\n",
    "\n",
    "min_count = 10\n",
    "next_idx = 0\n",
    "for talk in tokens_talks_ted:\n",
    "    for idx in range(0, len(talk)):\n",
    "        if talk[idx] not in training_counts_ted or training_counts_ted[talk[idx]] < min_count:\n",
    "            talk[idx]=\"UNKNOWNTEXT\"\n",
    "        if talk[idx] in onehot_idx_ted:\n",
    "            continue\n",
    "        else:\n",
    "            onehot_idx_ted[talk[idx]] = next_idx\n",
    "            next_idx+=1\n",
    "            \n",
    "vocab_size = len(onehot_idx_ted)"
   ]
  },
  {
   "cell_type": "markdown",
   "metadata": {},
   "source": [
    "Generate one-hot encodings for all sequences. The input data should have the shape ```(num_transcripts, num_steps, vocab_size)```. The labels should have the shape ```(num_transcripts, num_classes)```. Use float16 to reduce memory usage."
   ]
  },
  {
   "cell_type": "code",
   "execution_count": null,
   "metadata": {
    "collapsed": true
   },
   "outputs": [],
   "source": [
    "batch_size = 50\n",
    "num_outputs = 3\n",
    "\n",
    "sequences = np.empty(shape=(len(tokens_talks_ted),num_steps,vocab_size), dtype=\"float16\")\n",
    "            \n",
    "for talk_idx in range(0, len(tokens_talks_ted)):\n",
    "    talk = tokens_talks_ted[talk_idx]\n",
    "    for token_idx in range(0,min(num_steps,len(talk))):\n",
    "        token = tokens_talks_ted[talk_idx][token_idx]\n",
    "        sequences[talk_idx][token_idx][onehot_idx_ted[token]] = 1\n",
    "\n",
    "labels = np.reshape(labels_talks_ted, (len(labels_talks_ted),num_outputs))"
   ]
  },
  {
   "cell_type": "markdown",
   "metadata": {},
   "source": [
    "The first 1585 transcripts are reserved for training as per the practical isntructions. The next 250 are reserved for validation and the final 250 are for testing."
   ]
  },
  {
   "cell_type": "code",
   "execution_count": null,
   "metadata": {
    "collapsed": true
   },
   "outputs": [],
   "source": [
    "training_sequences = sequences[0:1585]\n",
    "training_labels = labels[0:1585]\n",
    "\n",
    "validation_sequences = sequences[1585:1835]\n",
    "validation_labels = labels[1585:1835]\n",
    "\n",
    "testing_sequences = sequences[1835:2085]\n",
    "testing_labels = labels[1835:2085]"
   ]
  },
  {
   "cell_type": "markdown",
   "metadata": {},
   "source": [
    "Define a helper function which determines the length of input sequences to account for varying input sequence lengths. This is the solution created by Danijar Hafner shown [here](https://danijar.com/variable-sequence-lengths-in-tensorflow/)."
   ]
  },
  {
   "cell_type": "code",
   "execution_count": null,
   "metadata": {
    "collapsed": true
   },
   "outputs": [],
   "source": [
    "def length(sequence):\n",
    "    used = tf.sign(tf.reduce_max(tf.abs(sequence), reduction_indices=2))\n",
    "    length = tf.reduce_sum(used, reduction_indices=1)\n",
    "    length = tf.cast(length, tf.int32)\n",
    "    return length"
   ]
  },
  {
   "cell_type": "markdown",
   "metadata": {},
   "source": [
    "Create network graph."
   ]
  },
  {
   "cell_type": "code",
   "execution_count": 7,
   "metadata": {
    "collapsed": false
   },
   "outputs": [],
   "source": [
    "init_scale = 0.1\n",
    "learning_rate = .001\n",
    "max_grad_norm = 5\n",
    "num_layers = 3\n",
    "num_steps = 1000\n",
    "hidden_size = 500\n",
    "keep_prob = 1.0\n",
    "\n",
    "x = tf.placeholder(\"float16\",shape=[None, num_steps, vocab_size], name=\"x_placeholder\")\n",
    "y = tf.placeholder(\"float16\",shape=[None, num_outputs], name=\"y_placeholder\")\n",
    "weights = tf.Variable(tf.truncated_normal([hidden_size, num_outputs], stddev=0.05, dtype=tf.float16))\n",
    "bias = tf.Variable(tf.constant(.1, shape=[num_outputs], dtype=tf.float16))\n",
    "\n",
    "lstm = tf.contrib.rnn.BasicLSTMCell(hidden_size, forget_bias=0.0, state_is_tuple=True)\n",
    "stacked_lstm = tf.contrib.rnn.MultiRNNCell([lstm] * num_layers, state_is_tuple=True)\n",
    "\n",
    "initial_state = stacked_lstm.zero_state(batch_size, dtype=tf.float16)\n",
    "\n",
    "outputs, state = tf.nn.dynamic_rnn(stacked_lstm, x, initial_state=initial_state, dtype=tf.float16, sequence_length=length(x))\n",
    "\n",
    "# outputs = tf.transpose(outputs, [1,0,2])\n",
    "# last = tf.gather(outputs, num_steps - 1)\n",
    "# y_pred = tf.nn.softmax(tf.matmul(last, weights) + bias)\n",
    "outputs = tf.reduce_mean(outputs, 1)\n",
    "y_pred = tf.nn.softmax(tf.matmul(outputs, weights) + bias)\n",
    "\n",
    "cross_entropy = tf.reduce_mean(tf.nn.softmax_cross_entropy_with_logits(logits=y_pred, labels=y))\n",
    "optimizer = tf.train.AdamOptimizer(learning_rate=learning_rate).minimize(cross_entropy)\n",
    "\n",
    "correct_pred = tf.equal(tf.argmax(y_pred,1), tf.argmax(y,1))\n",
    "accuracy = tf.reduce_mean(tf.cast(correct_pred, tf.float32))"
   ]
  },
  {
   "cell_type": "markdown",
   "metadata": {},
   "source": [
    "Create data iterator which returns tensors of shape ```(batch_size, num_steps, vocab_size)```. For now I drop incomplete batches."
   ]
  },
  {
   "cell_type": "code",
   "execution_count": 12,
   "metadata": {
    "collapsed": true
   },
   "outputs": [],
   "source": [
    "def data_iterator(sequences, labels, batch_size):\n",
    "    batch_idx = 0\n",
    "    while True:\n",
    "        for batch_idx in range(0, len(sequences), batch_size):\n",
    "            if batch_idx+batch_size+1 > len(sequences):\n",
    "                continue\n",
    "            sequences_batch = sequences[batch_idx:batch_idx+batch_size]\n",
    "            labels_batch = labels[batch_idx:batch_idx+batch_size]\n",
    "            yield sequences_batch, labels_batch"
   ]
  },
  {
   "cell_type": "markdown",
   "metadata": {},
   "source": [
    "Train model, printing validation accuracy every epoch and testing accuracy after optimization is complete."
   ]
  },
  {
   "cell_type": "code",
   "execution_count": null,
   "metadata": {
    "collapsed": false
   },
   "outputs": [],
   "source": [
    "max_epochs = 10\n",
    "training_epoch_iterations = int(len(training_sequences) / batch_size)\n",
    "validation_epoch_iterations = int(len(validation_sequences) / batch_size)\n",
    "testing_epoch_iterations = int(len(testing_sequences) / batch_size)\n",
    "training_iterations = int(max_epochs * training_epoch_iterations)\n",
    "\n",
    "saver = tf.train.Saver()\n",
    "\n",
    "init = tf.global_variables_initializer()\n",
    "\n",
    "print(\"training...\")\n",
    "\n",
    "with tf.Session() as sess:\n",
    "    sess.run(init)\n",
    "    step = 1\n",
    "    for i in range(training_iterations):\n",
    "        training_sequences_batch, training_labels_batch = training_iter_.__next__()\n",
    "        # periodically print training error\n",
    "\n",
    "        if (i+1)%10==0:\n",
    "            train_accuracy = accuracy.eval(session = sess, feed_dict={ x:training_sequences_batch, y: training_labels_batch})\n",
    "            print(\"step %d, training accuracy %g\"%(i+1, train_accuracy))\n",
    "\n",
    "        optimizer.run(session = sess, feed_dict={x: training_sequences_batch, y: training_labels_batch})\n",
    "\n",
    "        # periodically save model and print validation error\n",
    "\n",
    "        if (i+1)%training_epoch_iterations==0:\n",
    "            for j in range(validation_epoch_iterations):\n",
    "                validation_sequences_batch, validation_labels_batch = validation_iter_.__next__()\n",
    "                validation_accuracy = accuracy.eval(session=sess, feed_dict={ x: validation_sequences_batch, y: validation_labels_batch})\n",
    "            print(\"epoch %d, validation accuracy %g\"%((i+1)/training_epoch_iterations, validation_accuracy))\n",
    "\n",
    "            save_path = saver.save(sess, \"tmp/model_%d.ckpt\"%(i+1))\n",
    "            print(\"Model saved in file: %s\"%save_path)\n",
    "\n",
    "    for i in range(testing_epoch_iterations):\n",
    "        testing_sequences_batch, testing_labels_batch = testing_iter_.__next__()\n",
    "        testing_accuracy = accuracy.eval(session=sess, feed_dict={ x: testing_sequences_batch, y: testing_labels_batch})\n",
    "        print(\"testing accuracy %g\"%(testing_accuracy))"
   ]
  }
 ],
 "metadata": {
  "anaconda-cloud": {},
  "kernelspec": {
   "display_name": "Python [default]",
   "language": "python",
   "name": "python3"
  },
  "language_info": {
   "codemirror_mode": {
    "name": "ipython",
    "version": 3
   },
   "file_extension": ".py",
   "mimetype": "text/x-python",
   "name": "python",
   "nbconvert_exporter": "python",
   "pygments_lexer": "ipython3",
   "version": "3.5.2"
  }
 },
 "nbformat": 4,
 "nbformat_minor": 1
}
