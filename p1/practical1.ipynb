{
 "cells": [
  {
   "cell_type": "markdown",
   "metadata": {},
   "source": [
    "## Practical 1: word2vec\n",
    "<p>Oxford CS - Deep NLP 2017<br>\n",
    "https://www.cs.ox.ac.uk/teaching/courses/2016-2017/dl/</p>\n",
    "<p>[Yannis Assael, Brendan Shillingford, Chris Dyer]</p>"
   ]
  },
  {
   "cell_type": "markdown",
   "metadata": {},
   "source": [
    "This practical is presented as an IPython Notebook, with the code written for recent versions of **Python 3**. The code in this practical will not work with Python 2 unless you modify it. If you are using your own Python installation, ensure you have a setup identical to that described in the installation shell script (which is intended for use with the department lab machines). We will be unable to support installation on personal machines due to time constraints, so please use the lab machines and the setup script if you are unfamiliar with how to install Anaconda.\n",
    "\n",
    "To execute a notebook cell, press `shift-enter`. The return value of the last command will be displayed, if it is not `None`.\n",
    "\n",
    "Potentially useful library documentation, references, and resources:\n",
    "\n",
    "* IPython notebooks: <https://ipython.org/ipython-doc/3/notebook/notebook.html#introduction>\n",
    "* Numpy numerical array library: <https://docs.scipy.org/doc/>\n",
    "* Gensim's word2vec: <https://radimrehurek.com/gensim/models/word2vec.html>\n",
    "* Bokeh interactive plots: <http://bokeh.pydata.org/en/latest/> (we provide plotting code here, but click the thumbnails for more examples to copy-paste)\n",
    "* scikit-learn ML library (aka `sklearn`): <http://scikit-learn.org/stable/documentation.html>\n",
    "* nltk NLP toolkit: <http://www.nltk.org/>\n",
    "* tutorial for processing xml in python using `lxml`: <http://lxml.de/tutorial.html> (we did this for you below, but in case you need it in the future)"
   ]
  },
  {
   "cell_type": "code",
   "execution_count": 31,
   "metadata": {
    "collapsed": false
   },
   "outputs": [],
   "source": [
    "import numpy as np\n",
    "import os\n",
    "from random import shuffle\n",
    "import re\n",
    "import collections"
   ]
  },
  {
   "cell_type": "code",
   "execution_count": 32,
   "metadata": {
    "collapsed": false
   },
   "outputs": [
    {
     "data": {
      "text/html": [
       "\n",
       "    <div class=\"bk-root\">\n",
       "        <a href=\"http://bokeh.pydata.org\" target=\"_blank\" class=\"bk-logo bk-logo-small bk-logo-notebook\"></a>\n",
       "        <span id=\"5f8f8c75-f560-4e2b-b438-c9e31880aa6a\">Loading BokehJS ...</span>\n",
       "    </div>"
      ]
     },
     "metadata": {},
     "output_type": "display_data"
    },
    {
     "data": {
      "application/javascript": [
       "\n",
       "(function(global) {\n",
       "  function now() {\n",
       "    return new Date();\n",
       "  }\n",
       "\n",
       "  var force = \"1\";\n",
       "\n",
       "  if (typeof (window._bokeh_onload_callbacks) === \"undefined\" || force !== \"\") {\n",
       "    window._bokeh_onload_callbacks = [];\n",
       "    window._bokeh_is_loading = undefined;\n",
       "  }\n",
       "\n",
       "\n",
       "  \n",
       "  if (typeof (window._bokeh_timeout) === \"undefined\" || force !== \"\") {\n",
       "    window._bokeh_timeout = Date.now() + 5000;\n",
       "    window._bokeh_failed_load = false;\n",
       "  }\n",
       "\n",
       "  var NB_LOAD_WARNING = {'data': {'text/html':\n",
       "     \"<div style='background-color: #fdd'>\\n\"+\n",
       "     \"<p>\\n\"+\n",
       "     \"BokehJS does not appear to have successfully loaded. If loading BokehJS from CDN, this \\n\"+\n",
       "     \"may be due to a slow or bad network connection. Possible fixes:\\n\"+\n",
       "     \"</p>\\n\"+\n",
       "     \"<ul>\\n\"+\n",
       "     \"<li>re-rerun `output_notebook()` to attempt to load from CDN again, or</li>\\n\"+\n",
       "     \"<li>use INLINE resources instead, as so:</li>\\n\"+\n",
       "     \"</ul>\\n\"+\n",
       "     \"<code>\\n\"+\n",
       "     \"from bokeh.resources import INLINE\\n\"+\n",
       "     \"output_notebook(resources=INLINE)\\n\"+\n",
       "     \"</code>\\n\"+\n",
       "     \"</div>\"}};\n",
       "\n",
       "  function display_loaded() {\n",
       "    if (window.Bokeh !== undefined) {\n",
       "      Bokeh.$(\"#5f8f8c75-f560-4e2b-b438-c9e31880aa6a\").text(\"BokehJS successfully loaded.\");\n",
       "    } else if (Date.now() < window._bokeh_timeout) {\n",
       "      setTimeout(display_loaded, 100)\n",
       "    }\n",
       "  }\n",
       "\n",
       "  function run_callbacks() {\n",
       "    window._bokeh_onload_callbacks.forEach(function(callback) { callback() });\n",
       "    delete window._bokeh_onload_callbacks\n",
       "    console.info(\"Bokeh: all callbacks have finished\");\n",
       "  }\n",
       "\n",
       "  function load_libs(js_urls, callback) {\n",
       "    window._bokeh_onload_callbacks.push(callback);\n",
       "    if (window._bokeh_is_loading > 0) {\n",
       "      console.log(\"Bokeh: BokehJS is being loaded, scheduling callback at\", now());\n",
       "      return null;\n",
       "    }\n",
       "    if (js_urls == null || js_urls.length === 0) {\n",
       "      run_callbacks();\n",
       "      return null;\n",
       "    }\n",
       "    console.log(\"Bokeh: BokehJS not loaded, scheduling load and callback at\", now());\n",
       "    window._bokeh_is_loading = js_urls.length;\n",
       "    for (var i = 0; i < js_urls.length; i++) {\n",
       "      var url = js_urls[i];\n",
       "      var s = document.createElement('script');\n",
       "      s.src = url;\n",
       "      s.async = false;\n",
       "      s.onreadystatechange = s.onload = function() {\n",
       "        window._bokeh_is_loading--;\n",
       "        if (window._bokeh_is_loading === 0) {\n",
       "          console.log(\"Bokeh: all BokehJS libraries loaded\");\n",
       "          run_callbacks()\n",
       "        }\n",
       "      };\n",
       "      s.onerror = function() {\n",
       "        console.warn(\"failed to load library \" + url);\n",
       "      };\n",
       "      console.log(\"Bokeh: injecting script tag for BokehJS library: \", url);\n",
       "      document.getElementsByTagName(\"head\")[0].appendChild(s);\n",
       "    }\n",
       "  };var element = document.getElementById(\"5f8f8c75-f560-4e2b-b438-c9e31880aa6a\");\n",
       "  if (element == null) {\n",
       "    console.log(\"Bokeh: ERROR: autoload.js configured with elementid '5f8f8c75-f560-4e2b-b438-c9e31880aa6a' but no matching script tag was found. \")\n",
       "    return false;\n",
       "  }\n",
       "\n",
       "  var js_urls = ['https://cdn.pydata.org/bokeh/release/bokeh-0.12.2.min.js', 'https://cdn.pydata.org/bokeh/release/bokeh-widgets-0.12.2.min.js', 'https://cdn.pydata.org/bokeh/release/bokeh-compiler-0.12.2.min.js'];\n",
       "\n",
       "  var inline_js = [\n",
       "    function(Bokeh) {\n",
       "      Bokeh.set_log_level(\"info\");\n",
       "    },\n",
       "    \n",
       "    function(Bokeh) {\n",
       "      \n",
       "      Bokeh.$(\"#5f8f8c75-f560-4e2b-b438-c9e31880aa6a\").text(\"BokehJS is loading...\");\n",
       "    },\n",
       "    function(Bokeh) {\n",
       "      console.log(\"Bokeh: injecting CSS: https://cdn.pydata.org/bokeh/release/bokeh-0.12.2.min.css\");\n",
       "      Bokeh.embed.inject_css(\"https://cdn.pydata.org/bokeh/release/bokeh-0.12.2.min.css\");\n",
       "      console.log(\"Bokeh: injecting CSS: https://cdn.pydata.org/bokeh/release/bokeh-widgets-0.12.2.min.css\");\n",
       "      Bokeh.embed.inject_css(\"https://cdn.pydata.org/bokeh/release/bokeh-widgets-0.12.2.min.css\");\n",
       "    }\n",
       "  ];\n",
       "\n",
       "  function run_inline_js() {\n",
       "    \n",
       "    if ((window.Bokeh !== undefined) || (force === \"1\")) {\n",
       "      for (var i = 0; i < inline_js.length; i++) {\n",
       "        inline_js[i](window.Bokeh);\n",
       "      }if (force === \"1\") {\n",
       "        display_loaded();\n",
       "      }} else if (Date.now() < window._bokeh_timeout) {\n",
       "      setTimeout(run_inline_js, 100);\n",
       "    } else if (!window._bokeh_failed_load) {\n",
       "      console.log(\"Bokeh: BokehJS failed to load within specified timeout.\");\n",
       "      window._bokeh_failed_load = true;\n",
       "    } else if (!force) {\n",
       "      var cell = $(\"#5f8f8c75-f560-4e2b-b438-c9e31880aa6a\").parents('.cell').data().cell;\n",
       "      cell.output_area.append_execute_result(NB_LOAD_WARNING)\n",
       "    }\n",
       "\n",
       "  }\n",
       "\n",
       "  if (window._bokeh_is_loading === 0) {\n",
       "    console.log(\"Bokeh: BokehJS loaded, going straight to plotting\");\n",
       "    run_inline_js();\n",
       "  } else {\n",
       "    load_libs(js_urls, function() {\n",
       "      console.log(\"Bokeh: BokehJS plotting callback run at\", now());\n",
       "      run_inline_js();\n",
       "    });\n",
       "  }\n",
       "}(this));"
      ]
     },
     "metadata": {},
     "output_type": "display_data"
    }
   ],
   "source": [
    "from bokeh.models import ColumnDataSource, LabelSet\n",
    "from bokeh.plotting import figure, show, output_file\n",
    "from bokeh.io import output_notebook\n",
    "output_notebook()"
   ]
  },
  {
   "cell_type": "markdown",
   "metadata": {},
   "source": [
    "### Part 0: Download the TED dataset"
   ]
  },
  {
   "cell_type": "code",
   "execution_count": 33,
   "metadata": {
    "collapsed": false
   },
   "outputs": [],
   "source": [
    "import urllib.request\n",
    "import zipfile\n",
    "import lxml.etree"
   ]
  },
  {
   "cell_type": "code",
   "execution_count": 34,
   "metadata": {
    "collapsed": false
   },
   "outputs": [],
   "source": [
    "# Download the dataset if it's not already there: this may take a minute as it is 75MB\n",
    "if not os.path.isfile('ted_en-20160408.zip'):\n",
    "    urllib.request.urlretrieve(\"https://wit3.fbk.eu/get.php?path=XML_releases/xml/ted_en-20160408.zip&filename=ted_en-20160408.zip\", filename=\"ted_en-20160408.zip\")"
   ]
  },
  {
   "cell_type": "code",
   "execution_count": 35,
   "metadata": {
    "collapsed": true
   },
   "outputs": [],
   "source": [
    "# For now, we're only interested in the subtitle text, so let's extract that from the XML:\n",
    "with zipfile.ZipFile('ted_en-20160408.zip', 'r') as z:\n",
    "    doc = lxml.etree.parse(z.open('ted_en-20160408.xml', 'r'))\n",
    "input_text = '\\n'.join(doc.xpath('//content/text()'))\n",
    "del doc"
   ]
  },
  {
   "cell_type": "markdown",
   "metadata": {},
   "source": [
    "### Part 1: Preprocessing\n",
    "\n",
    "In this part, we attempt to clean up the raw subtitles a bit, so that we get only sentences. The following substring shows examples of what we're trying to get rid of. Since it's hard to define precisely what we want to get rid of, we'll just use some simple heuristics."
   ]
  },
  {
   "cell_type": "code",
   "execution_count": 36,
   "metadata": {
    "collapsed": false,
    "scrolled": false
   },
   "outputs": [
    {
     "data": {
      "text/plain": [
       "' baby does.\\n(Video) Hyowon Gweon: See this? (Ball squeaks) Did you see that? (Ball squeaks) Cool. See this one? (Ball squeaks) Wow.\\nLaura Schulz: Told you. (Laughs)\\n(Vide'"
      ]
     },
     "execution_count": 36,
     "metadata": {},
     "output_type": "execute_result"
    }
   ],
   "source": [
    "i = input_text.find(\"Hyowon Gweon: See this?\")\n",
    "input_text[i-20:i+150]"
   ]
  },
  {
   "cell_type": "markdown",
   "metadata": {},
   "source": [
    "Let's start by removing all parenthesized strings using a regex:"
   ]
  },
  {
   "cell_type": "code",
   "execution_count": 37,
   "metadata": {
    "collapsed": true
   },
   "outputs": [],
   "source": [
    "input_text_noparens = re.sub(r'\\([^)]*\\)', '', input_text)"
   ]
  },
  {
   "cell_type": "markdown",
   "metadata": {},
   "source": [
    "We can verify the same location in the text is now clean as follows. We won't worry about the irregular spaces since we'll later split the text into sentences and tokenize it anyway."
   ]
  },
  {
   "cell_type": "code",
   "execution_count": 38,
   "metadata": {
    "collapsed": false
   },
   "outputs": [
    {
     "data": {
      "text/plain": [
       "\"hat the baby does.\\n Hyowon Gweon: See this?  Did you see that?  Cool. See this one?  Wow.\\nLaura Schulz: Told you. \\n HG: See this one?  Hey Clara, this one's for you. You \""
      ]
     },
     "execution_count": 38,
     "metadata": {},
     "output_type": "execute_result"
    }
   ],
   "source": [
    "i = input_text_noparens.find(\"Hyowon Gweon: See this?\")\n",
    "input_text_noparens[i-20:i+150]"
   ]
  },
  {
   "cell_type": "markdown",
   "metadata": {},
   "source": [
    "Now, let's attempt to remove speakers' names that occur at the beginning of a line, by deleting pieces of the form \"`<up to 20 characters>:`\", as shown in this example. Of course, this is an imperfect heuristic. "
   ]
  },
  {
   "cell_type": "code",
   "execution_count": 39,
   "metadata": {
    "collapsed": false
   },
   "outputs": [
    {
     "data": {
      "text/plain": [
       "[\"Here are two reasons companies fail: they only do more of the same, or they only do what's new\",\n",
       " 'To me the real, real solution to quality growth is figuring out the balance between two activities: exploration and exploitation',\n",
       " ' Both are necessary, but it can be too much of a good thing',\n",
       " 'Consider Facit',\n",
       " \" I'm actually old enough to remember them\"]"
      ]
     },
     "execution_count": 39,
     "metadata": {},
     "output_type": "execute_result"
    }
   ],
   "source": [
    "sentences_strings_ted = []\n",
    "for line in input_text_noparens.split('\\n'):\n",
    "    m = re.match(r'^(?:(?P<precolon>[^:]{,20}):)?(?P<postcolon>.*)$', line)\n",
    "    sentences_strings_ted.extend(sent for sent in m.groupdict()['postcolon'].split('.') if sent)\n",
    "\n",
    "# Uncomment if you need to save some RAM: these strings are about 50MB.\n",
    "# del input_text, input_text_noparens\n",
    "\n",
    "# Let's view the first few:\n",
    "sentences_strings_ted[:5]"
   ]
  },
  {
   "cell_type": "markdown",
   "metadata": {},
   "source": [
    "Now that we have sentences, we're ready to tokenize each of them into words. This tokenization is imperfect, of course. For instance, how many tokens is \"can't\", and where/how do we split it? We'll take the simplest naive approach of splitting on spaces. Before splitting, we remove non-alphanumeric characters, such as punctuation. You may want to consider the following question: why do we replace these characters with spaces rather than deleting them? Think of a case where this yields a different answer."
   ]
  },
  {
   "cell_type": "code",
   "execution_count": 40,
   "metadata": {
    "collapsed": false
   },
   "outputs": [],
   "source": [
    "sentences_ted = []\n",
    "for sent_str in sentences_strings_ted:\n",
    "    tokens = re.sub(r\"[^a-z0-9]+\", \" \", sent_str.lower()).split()\n",
    "    sentences_ted.append(tokens)"
   ]
  },
  {
   "cell_type": "markdown",
   "metadata": {},
   "source": [
    "Two sample processed sentences:"
   ]
  },
  {
   "cell_type": "code",
   "execution_count": 41,
   "metadata": {
    "collapsed": false
   },
   "outputs": [
    {
     "data": {
      "text/plain": [
       "266694"
      ]
     },
     "execution_count": 41,
     "metadata": {},
     "output_type": "execute_result"
    }
   ],
   "source": [
    "len(sentences_ted)"
   ]
  },
  {
   "cell_type": "code",
   "execution_count": 42,
   "metadata": {
    "collapsed": false
   },
   "outputs": [
    {
     "name": "stdout",
     "output_type": "stream",
     "text": [
      "['here', 'are', 'two', 'reasons', 'companies', 'fail', 'they', 'only', 'do', 'more', 'of', 'the', 'same', 'or', 'they', 'only', 'do', 'what', 's', 'new']\n",
      "['to', 'me', 'the', 'real', 'real', 'solution', 'to', 'quality', 'growth', 'is', 'figuring', 'out', 'the', 'balance', 'between', 'two', 'activities', 'exploration', 'and', 'exploitation']\n"
     ]
    }
   ],
   "source": [
    "print(sentences_ted[0])\n",
    "print(sentences_ted[1])"
   ]
  },
  {
   "cell_type": "markdown",
   "metadata": {},
   "source": [
    "### Part 2: Word Frequencies"
   ]
  },
  {
   "cell_type": "markdown",
   "metadata": {},
   "source": [
    "If you store the counts of the top 1000 words in a list called `counts_ted_top1000`, the code below will plot the histogram requested in the writeup."
   ]
  },
  {
   "cell_type": "code",
   "execution_count": 43,
   "metadata": {
    "collapsed": false
   },
   "outputs": [],
   "source": [
    "counts_ted = collections.Counter()\n",
    "tokens_ted = [token for sentence in sentences_ted for token in sentence]\n",
    "\n",
    "for token in tokens_ted:\n",
    "    counts_ted[token] += 1"
   ]
  },
  {
   "cell_type": "code",
   "execution_count": 44,
   "metadata": {
    "collapsed": false
   },
   "outputs": [],
   "source": [
    "counts_ted_top1000 = counts_ted.most_common(1000)"
   ]
  },
  {
   "cell_type": "markdown",
   "metadata": {},
   "source": [
    "Plot distribution of top-1000 words"
   ]
  },
  {
   "cell_type": "code",
   "execution_count": 45,
   "metadata": {
    "collapsed": false
   },
   "outputs": [
    {
     "data": {
      "text/html": [
       "\n",
       "\n",
       "    <div class=\"bk-root\">\n",
       "        <div class=\"plotdiv\" id=\"d6407c84-b0be-4b0d-883a-90993274f3dc\"></div>\n",
       "    </div>\n",
       "<script type=\"text/javascript\">\n",
       "  \n",
       "  (function(global) {\n",
       "    function now() {\n",
       "      return new Date();\n",
       "    }\n",
       "  \n",
       "    var force = \"\";\n",
       "  \n",
       "    if (typeof (window._bokeh_onload_callbacks) === \"undefined\" || force !== \"\") {\n",
       "      window._bokeh_onload_callbacks = [];\n",
       "      window._bokeh_is_loading = undefined;\n",
       "    }\n",
       "  \n",
       "  \n",
       "    \n",
       "    if (typeof (window._bokeh_timeout) === \"undefined\" || force !== \"\") {\n",
       "      window._bokeh_timeout = Date.now() + 0;\n",
       "      window._bokeh_failed_load = false;\n",
       "    }\n",
       "  \n",
       "    var NB_LOAD_WARNING = {'data': {'text/html':\n",
       "       \"<div style='background-color: #fdd'>\\n\"+\n",
       "       \"<p>\\n\"+\n",
       "       \"BokehJS does not appear to have successfully loaded. If loading BokehJS from CDN, this \\n\"+\n",
       "       \"may be due to a slow or bad network connection. Possible fixes:\\n\"+\n",
       "       \"</p>\\n\"+\n",
       "       \"<ul>\\n\"+\n",
       "       \"<li>re-rerun `output_notebook()` to attempt to load from CDN again, or</li>\\n\"+\n",
       "       \"<li>use INLINE resources instead, as so:</li>\\n\"+\n",
       "       \"</ul>\\n\"+\n",
       "       \"<code>\\n\"+\n",
       "       \"from bokeh.resources import INLINE\\n\"+\n",
       "       \"output_notebook(resources=INLINE)\\n\"+\n",
       "       \"</code>\\n\"+\n",
       "       \"</div>\"}};\n",
       "  \n",
       "    function display_loaded() {\n",
       "      if (window.Bokeh !== undefined) {\n",
       "        Bokeh.$(\"#d6407c84-b0be-4b0d-883a-90993274f3dc\").text(\"BokehJS successfully loaded.\");\n",
       "      } else if (Date.now() < window._bokeh_timeout) {\n",
       "        setTimeout(display_loaded, 100)\n",
       "      }\n",
       "    }\n",
       "  \n",
       "    function run_callbacks() {\n",
       "      window._bokeh_onload_callbacks.forEach(function(callback) { callback() });\n",
       "      delete window._bokeh_onload_callbacks\n",
       "      console.info(\"Bokeh: all callbacks have finished\");\n",
       "    }\n",
       "  \n",
       "    function load_libs(js_urls, callback) {\n",
       "      window._bokeh_onload_callbacks.push(callback);\n",
       "      if (window._bokeh_is_loading > 0) {\n",
       "        console.log(\"Bokeh: BokehJS is being loaded, scheduling callback at\", now());\n",
       "        return null;\n",
       "      }\n",
       "      if (js_urls == null || js_urls.length === 0) {\n",
       "        run_callbacks();\n",
       "        return null;\n",
       "      }\n",
       "      console.log(\"Bokeh: BokehJS not loaded, scheduling load and callback at\", now());\n",
       "      window._bokeh_is_loading = js_urls.length;\n",
       "      for (var i = 0; i < js_urls.length; i++) {\n",
       "        var url = js_urls[i];\n",
       "        var s = document.createElement('script');\n",
       "        s.src = url;\n",
       "        s.async = false;\n",
       "        s.onreadystatechange = s.onload = function() {\n",
       "          window._bokeh_is_loading--;\n",
       "          if (window._bokeh_is_loading === 0) {\n",
       "            console.log(\"Bokeh: all BokehJS libraries loaded\");\n",
       "            run_callbacks()\n",
       "          }\n",
       "        };\n",
       "        s.onerror = function() {\n",
       "          console.warn(\"failed to load library \" + url);\n",
       "        };\n",
       "        console.log(\"Bokeh: injecting script tag for BokehJS library: \", url);\n",
       "        document.getElementsByTagName(\"head\")[0].appendChild(s);\n",
       "      }\n",
       "    };var element = document.getElementById(\"d6407c84-b0be-4b0d-883a-90993274f3dc\");\n",
       "    if (element == null) {\n",
       "      console.log(\"Bokeh: ERROR: autoload.js configured with elementid 'd6407c84-b0be-4b0d-883a-90993274f3dc' but no matching script tag was found. \")\n",
       "      return false;\n",
       "    }\n",
       "  \n",
       "    var js_urls = [];\n",
       "  \n",
       "    var inline_js = [\n",
       "      function(Bokeh) {\n",
       "        Bokeh.$(function() {\n",
       "            var docs_json = {\"5e5e414f-c165-4820-a210-4b4eef480982\":{\"roots\":{\"references\":[{\"attributes\":{\"below\":[{\"id\":\"28c8e8ce-51dd-4414-9fcc-919e05b58b86\",\"type\":\"LinearAxis\"}],\"left\":[{\"id\":\"1736166e-93cf-468e-9085-0e2bdf6d2f23\",\"type\":\"LinearAxis\"}],\"renderers\":[{\"id\":\"28c8e8ce-51dd-4414-9fcc-919e05b58b86\",\"type\":\"LinearAxis\"},{\"id\":\"db1294d5-d4f8-4922-b29d-2e372d57ae3f\",\"type\":\"Grid\"},{\"id\":\"1736166e-93cf-468e-9085-0e2bdf6d2f23\",\"type\":\"LinearAxis\"},{\"id\":\"127c8985-3f4c-4cbc-bc5a-66a49ee94283\",\"type\":\"Grid\"},{\"id\":\"82dfef30-d779-42dd-a814-a9fc8db18d17\",\"type\":\"GlyphRenderer\"}],\"title\":{\"id\":\"18fea07f-b055-4157-b10f-6bc7487c94ad\",\"type\":\"Title\"},\"tool_events\":{\"id\":\"3837f7c3-9d5e-450b-aeb2-e10317e2cca3\",\"type\":\"ToolEvents\"},\"toolbar\":{\"id\":\"b9bd8321-5476-4288-9c0f-15e972bd6e14\",\"type\":\"Toolbar\"},\"toolbar_location\":\"above\",\"x_range\":{\"id\":\"6fcd0573-1af7-4ed7-9432-0cff7f291d6f\",\"type\":\"DataRange1d\"},\"y_range\":{\"id\":\"b68fc4f8-75e0-4961-8b3c-cfcec6a75d02\",\"type\":\"DataRange1d\"}},\"id\":\"94c84e5a-f39c-4c8a-92dc-c522a19d52a2\",\"subtype\":\"Figure\",\"type\":\"Plot\"},{\"attributes\":{\"plot\":{\"id\":\"94c84e5a-f39c-4c8a-92dc-c522a19d52a2\",\"subtype\":\"Figure\",\"type\":\"Plot\"}},\"id\":\"cebbd0b6-7396-4fa7-8a6a-70aa1ffc2a68\",\"type\":\"SaveTool\"},{\"attributes\":{\"callback\":null},\"id\":\"6fcd0573-1af7-4ed7-9432-0cff7f291d6f\",\"type\":\"DataRange1d\"},{\"attributes\":{},\"id\":\"f1b87c55-6638-4b54-bc31-fccff6c03b34\",\"type\":\"BasicTicker\"},{\"attributes\":{},\"id\":\"3837f7c3-9d5e-450b-aeb2-e10317e2cca3\",\"type\":\"ToolEvents\"},{\"attributes\":{\"callback\":null,\"column_names\":[\"right\",\"left\",\"top\"],\"data\":{\"left\":[404.0,2477.44,4550.88,6624.32,8697.76,10771.2,12844.64,14918.08,16991.52,19064.96,21138.4,23211.84,25285.28,27358.72,29432.16,31505.600000000002,33579.04,35652.48,37725.92,39799.36,41872.8,43946.24,46019.68,48093.12,50166.56,52240.0,54313.44,56386.880000000005,58460.32,60533.76,62607.200000000004,64680.64,66754.08,68827.52,70900.96,72974.40000000001,75047.84,77121.28,79194.72,81268.16,83341.6,85415.04000000001,87488.48,89561.92,91635.36,93708.8,95782.24,97855.68000000001,99929.12,102002.56,104076.0,106149.44,108222.88,110296.32,112369.76000000001,114443.2,116516.64,118590.08,120663.52,122736.96,124810.40000000001,126883.84,128957.28,131030.72,133104.16,135177.6,137251.04,139324.48,141397.92,143471.36000000002,145544.80000000002,147618.24,149691.68,151765.12,153838.56,155912.0,157985.44,160058.88,162132.32,164205.76,166279.2,168352.64,170426.08000000002,172499.52000000002,174572.96,176646.4,178719.84,180793.28,182866.72,184940.16,187013.6,189087.04,191160.48,193233.92,195307.36000000002,197380.80000000002,199454.24,201527.68,203601.12,205674.56],\"right\":[2477.44,4550.88,6624.32,8697.76,10771.2,12844.64,14918.08,16991.52,19064.96,21138.4,23211.84,25285.28,27358.72,29432.16,31505.600000000002,33579.04,35652.48,37725.92,39799.36,41872.8,43946.24,46019.68,48093.12,50166.56,52240.0,54313.44,56386.880000000005,58460.32,60533.76,62607.200000000004,64680.64,66754.08,68827.52,70900.96,72974.40000000001,75047.84,77121.28,79194.72,81268.16,83341.6,85415.04000000001,87488.48,89561.92,91635.36,93708.8,95782.24,97855.68000000001,99929.12,102002.56,104076.0,106149.44,108222.88,110296.32,112369.76000000001,114443.2,116516.64,118590.08,120663.52,122736.96,124810.40000000001,126883.84,128957.28,131030.72,133104.16,135177.6,137251.04,139324.48,141397.92,143471.36000000002,145544.80000000002,147618.24,149691.68,151765.12,153838.56,155912.0,157985.44,160058.88,162132.32,164205.76,166279.2,168352.64,170426.08000000002,172499.52000000002,174572.96,176646.4,178719.84,180793.28,182866.72,184940.16,187013.6,189087.04,191160.48,193233.92,195307.36000000002,197380.80000000002,199454.24,201527.68,203601.12,205674.56,207748.0],\"top\":[0.0003892082722432286,3.327803071224632e-05,1.3504128404969522e-05,8.681225403194689e-06,8.198935103017207e-06,5.305193301952315e-06,4.340612701597344e-06,1.929161200709931e-06,2.893741801064899e-06,1.929161200709929e-06,9.645806003549663e-07,9.645806003549663e-07,1.929161200709929e-06,4.822903001774831e-07,9.645806003549646e-07,4.822903001774831e-07,0.0,4.82290300177484e-07,0.0,0.0,0.0,0.0,0.0,4.82290300177484e-07,0.0,0.0,0.0,4.82290300177484e-07,0.0,0.0,4.82290300177484e-07,0.0,4.822903001774823e-07,0.0,4.822903001774823e-07,4.822903001774857e-07,0.0,4.822903001774823e-07,0.0,4.822903001774823e-07,0.0,0.0,0.0,0.0,0.0,4.822903001774823e-07,0.0,0.0,0.0,0.0,4.822903001774823e-07,0.0,0.0,0.0,0.0,4.822903001774823e-07,0.0,0.0,0.0,0.0,4.822903001774857e-07,0.0,0.0,0.0,0.0,0.0,0.0,0.0,0.0,0.0,0.0,4.822903001774823e-07,0.0,0.0,0.0,0.0,0.0,0.0,0.0,0.0,0.0,0.0,0.0,0.0,0.0,0.0,0.0,0.0,0.0,0.0,0.0,0.0,0.0,0.0,0.0,0.0,0.0,0.0,0.0,4.822903001774823e-07]}},\"id\":\"1d37a12d-dbac-4ed6-beee-c5059022aa8a\",\"type\":\"ColumnDataSource\"},{\"attributes\":{\"active_drag\":\"auto\",\"active_scroll\":\"auto\",\"active_tap\":\"auto\",\"tools\":[{\"id\":\"7a9458a6-f47e-405c-b04b-26a1f3bf0912\",\"type\":\"PanTool\"},{\"id\":\"c1ffa7f7-fc58-44cc-be26-6d36dc189c97\",\"type\":\"WheelZoomTool\"},{\"id\":\"f121e465-7118-41a1-ab7c-933d16b56562\",\"type\":\"ResetTool\"},{\"id\":\"cebbd0b6-7396-4fa7-8a6a-70aa1ffc2a68\",\"type\":\"SaveTool\"}]},\"id\":\"b9bd8321-5476-4288-9c0f-15e972bd6e14\",\"type\":\"Toolbar\"},{\"attributes\":{\"data_source\":{\"id\":\"1d37a12d-dbac-4ed6-beee-c5059022aa8a\",\"type\":\"ColumnDataSource\"},\"glyph\":{\"id\":\"b43cdb58-02af-416c-a83a-3281cbeb1f28\",\"type\":\"Quad\"},\"hover_glyph\":null,\"nonselection_glyph\":{\"id\":\"c5d537a5-40dd-44e8-a181-308575d73ae9\",\"type\":\"Quad\"},\"selection_glyph\":null},\"id\":\"82dfef30-d779-42dd-a814-a9fc8db18d17\",\"type\":\"GlyphRenderer\"},{\"attributes\":{\"plot\":{\"id\":\"94c84e5a-f39c-4c8a-92dc-c522a19d52a2\",\"subtype\":\"Figure\",\"type\":\"Plot\"}},\"id\":\"c1ffa7f7-fc58-44cc-be26-6d36dc189c97\",\"type\":\"WheelZoomTool\"},{\"attributes\":{},\"id\":\"12c51334-d930-485a-8e62-475c92e530a9\",\"type\":\"BasicTickFormatter\"},{\"attributes\":{\"bottom\":{\"value\":0},\"fill_color\":{\"value\":\"#1f77b4\"},\"left\":{\"field\":\"left\"},\"line_color\":{\"value\":\"#555555\"},\"right\":{\"field\":\"right\"},\"top\":{\"field\":\"top\"}},\"id\":\"b43cdb58-02af-416c-a83a-3281cbeb1f28\",\"type\":\"Quad\"},{\"attributes\":{},\"id\":\"915f779a-da6a-406d-8346-013aac557efa\",\"type\":\"BasicTickFormatter\"},{\"attributes\":{\"callback\":null},\"id\":\"b68fc4f8-75e0-4961-8b3c-cfcec6a75d02\",\"type\":\"DataRange1d\"},{\"attributes\":{\"formatter\":{\"id\":\"12c51334-d930-485a-8e62-475c92e530a9\",\"type\":\"BasicTickFormatter\"},\"plot\":{\"id\":\"94c84e5a-f39c-4c8a-92dc-c522a19d52a2\",\"subtype\":\"Figure\",\"type\":\"Plot\"},\"ticker\":{\"id\":\"f1b87c55-6638-4b54-bc31-fccff6c03b34\",\"type\":\"BasicTicker\"}},\"id\":\"28c8e8ce-51dd-4414-9fcc-919e05b58b86\",\"type\":\"LinearAxis\"},{\"attributes\":{\"plot\":{\"id\":\"94c84e5a-f39c-4c8a-92dc-c522a19d52a2\",\"subtype\":\"Figure\",\"type\":\"Plot\"}},\"id\":\"7a9458a6-f47e-405c-b04b-26a1f3bf0912\",\"type\":\"PanTool\"},{\"attributes\":{},\"id\":\"be9923a4-cfcf-4789-9f2f-857bd4ce5e1b\",\"type\":\"BasicTicker\"},{\"attributes\":{\"dimension\":1,\"plot\":{\"id\":\"94c84e5a-f39c-4c8a-92dc-c522a19d52a2\",\"subtype\":\"Figure\",\"type\":\"Plot\"},\"ticker\":{\"id\":\"be9923a4-cfcf-4789-9f2f-857bd4ce5e1b\",\"type\":\"BasicTicker\"}},\"id\":\"127c8985-3f4c-4cbc-bc5a-66a49ee94283\",\"type\":\"Grid\"},{\"attributes\":{\"plot\":{\"id\":\"94c84e5a-f39c-4c8a-92dc-c522a19d52a2\",\"subtype\":\"Figure\",\"type\":\"Plot\"}},\"id\":\"f121e465-7118-41a1-ab7c-933d16b56562\",\"type\":\"ResetTool\"},{\"attributes\":{\"plot\":null,\"text\":\"Top-1000 words distribution\"},\"id\":\"18fea07f-b055-4157-b10f-6bc7487c94ad\",\"type\":\"Title\"},{\"attributes\":{\"formatter\":{\"id\":\"915f779a-da6a-406d-8346-013aac557efa\",\"type\":\"BasicTickFormatter\"},\"plot\":{\"id\":\"94c84e5a-f39c-4c8a-92dc-c522a19d52a2\",\"subtype\":\"Figure\",\"type\":\"Plot\"},\"ticker\":{\"id\":\"be9923a4-cfcf-4789-9f2f-857bd4ce5e1b\",\"type\":\"BasicTicker\"}},\"id\":\"1736166e-93cf-468e-9085-0e2bdf6d2f23\",\"type\":\"LinearAxis\"},{\"attributes\":{\"plot\":{\"id\":\"94c84e5a-f39c-4c8a-92dc-c522a19d52a2\",\"subtype\":\"Figure\",\"type\":\"Plot\"},\"ticker\":{\"id\":\"f1b87c55-6638-4b54-bc31-fccff6c03b34\",\"type\":\"BasicTicker\"}},\"id\":\"db1294d5-d4f8-4922-b29d-2e372d57ae3f\",\"type\":\"Grid\"},{\"attributes\":{\"bottom\":{\"value\":0},\"fill_alpha\":{\"value\":0.1},\"fill_color\":{\"value\":\"#1f77b4\"},\"left\":{\"field\":\"left\"},\"line_alpha\":{\"value\":0.1},\"line_color\":{\"value\":\"#1f77b4\"},\"right\":{\"field\":\"right\"},\"top\":{\"field\":\"top\"}},\"id\":\"c5d537a5-40dd-44e8-a181-308575d73ae9\",\"type\":\"Quad\"}],\"root_ids\":[\"94c84e5a-f39c-4c8a-92dc-c522a19d52a2\"]},\"title\":\"Bokeh Application\",\"version\":\"0.12.2\"}};\n",
       "            var render_items = [{\"docid\":\"5e5e414f-c165-4820-a210-4b4eef480982\",\"elementid\":\"d6407c84-b0be-4b0d-883a-90993274f3dc\",\"modelid\":\"94c84e5a-f39c-4c8a-92dc-c522a19d52a2\"}];\n",
       "            \n",
       "            Bokeh.embed.embed_items(docs_json, render_items);\n",
       "        });\n",
       "      },\n",
       "      function(Bokeh) {\n",
       "      }\n",
       "    ];\n",
       "  \n",
       "    function run_inline_js() {\n",
       "      \n",
       "      if ((window.Bokeh !== undefined) || (force === \"1\")) {\n",
       "        for (var i = 0; i < inline_js.length; i++) {\n",
       "          inline_js[i](window.Bokeh);\n",
       "        }if (force === \"1\") {\n",
       "          display_loaded();\n",
       "        }} else if (Date.now() < window._bokeh_timeout) {\n",
       "        setTimeout(run_inline_js, 100);\n",
       "      } else if (!window._bokeh_failed_load) {\n",
       "        console.log(\"Bokeh: BokehJS failed to load within specified timeout.\");\n",
       "        window._bokeh_failed_load = true;\n",
       "      } else if (!force) {\n",
       "        var cell = $(\"#d6407c84-b0be-4b0d-883a-90993274f3dc\").parents('.cell').data().cell;\n",
       "        cell.output_area.append_execute_result(NB_LOAD_WARNING)\n",
       "      }\n",
       "  \n",
       "    }\n",
       "  \n",
       "    if (window._bokeh_is_loading === 0) {\n",
       "      console.log(\"Bokeh: BokehJS loaded, going straight to plotting\");\n",
       "      run_inline_js();\n",
       "    } else {\n",
       "      load_libs(js_urls, function() {\n",
       "        console.log(\"Bokeh: BokehJS plotting callback run at\", now());\n",
       "        run_inline_js();\n",
       "      });\n",
       "    }\n",
       "  }(this));\n",
       "</script>"
      ]
     },
     "metadata": {},
     "output_type": "display_data"
    }
   ],
   "source": [
    "hist, edges = np.histogram([x[1] for x in counts_ted_top1000], density=True, bins=100, normed=True)\n",
    "\n",
    "p = figure(tools=\"pan,wheel_zoom,reset,save\",\n",
    "           toolbar_location=\"above\",\n",
    "           title=\"Top-1000 words distribution\")\n",
    "p.quad(top=hist, bottom=0, left=edges[:-1], right=edges[1:], line_color=\"#555555\")\n",
    "show(p)"
   ]
  },
  {
   "cell_type": "markdown",
   "metadata": {},
   "source": [
    "### Part 3: Train Word2Vec"
   ]
  },
  {
   "cell_type": "code",
   "execution_count": 46,
   "metadata": {
    "collapsed": false
   },
   "outputs": [],
   "source": [
    "from gensim.models import Word2Vec"
   ]
  },
  {
   "cell_type": "code",
   "execution_count": 47,
   "metadata": {
    "collapsed": true
   },
   "outputs": [],
   "source": [
    "model_ted = Word2Vec(sentences_ted, size=100, window=5, min_count=10, workers=1)"
   ]
  },
  {
   "cell_type": "markdown",
   "metadata": {},
   "source": [
    "### Part 4: Ted Learnt Representations"
   ]
  },
  {
   "cell_type": "markdown",
   "metadata": {},
   "source": [
    "Finding similar words: (see gensim docs for more functionality of `most_similar`)"
   ]
  },
  {
   "cell_type": "code",
   "execution_count": 48,
   "metadata": {
    "collapsed": false
   },
   "outputs": [
    {
     "data": {
      "text/plain": [
       "[('woman', 0.8323485851287842),\n",
       " ('guy', 0.8244491219520569),\n",
       " ('lady', 0.7795435190200806),\n",
       " ('boy', 0.763978123664856),\n",
       " ('girl', 0.7574023008346558),\n",
       " ('gentleman', 0.7141171097755432),\n",
       " ('soldier', 0.6908928155899048),\n",
       " ('poet', 0.6786893606185913),\n",
       " ('kid', 0.6668668389320374),\n",
       " ('rabbi', 0.659658670425415)]"
      ]
     },
     "execution_count": 48,
     "metadata": {},
     "output_type": "execute_result"
    }
   ],
   "source": [
    "model_ted.most_similar(\"man\")"
   ]
  },
  {
   "cell_type": "code",
   "execution_count": 49,
   "metadata": {
    "collapsed": false
   },
   "outputs": [
    {
     "data": {
      "text/plain": [
       "[('machine', 0.7349832057952881),\n",
       " ('software', 0.6983097791671753),\n",
       " ('robot', 0.6935969591140747),\n",
       " ('device', 0.6575433015823364),\n",
       " ('3d', 0.6458271741867065),\n",
       " ('program', 0.6306606531143188),\n",
       " ('video', 0.6246740818023682),\n",
       " ('mechanical', 0.6219532489776611),\n",
       " ('camera', 0.614858865737915),\n",
       " ('mouse', 0.610051691532135)]"
      ]
     },
     "execution_count": 49,
     "metadata": {},
     "output_type": "execute_result"
    }
   ],
   "source": [
    "model_ted.most_similar(\"computer\")"
   ]
  },
  {
   "cell_type": "code",
   "execution_count": 50,
   "metadata": {
    "collapsed": false
   },
   "outputs": [
    {
     "data": {
      "text/plain": [
       "[('air', 0.8449562788009644),\n",
       " ('heat', 0.8034026622772217),\n",
       " ('gas', 0.7626512050628662),\n",
       " ('food', 0.7375843524932861),\n",
       " ('soil', 0.7347041368484497),\n",
       " ('wind', 0.7335248589515686),\n",
       " ('fish', 0.7300703525543213),\n",
       " ('oil', 0.7274936437606812),\n",
       " ('sunlight', 0.7248802185058594),\n",
       " ('fresh', 0.7248294949531555)]"
      ]
     },
     "execution_count": 50,
     "metadata": {},
     "output_type": "execute_result"
    }
   ],
   "source": [
    "model_ted.most_similar(\"water\")"
   ]
  },
  {
   "cell_type": "code",
   "execution_count": 51,
   "metadata": {
    "collapsed": false
   },
   "outputs": [
    {
     "data": {
      "text/plain": [
       "[('card', 0.7170721292495728),\n",
       " ('phones', 0.6993678212165833),\n",
       " ('facebook', 0.6678334474563599),\n",
       " ('mobile', 0.6541895270347595),\n",
       " ('file', 0.6432135105133057),\n",
       " ('iphone', 0.631677508354187),\n",
       " ('telephone', 0.6288535594940186),\n",
       " ('camera', 0.6208745241165161),\n",
       " ('cell', 0.6188596487045288),\n",
       " ('license', 0.6004078388214111)]"
      ]
     },
     "execution_count": 51,
     "metadata": {},
     "output_type": "execute_result"
    }
   ],
   "source": [
    "model_ted.most_similar(\"phone\")"
   ]
  },
  {
   "cell_type": "code",
   "execution_count": 52,
   "metadata": {
    "collapsed": false
   },
   "outputs": [
    {
     "data": {
      "text/plain": [
       "[('attention', 0.6325304508209229),\n",
       " ('cash', 0.5851557850837708),\n",
       " ('food', 0.5767323970794678),\n",
       " ('credit', 0.5657031536102295),\n",
       " ('dollars', 0.5645880103111267),\n",
       " ('electricity', 0.5620164275169373),\n",
       " ('effort', 0.5595004558563232),\n",
       " ('funds', 0.5556673407554626),\n",
       " ('jobs', 0.5465083718299866),\n",
       " ('weight', 0.5413886308670044)]"
      ]
     },
     "execution_count": 52,
     "metadata": {},
     "output_type": "execute_result"
    }
   ],
   "source": [
    "model_ted.most_similar(\"money\")"
   ]
  },
  {
   "cell_type": "markdown",
   "metadata": {},
   "source": [
    "#### t-SNE visualization\n",
    "To use the t-SNE code below, first put a list of the top 1000 words (as strings) into a variable `words_top_ted`. The following code gets the corresponding vectors from the model, assuming it's called `model_ted`:"
   ]
  },
  {
   "cell_type": "code",
   "execution_count": 53,
   "metadata": {
    "collapsed": false
   },
   "outputs": [],
   "source": [
    "words_top_ted = [pair[0] for pair in counts_ted_top1000]\n",
    "\n",
    "# This assumes words_top_ted is a list of strings, the top 1000 words\n",
    "words_top_vec_ted = model_ted[words_top_ted]"
   ]
  },
  {
   "cell_type": "code",
   "execution_count": 54,
   "metadata": {
    "collapsed": false
   },
   "outputs": [],
   "source": [
    "from sklearn.manifold import TSNE\n",
    "tsne = TSNE(n_components=2, random_state=0)\n",
    "words_top_ted_tsne = tsne.fit_transform(words_top_vec_ted)"
   ]
  },
  {
   "cell_type": "code",
   "execution_count": 55,
   "metadata": {
    "collapsed": false
   },
   "outputs": [
    {
     "data": {
      "text/html": [
       "\n",
       "\n",
       "    <div class=\"bk-root\">\n",
       "        <div class=\"plotdiv\" id=\"235aff79-4b0c-4143-a81a-230bb4fdd122\"></div>\n",
       "    </div>\n",
       "<script type=\"text/javascript\">\n",
       "  \n",
       "  (function(global) {\n",
       "    function now() {\n",
       "      return new Date();\n",
       "    }\n",
       "  \n",
       "    var force = \"\";\n",
       "  \n",
       "    if (typeof (window._bokeh_onload_callbacks) === \"undefined\" || force !== \"\") {\n",
       "      window._bokeh_onload_callbacks = [];\n",
       "      window._bokeh_is_loading = undefined;\n",
       "    }\n",
       "  \n",
       "  \n",
       "    \n",
       "    if (typeof (window._bokeh_timeout) === \"undefined\" || force !== \"\") {\n",
       "      window._bokeh_timeout = Date.now() + 0;\n",
       "      window._bokeh_failed_load = false;\n",
       "    }\n",
       "  \n",
       "    var NB_LOAD_WARNING = {'data': {'text/html':\n",
       "       \"<div style='background-color: #fdd'>\\n\"+\n",
       "       \"<p>\\n\"+\n",
       "       \"BokehJS does not appear to have successfully loaded. If loading BokehJS from CDN, this \\n\"+\n",
       "       \"may be due to a slow or bad network connection. Possible fixes:\\n\"+\n",
       "       \"</p>\\n\"+\n",
       "       \"<ul>\\n\"+\n",
       "       \"<li>re-rerun `output_notebook()` to attempt to load from CDN again, or</li>\\n\"+\n",
       "       \"<li>use INLINE resources instead, as so:</li>\\n\"+\n",
       "       \"</ul>\\n\"+\n",
       "       \"<code>\\n\"+\n",
       "       \"from bokeh.resources import INLINE\\n\"+\n",
       "       \"output_notebook(resources=INLINE)\\n\"+\n",
       "       \"</code>\\n\"+\n",
       "       \"</div>\"}};\n",
       "  \n",
       "    function display_loaded() {\n",
       "      if (window.Bokeh !== undefined) {\n",
       "        Bokeh.$(\"#235aff79-4b0c-4143-a81a-230bb4fdd122\").text(\"BokehJS successfully loaded.\");\n",
       "      } else if (Date.now() < window._bokeh_timeout) {\n",
       "        setTimeout(display_loaded, 100)\n",
       "      }\n",
       "    }\n",
       "  \n",
       "    function run_callbacks() {\n",
       "      window._bokeh_onload_callbacks.forEach(function(callback) { callback() });\n",
       "      delete window._bokeh_onload_callbacks\n",
       "      console.info(\"Bokeh: all callbacks have finished\");\n",
       "    }\n",
       "  \n",
       "    function load_libs(js_urls, callback) {\n",
       "      window._bokeh_onload_callbacks.push(callback);\n",
       "      if (window._bokeh_is_loading > 0) {\n",
       "        console.log(\"Bokeh: BokehJS is being loaded, scheduling callback at\", now());\n",
       "        return null;\n",
       "      }\n",
       "      if (js_urls == null || js_urls.length === 0) {\n",
       "        run_callbacks();\n",
       "        return null;\n",
       "      }\n",
       "      console.log(\"Bokeh: BokehJS not loaded, scheduling load and callback at\", now());\n",
       "      window._bokeh_is_loading = js_urls.length;\n",
       "      for (var i = 0; i < js_urls.length; i++) {\n",
       "        var url = js_urls[i];\n",
       "        var s = document.createElement('script');\n",
       "        s.src = url;\n",
       "        s.async = false;\n",
       "        s.onreadystatechange = s.onload = function() {\n",
       "          window._bokeh_is_loading--;\n",
       "          if (window._bokeh_is_loading === 0) {\n",
       "            console.log(\"Bokeh: all BokehJS libraries loaded\");\n",
       "            run_callbacks()\n",
       "          }\n",
       "        };\n",
       "        s.onerror = function() {\n",
       "          console.warn(\"failed to load library \" + url);\n",
       "        };\n",
       "        console.log(\"Bokeh: injecting script tag for BokehJS library: \", url);\n",
       "        document.getElementsByTagName(\"head\")[0].appendChild(s);\n",
       "      }\n",
       "    };var element = document.getElementById(\"235aff79-4b0c-4143-a81a-230bb4fdd122\");\n",
       "    if (element == null) {\n",
       "      console.log(\"Bokeh: ERROR: autoload.js configured with elementid '235aff79-4b0c-4143-a81a-230bb4fdd122' but no matching script tag was found. \")\n",
       "      return false;\n",
       "    }\n",
       "  \n",
       "    var js_urls = [];\n",
       "  \n",
       "    var inline_js = [\n",
       "      function(Bokeh) {\n",
       "        Bokeh.$(function() {\n",
       "            var docs_json = {\"dcd42561-49b7-4afc-b56d-e9c470db127e\":{\"roots\":{\"references\":[{\"attributes\":{},\"id\":\"6ff907da-bb8a-4c1e-b06b-6feab3161661\",\"type\":\"ToolEvents\"},{\"attributes\":{},\"id\":\"b02937fa-8aaa-4b17-9b3b-29ed97a9a158\",\"type\":\"BasicTicker\"},{\"attributes\":{\"formatter\":{\"id\":\"1251bcf4-809b-4542-85c0-9ee1e5431b09\",\"type\":\"BasicTickFormatter\"},\"plot\":{\"id\":\"416b428e-a71e-4625-962a-c10512e38103\",\"subtype\":\"Figure\",\"type\":\"Plot\"},\"ticker\":{\"id\":\"b02937fa-8aaa-4b17-9b3b-29ed97a9a158\",\"type\":\"BasicTicker\"}},\"id\":\"f5d1899c-65fa-477d-8f08-5726ec95b919\",\"type\":\"LinearAxis\"},{\"attributes\":{\"callback\":null},\"id\":\"b8cabad4-88c2-4763-a171-112b399e8af9\",\"type\":\"DataRange1d\"},{\"attributes\":{\"plot\":{\"id\":\"416b428e-a71e-4625-962a-c10512e38103\",\"subtype\":\"Figure\",\"type\":\"Plot\"},\"source\":{\"id\":\"78bb2f3c-ea4e-4117-be49-bafadbd91fbd\",\"type\":\"ColumnDataSource\"},\"text\":{\"field\":\"names\"},\"text_align\":\"center\",\"text_color\":{\"value\":\"#555555\"},\"text_font_size\":{\"value\":\"8pt\"},\"x\":{\"field\":\"x1\"},\"y\":{\"field\":\"x2\"},\"y_offset\":{\"value\":6}},\"id\":\"dc8486a1-362e-46de-b8f7-3d55837952ca\",\"type\":\"LabelSet\"},{\"attributes\":{\"active_drag\":\"auto\",\"active_scroll\":\"auto\",\"active_tap\":\"auto\",\"tools\":[{\"id\":\"48001f80-f8f2-46b1-852f-99deee60885d\",\"type\":\"PanTool\"},{\"id\":\"b5215960-eb11-4f59-959d-c6d29d420f61\",\"type\":\"WheelZoomTool\"},{\"id\":\"2d22364a-7283-468a-9a55-a7d6d7941023\",\"type\":\"ResetTool\"},{\"id\":\"77cb5644-3b8a-41b7-865d-febe71f278ab\",\"type\":\"SaveTool\"}]},\"id\":\"95887a99-6fa5-433e-934d-c37ca6c4413b\",\"type\":\"Toolbar\"},{\"attributes\":{},\"id\":\"502de46f-afdc-480d-bcb8-6f04d530cd41\",\"type\":\"BasicTickFormatter\"},{\"attributes\":{\"plot\":{\"id\":\"416b428e-a71e-4625-962a-c10512e38103\",\"subtype\":\"Figure\",\"type\":\"Plot\"}},\"id\":\"77cb5644-3b8a-41b7-865d-febe71f278ab\",\"type\":\"SaveTool\"},{\"attributes\":{\"fill_color\":{\"value\":\"#1f77b4\"},\"line_color\":{\"value\":\"#1f77b4\"},\"size\":{\"units\":\"screen\",\"value\":8},\"x\":{\"field\":\"x1\"},\"y\":{\"field\":\"x2\"}},\"id\":\"3d2dd770-e605-4a43-b3c5-230baa173bbd\",\"type\":\"Circle\"},{\"attributes\":{},\"id\":\"3025414a-7f32-492e-80fa-d18bc808f40e\",\"type\":\"BasicTicker\"},{\"attributes\":{\"data_source\":{\"id\":\"78bb2f3c-ea4e-4117-be49-bafadbd91fbd\",\"type\":\"ColumnDataSource\"},\"glyph\":{\"id\":\"3d2dd770-e605-4a43-b3c5-230baa173bbd\",\"type\":\"Circle\"},\"hover_glyph\":null,\"nonselection_glyph\":{\"id\":\"d6d0adf9-52a0-47dd-95f4-2089e61929cc\",\"type\":\"Circle\"},\"selection_glyph\":null},\"id\":\"6cddacf3-24ad-41b2-a3ee-6eedb62390a0\",\"type\":\"GlyphRenderer\"},{\"attributes\":{\"plot\":{\"id\":\"416b428e-a71e-4625-962a-c10512e38103\",\"subtype\":\"Figure\",\"type\":\"Plot\"}},\"id\":\"48001f80-f8f2-46b1-852f-99deee60885d\",\"type\":\"PanTool\"},{\"attributes\":{\"plot\":{\"id\":\"416b428e-a71e-4625-962a-c10512e38103\",\"subtype\":\"Figure\",\"type\":\"Plot\"}},\"id\":\"2d22364a-7283-468a-9a55-a7d6d7941023\",\"type\":\"ResetTool\"},{\"attributes\":{\"below\":[{\"id\":\"f5d1899c-65fa-477d-8f08-5726ec95b919\",\"type\":\"LinearAxis\"}],\"left\":[{\"id\":\"f8f49e26-2de8-433c-becc-193c285ae2ac\",\"type\":\"LinearAxis\"}],\"renderers\":[{\"id\":\"f5d1899c-65fa-477d-8f08-5726ec95b919\",\"type\":\"LinearAxis\"},{\"id\":\"2acf5945-950d-41ca-83b0-f446ed2b5e2a\",\"type\":\"Grid\"},{\"id\":\"f8f49e26-2de8-433c-becc-193c285ae2ac\",\"type\":\"LinearAxis\"},{\"id\":\"b85d57e7-0c7c-4cc3-ac58-621f285db526\",\"type\":\"Grid\"},{\"id\":\"6cddacf3-24ad-41b2-a3ee-6eedb62390a0\",\"type\":\"GlyphRenderer\"},{\"id\":\"dc8486a1-362e-46de-b8f7-3d55837952ca\",\"type\":\"LabelSet\"}],\"title\":{\"id\":\"e131fb67-0171-4df0-a26c-84ca4395237a\",\"type\":\"Title\"},\"tool_events\":{\"id\":\"6ff907da-bb8a-4c1e-b06b-6feab3161661\",\"type\":\"ToolEvents\"},\"toolbar\":{\"id\":\"95887a99-6fa5-433e-934d-c37ca6c4413b\",\"type\":\"Toolbar\"},\"toolbar_location\":\"above\",\"x_range\":{\"id\":\"b8cabad4-88c2-4763-a171-112b399e8af9\",\"type\":\"DataRange1d\"},\"y_range\":{\"id\":\"f714dc68-adaa-4f33-8909-9448bd470c3b\",\"type\":\"DataRange1d\"}},\"id\":\"416b428e-a71e-4625-962a-c10512e38103\",\"subtype\":\"Figure\",\"type\":\"Plot\"},{\"attributes\":{\"plot\":{\"id\":\"416b428e-a71e-4625-962a-c10512e38103\",\"subtype\":\"Figure\",\"type\":\"Plot\"}},\"id\":\"b5215960-eb11-4f59-959d-c6d29d420f61\",\"type\":\"WheelZoomTool\"},{\"attributes\":{\"fill_alpha\":{\"value\":0.1},\"fill_color\":{\"value\":\"#1f77b4\"},\"line_alpha\":{\"value\":0.1},\"line_color\":{\"value\":\"#1f77b4\"},\"size\":{\"units\":\"screen\",\"value\":8},\"x\":{\"field\":\"x1\"},\"y\":{\"field\":\"x2\"}},\"id\":\"d6d0adf9-52a0-47dd-95f4-2089e61929cc\",\"type\":\"Circle\"},{\"attributes\":{\"plot\":{\"id\":\"416b428e-a71e-4625-962a-c10512e38103\",\"subtype\":\"Figure\",\"type\":\"Plot\"},\"ticker\":{\"id\":\"b02937fa-8aaa-4b17-9b3b-29ed97a9a158\",\"type\":\"BasicTicker\"}},\"id\":\"2acf5945-950d-41ca-83b0-f446ed2b5e2a\",\"type\":\"Grid\"},{\"attributes\":{\"callback\":null},\"id\":\"f714dc68-adaa-4f33-8909-9448bd470c3b\",\"type\":\"DataRange1d\"},{\"attributes\":{\"callback\":null,\"column_names\":[\"names\",\"x1\",\"x2\"],\"data\":{\"names\":[\"the\",\"and\",\"to\",\"of\",\"a\",\"that\",\"i\",\"in\",\"it\",\"you\",\"we\",\"is\",\"s\",\"this\",\"so\",\"they\",\"was\",\"for\",\"are\",\"have\",\"but\",\"what\",\"on\",\"with\",\"can\",\"t\",\"about\",\"there\",\"be\",\"as\",\"at\",\"all\",\"not\",\"do\",\"my\",\"one\",\"re\",\"people\",\"like\",\"if\",\"from\",\"now\",\"our\",\"he\",\"an\",\"just\",\"these\",\"or\",\"when\",\"because\",\"very\",\"me\",\"out\",\"by\",\"them\",\"how\",\"know\",\"up\",\"going\",\"had\",\"more\",\"think\",\"who\",\"were\",\"see\",\"your\",\"their\",\"which\",\"would\",\"here\",\"really\",\"get\",\"ve\",\"then\",\"m\",\"world\",\"us\",\"time\",\"some\",\"has\",\"don\",\"actually\",\"into\",\"way\",\"where\",\"will\",\"years\",\"things\",\"other\",\"no\",\"could\",\"go\",\"well\",\"want\",\"been\",\"make\",\"right\",\"she\",\"said\",\"something\",\"those\",\"first\",\"two\",\"than\",\"much\",\"also\",\"look\",\"new\",\"thing\",\"little\",\"got\",\"back\",\"over\",\"most\",\"say\",\"even\",\"his\",\"life\",\"only\",\"work\",\"many\",\"take\",\"need\",\"did\",\"lot\",\"kind\",\"why\",\"good\",\"around\",\"every\",\"different\",\"down\",\"ll\",\"let\",\"her\",\"through\",\"same\",\"being\",\"come\",\"d\",\"day\",\"year\",\"three\",\"use\",\"doing\",\"put\",\"called\",\"any\",\"today\",\"percent\",\"made\",\"after\",\"thank\",\"tell\",\"great\",\"human\",\"find\",\"didn\",\"fact\",\"talk\",\"change\",\"started\",\"another\",\"idea\",\"big\",\"last\",\"own\",\"before\",\"its\",\"never\",\"should\",\"better\",\"give\",\"thought\",\"went\",\"might\",\"important\",\"000\",\"again\",\"able\",\"together\",\"still\",\"problem\",\"off\",\"next\",\"part\",\"course\",\"system\",\"him\",\"does\",\"each\",\"start\",\"show\",\"long\",\"ago\",\"story\",\"came\",\"brain\",\"few\",\"bit\",\"between\",\"used\",\"place\",\"technology\",\"women\",\"too\",\"old\",\"mean\",\"data\",\"water\",\"looking\",\"question\",\"maybe\",\"found\",\"love\",\"doesn\",\"end\",\"example\",\"10\",\"done\",\"point\",\"four\",\"real\",\"wanted\",\"ever\",\"school\",\"understand\",\"sort\",\"live\",\"call\",\"whole\",\"children\",\"always\",\"trying\",\"may\",\"person\",\"away\",\"believe\",\"feel\",\"try\",\"million\",\"working\",\"help\",\"everything\",\"five\",\"country\",\"thinking\",\"second\",\"using\",\"information\",\"money\",\"means\",\"took\",\"power\",\"times\",\"high\",\"space\",\"number\",\"kids\",\"home\",\"become\",\"create\",\"small\",\"design\",\"making\",\"best\",\"left\",\"getting\",\"future\",\"enough\",\"man\",\"quite\",\"city\",\"without\",\"sense\",\"happened\",\"comes\",\"social\",\"probably\",\"less\",\"light\",\"talking\",\"energy\",\"am\",\"building\",\"science\",\"food\",\"body\",\"told\",\"interesting\",\"ask\",\"half\",\"pretty\",\"hard\",\"play\",\"anything\",\"lives\",\"countries\",\"such\",\"coming\",\"family\",\"stuff\",\"dollars\",\"earth\",\"moment\",\"20\",\"imagine\",\"across\",\"side\",\"while\",\"saw\",\"happen\",\"once\",\"okay\",\"build\",\"having\",\"men\",\"later\",\"experience\",\"asked\",\"makes\",\"living\",\"seen\",\"says\",\"room\",\"hand\",\"simple\",\"health\",\"ways\",\"else\",\"case\",\"yet\",\"almost\",\"young\",\"days\",\"nothing\",\"care\",\"bad\",\"happens\",\"goes\",\"move\",\"states\",\"reason\",\"computer\",\"open\",\"learn\",\"africa\",\"process\",\"inside\",\"someone\",\"six\",\"far\",\"mind\",\"project\",\"remember\",\"single\",\"picture\",\"both\",\"whether\",\"problems\",\"community\",\"basically\",\"saying\",\"already\",\"within\",\"looked\",\"myself\",\"billion\",\"often\",\"possible\",\"business\",\"planet\",\"global\",\"everybody\",\"top\",\"public\",\"sure\",\"set\",\"wrong\",\"book\",\"car\",\"keep\",\"yes\",\"answer\",\"oh\",\"hope\",\"sometimes\",\"history\",\"true\",\"war\",\"guy\",\"child\",\"instead\",\"months\",\"ideas\",\"looks\",\"matter\",\"government\",\"amazing\",\"united\",\"since\",\"cells\",\"age\",\"bring\",\"job\",\"heard\",\"until\",\"face\",\"wasn\",\"100\",\"read\",\"control\",\"isn\",\"research\",\"30\",\"words\",\"u\",\"group\",\"under\",\"self\",\"somebody\",\"built\",\"state\",\"woman\",\"turn\",\"friends\",\"beautiful\",\"line\",\"knew\",\"couple\",\"order\",\"form\",\"yeah\",\"internet\",\"middle\",\"music\",\"piece\",\"nature\",\"head\",\"though\",\"stop\",\"everyone\",\"50\",\"places\",\"video\",\"language\",\"learned\",\"run\",\"night\",\"decided\",\"word\",\"study\",\"cancer\",\"works\",\"taking\",\"became\",\"exactly\",\"species\",\"society\",\"completely\",\"education\",\"against\",\"stories\",\"large\",\"share\",\"level\",\"heart\",\"america\",\"model\",\"gets\",\"questions\",\"mother\",\"god\",\"company\",\"turns\",\"ourselves\",\"happening\",\"art\",\"hear\",\"themselves\",\"must\",\"itself\",\"kinds\",\"rather\",\"students\",\"name\",\"hours\",\"disease\",\"front\",\"house\",\"huge\",\"couldn\",\"created\",\"universe\",\"ok\",\"animals\",\"american\",\"environment\",\"worked\",\"minutes\",\"ones\",\"black\",\"perhaps\",\"1\",\"past\",\"third\",\"along\",\"finally\",\"others\",\"early\",\"sound\",\"game\",\"thousands\",\"century\",\"least\",\"based\",\"per\",\"ted\",\"lots\",\"figure\",\"free\",\"guys\",\"particular\",\"happy\",\"news\",\"learning\",\"entire\",\"won\",\"gave\",\"machine\",\"india\",\"during\",\"systems\",\"air\",\"difference\",\"outside\",\"natural\",\"taken\",\"seven\",\"changed\",\"given\",\"leave\",\"cell\",\"15\",\"close\",\"cities\",\"behind\",\"full\",\"scale\",\"difficult\",\"china\",\"takes\",\"companies\",\"yourself\",\"area\",\"reality\",\"seeing\",\"easy\",\"turned\",\"cost\",\"eyes\",\"moving\",\"team\",\"population\",\"culture\",\"york\",\"hands\",\"whatever\",\"began\",\"needs\",\"terms\",\"image\",\"needed\",\"simply\",\"beginning\",\"father\",\"local\",\"realized\",\"media\",\"death\",\"parents\",\"walk\",\"view\",\"white\",\"market\",\"parts\",\"ocean\",\"economic\",\"eight\",\"powerful\",\"week\",\"known\",\"size\",\"felt\",\"humans\",\"certain\",\"spend\",\"longer\",\"phone\",\"wonderful\",\"cannot\",\"grow\",\"common\",\"tried\",\"center\",\"fish\",\"land\",\"oil\",\"political\",\"interested\",\"deal\",\"red\",\"gone\",\"amount\",\"weeks\",\"opportunity\",\"spent\",\"lost\",\"paper\",\"quickly\",\"national\",\"blue\",\"step\",\"poor\",\"green\",\"buy\",\"wouldn\",\"growth\",\"either\",\"patients\",\"sitting\",\"ability\",\"changes\",\"write\",\"south\",\"challenge\",\"low\",\"growing\",\"friend\",\"field\",\"shows\",\"2\",\"born\",\"rest\",\"climate\",\"40\",\"test\",\"street\",\"surface\",\"incredible\",\"average\",\"scientists\",\"morning\",\"program\",\"physical\",\"pay\",\"value\",\"hundreds\",\"feeling\",\"behavior\",\"met\",\"girl\",\"economy\",\"dna\",\"complex\",\"access\",\"risk\",\"animal\",\"structure\",\"feet\",\"attention\",\"anyone\",\"areas\",\"deep\",\"watch\",\"short\",\"absolutely\",\"brought\",\"speak\",\"bottom\",\"die\",\"numbers\",\"audience\",\"stage\",\"realize\",\"images\",\"law\",\"wrote\",\"understanding\",\"literally\",\"books\",\"knowledge\",\"movement\",\"giving\",\"ground\",\"eat\",\"force\",\"alone\",\"seems\",\"telling\",\"starting\",\"hold\",\"nice\",\"forward\",\"sea\",\"developed\",\"kid\",\"individual\",\"millions\",\"support\",\"miles\",\"running\",\"tools\",\"online\",\"result\",\"act\",\"medical\",\"technologies\",\"north\",\"lab\",\"development\",\"blood\",\"fear\",\"nobody\",\"map\",\"personal\",\"voice\",\"issue\",\"key\",\"material\",\"12\",\"recently\",\"theory\",\"cut\",\"cars\",\"fast\",\"sun\",\"changing\",\"playing\",\"clear\",\"especially\",\"girls\",\"soon\",\"patient\",\"choice\",\"fly\",\"creating\",\"relationship\",\"europe\",\"normal\",\"talked\",\"discovered\",\"gives\",\"generation\",\"dark\",\"type\",\"showed\",\"industry\",\"seem\",\"chance\",\"asking\",\"rate\",\"designed\",\"fun\",\"issues\",\"color\",\"hour\",\"innovation\",\"computers\",\"class\",\"university\",\"several\",\"english\",\"tiny\",\"save\",\"focus\",\"allow\",\"solve\",\"developing\",\"digital\",\"film\",\"network\",\"special\",\"wall\",\"situation\",\"baby\",\"solution\",\"reasons\",\"box\",\"knows\",\"dead\",\"meet\",\"stand\",\"haven\",\"begin\",\"anybody\",\"impact\",\"term\",\"beyond\",\"pictures\",\"please\",\"ice\",\"produce\",\"shape\",\"non\",\"resources\",\"cool\",\"robot\",\"likely\",\"stay\",\"groups\",\"rights\",\"available\",\"major\",\"truth\",\"obviously\",\"evidence\",\"cause\",\"writing\",\"experiment\",\"modern\",\"drug\",\"becomes\",\"incredibly\",\"guess\",\"aren\",\"bigger\",\"product\",\"nine\",\"drugs\",\"lived\",\"involved\",\"google\",\"month\",\"perfect\",\"putting\",\"effect\",\"similar\",\"pick\",\"eye\",\"message\",\"quality\",\"web\",\"violence\",\"security\",\"office\",\"evolution\",\"indeed\",\"general\",\"basic\",\"solar\",\"towards\",\"present\",\"drive\",\"worth\",\"listen\",\"send\",\"revolution\",\"explain\",\"hundred\",\"died\",\"certainly\",\"teach\",\"ready\",\"25\",\"journey\",\"hit\",\"walking\",\"led\",\"approach\",\"international\",\"200\",\"scientific\",\"games\",\"crazy\",\"communities\",\"chinese\",\"potential\",\"60\",\"device\",\"source\",\"camera\",\"rules\",\"carbon\",\"sex\",\"sounds\",\"boy\",\"reach\",\"starts\",\"examples\",\"west\",\"3\",\"success\",\"measure\",\"software\",\"particularly\",\"totally\",\"suddenly\",\"action\",\"college\",\"higher\",\"code\",\"eventually\",\"democracy\",\"minute\",\"sit\",\"among\",\"largest\",\"hospital\",\"showing\",\"period\",\"notice\",\"mass\",\"develop\",\"onto\",\"dream\",\"plants\",\"add\",\"break\",\"memory\",\"everywhere\",\"11\",\"favorite\",\"zero\",\"speed\",\"moved\",\"response\",\"schools\",\"wants\",\"wait\",\"movie\",\"individuals\",\"table\",\"extremely\",\"trust\",\"medicine\",\"follow\",\"anyway\",\"plant\",\"biggest\",\"watching\",\"organization\",\"creative\",\"road\",\"worse\",\"choose\",\"500\",\"lead\",\"results\",\"exciting\",\"grew\",\"materials\",\"jobs\",\"positive\",\"poverty\",\"east\",\"plan\",\"strong\",\"safe\",\"fall\",\"essentially\",\"object\",\"door\",\"continue\",\"further\",\"happiness\",\"vision\",\"son\",\"student\",\"doctor\",\"named\",\"including\",\"objects\",\"role\",\"extraordinary\",\"standing\",\"african\",\"leaders\",\"projects\",\"usually\",\"skin\",\"conversation\",\"models\",\"allowed\",\"supposed\",\"faster\",\"interest\",\"families\",\"police\",\"fight\",\"tree\",\"connected\",\"cases\",\"screen\",\"5\",\"goal\",\"somewhere\",\"finding\",\"shown\",\"buildings\"],\"x1\":[-4.406974487419001,1.6001719488514057,-9.748831953082227,-3.9862014510776085,2.553666090032661,13.141214611290449,0.39064915224464447,2.02508279577716,12.432545409817045,-11.317866411143163,-17.1174465570382,11.444868570205605,11.369678169109203,13.26827029320463,15.891469655919483,-17.15335745336024,13.607234474462913,-5.6869993989529055,8.347330053274552,-14.400708831043149,16.142457156223937,-1.8750693282913238,8.31631695055432,-10.817718302854312,-21.30303323894453,-2.7434548785879382,-4.044267313638182,-1.3614976525009668,-13.854479143389328,-6.216295985004759,17.852312100165236,-6.292090943105089,-4.299994497854169,-13.032751803258442,3.0734959059641622,-2.3998528737822986,8.311645181622461,-13.500879568386447,0.35198704867628117,-7.912483764312035,6.169487008755505,-5.034639348644215,-12.295360119994037,4.575409173699062,2.624159249017549,-2.2560608057779548,-4.598477052498003,-2.0762633705225015,1.2001235941107111,16.073697278361227,1.8123172528132871,0.7893826984431251,8.674693718256535,5.3800370188735025,-11.205743552931523,15.199694718436486,-8.574698152242036,9.952801097604238,-3.1770703744955306,-3.394926155404996,4.831144145051169,-8.25297470582298,-12.15136178436168,8.375777359151439,-8.760998928089109,-10.086613698672915,-12.288898707355292,13.285128820461956,-22.103363872912386,-5.155726215564557,2.546095361061773,-12.460898848800314,-12.717297324303644,2.2220374820569013,-5.021551360867992,-21.259337582543747,-11.228927327829725,-8.473788570718845,3.809261550457561,14.72268413464915,5.262063086013949,-2.8379267389103964,7.889376807575044,-11.078220553847945,0.1428221885076255,-20.570804647888384,-19.012734228648185,-3.8347367785246678,4.352076035013045,9.632128442053608,-21.899903281847507,-10.347243709242802,9.373298729051504,18.867703009082778,-3.0896206872111405,-16.372491348397837,5.915303372674573,4.5348847451013885,8.124738836640603,-2.8099609066960065,-4.602047694119445,-2.0229054474120507,7.906705796280066,-3.16768283751306,3.7583739997440677,-3.145871658137644,0.9990804748666996,-4.1160007172663775,-16.999152800743925,11.021812732278955,18.973541359589447,8.855888440156406,7.721503357260766,-5.469708019278017,7.616847875435769,-7.449997065376151,3.042038837908904,-10.003424903458614,-1.3965090902702855,-13.516081527845506,6.755064516395417,-13.560461996130732,18.86642230598668,17.80205993796068,4.761622747269055,17.065000123760246,13.551532814901998,16.071949550896047,7.768734250652093,5.50643134039273,-2.6114508535048513,8.95088502898199,-20.527719987232775,4.893113930686175,3.408235055344618,7.5145943569674145,-2.1102036572566667,-8.418234674326074,-10.328986339793909,-22.507384086971015,-15.577775902502493,-17.151622509890256,7.963077787974579,-16.39523019449659,2.320936806752411,-11.932856861644325,-5.1866586357387305,-3.3423591778956223,-4.91112983350727,9.233502781852057,-4.726917834910684,3.4884853579440303,-6.730907915566309,-10.104578749419822,0.49682540923584806,-7.32292693015406,-15.305194900050102,5.30440794654353,-13.268099690863849,-10.652628479395862,-17.61712325678031,14.883242979952083,2.353405355525218,-12.626967846731246,1.691727145153957,2.617606223208769,-9.1883220699589,1.312185188987158,2.9848756444232536,-4.631386087066581,-20.86709584520971,5.1035898968883595,-12.50897359447865,-7.180560590065817,-1.1239194988220695,-20.615661498222448,-0.96689410581888,9.406697043825963,2.448641366383931,-3.28203262917972,-4.590491168092875,-1.7390989849089524,-12.679633280874755,8.9768744298034,2.5696288764500963,-13.969004441266955,-8.133280746747706,-12.0756529769602,0.860422344173489,15.834871067070598,5.538917532340107,-13.612455103842546,-9.943545109353485,2.4909021498033415,4.729986900046382,-10.202566102722772,-1.0735360964417384,14.309915737384372,13.222000224731664,7.896452101998231,-11.747995435376293,-4.462039171208087,-13.800468604493723,-9.829711938358264,-15.024019790759526,0.9197092209658985,5.512440497834625,6.287524755303147,-8.021200419224341,15.189611673047528,1.1924294339704018,-15.52610671414226,-6.631762458513602,-4.518596647432376,-10.061309559367453,5.2965254660867656,11.400989552625767,6.077057691865667,9.664663245620254,-6.083463367140675,-8.235655230108726,8.064043869101443,-4.134433583873969,17.91850069467079,-4.634287218693511,7.268055694538472,-11.988508743603017,17.06471605250457,-9.51574376588395,-7.782111087364199,-1.6401200868037862,-13.912153703123558,-0.7546181431783816,-3.3573769174694252,-20.514059864127503,7.422909266307642,9.208999164734463,-8.200769670332928,-8.820503373545302,11.240977726549536,9.270684989256907,-1.036902051632638,-15.42288245225911,-3.2208538209546305,8.501579689731784,-21.05020861693571,-9.057581760049228,-2.538667874105225,-5.37687534037197,-8.052933908517577,-11.646548812845952,11.200198038108075,-0.8912967286211229,-12.182806418084148,-20.15251385877276,16.75866630682304,0.1604037644475966,-0.2759710108400031,-13.843682664429533,8.297048458036008,-14.559853985336371,-16.017562472993937,11.071832325857315,-14.207660913542117,-4.701498214827457,-7.483763322770588,11.578683286279606,-4.869544783739046,-13.025586045460551,0.5347271397017891,6.931376980788053,2.138668938659048,-20.862932267357483,-6.897862810267108,-10.485997587812765,-5.348686741563135,12.879582908458937,-16.82742024763982,-6.380967350140518,4.855022270417004,14.079373322881265,-9.012233258285013,16.015696880432763,-5.019801622299975,-5.218082924050762,-14.63016039562107,15.612598591950894,13.940885704222223,-2.12714948189396,-0.6226905620787193,-11.159144010720693,7.830610650877344,1.434995691826399,13.017996637321293,-10.831366039189822,-3.1572276583939054,-13.056658209739357,-10.61953844167126,-5.760353453307959,0.5652103099665835,3.9383590232817927,-3.258826696949741,10.8788028685394,17.693261090608704,-8.346756658515751,9.784229673669888,-8.657435922331052,7.753424312021398,10.753755660753603,-0.203273190710842,-1.526494218258299,-13.614213417768742,1.6189814644735083,5.203596960706474,-15.949925405605878,0.6013660440321434,-14.983436949910999,4.767159357689635,-10.56114062384063,-1.9919374050369285,0.1747685156458646,-5.30526896530156,-6.727845040619724,8.233081408772263,8.892663300344328,10.876817876599493,-2.0522762414485904,-17.22547962415876,-8.383235969989222,-5.100773808792581,-13.374573157594966,-1.234131227973129,0.6524170396249711,-16.229111509740136,-18.784709081573844,-3.200235026430997,-18.060359239154938,16.073867011748263,21.5756175298054,12.868358858337398,-10.847556218168181,-21.864296316899683,-16.812512688551397,5.1202664556725965,-7.381562403225258,-12.622213422193353,-22.011261516362783,-10.232787934241799,9.272869629687712,-5.8259622706449345,8.312431450860844,3.837448900803731,-9.348228956623311,-14.650144906252317,-8.504531382279207,-1.3656594063877334,6.388950570814996,-6.400119012620035,-1.152669714509946,-10.350430584491937,-15.800902548354859,-1.5356993224709405,7.160428567013159,-1.927665819694833,2.095681083190637,0.6697808672380122,0.9591808083677527,9.217850530115845,-3.5264477779360153,-7.242454211362689,-15.966666182211119,17.713112509021016,-17.70225900190521,-4.927083046642252,12.861968149846877,-17.110019765661846,-2.40311749119856,-13.453976042062008,-1.2607278941307591,-7.476437589194516,6.839279727376707,-12.516766611091688,5.9703301819419705,-15.73216638327911,6.353581213481269,-10.840813824062392,-3.0013927519603287,-9.216759230585449,-7.721870806725206,-19.938470138859145,7.289078081063279,6.6232004923600165,1.2967824519561988,-18.800484633518117,-7.429642213244314,8.813592613577015,-9.246523688973879,-18.348231152143065,0.6716613575066829,-22.620002980256043,2.7493684946447297,6.323556441834071,15.302989507257001,-12.484626329067945,-13.352716079909962,-6.948832704582346,1.461593221812956,12.794148293918218,5.541054216856377,10.31822788419544,-11.262560283665447,-17.09227908024453,5.5602817823682775,-15.387689646009996,9.794623423619207,-6.784527715539748,-21.208650602876478,-15.245745815853175,9.101411225324663,-10.516361973041995,-5.766330843306712,-4.524237246049728,-18.819519733507143,6.772750673469365,-11.1693417846688,3.240501975792684,-0.3590180916745371,12.065268221894723,-7.024010858757831,13.214946545891532,0.48236713206322185,0.7522866047441893,6.333427862850724,-2.6093408993098235,-23.136016576594226,-8.212182295243124,7.077288369083114,-9.794492856268254,11.218342539293552,-3.3813881976792057,-12.689849862778821,-4.920408557057946,10.111765162503813,-9.623951129348647,5.175624690738783,-16.71377836696808,-6.506191125720943,-11.25177091204722,-15.216651613203437,17.435023252634092,-8.604333513264045,-15.27260896739807,11.505194787225445,9.457760401662725,-4.286203873740606,13.497655685377353,-0.4031909291615341,-8.137635276563698,-15.175873486715167,0.17576699645348814,-17.055657084722796,-12.77552449626864,-10.009928531203128,11.04934180275126,-10.742108850751126,16.118764392832546,13.228397926625867,-21.806305654987693,-13.447983245842991,12.833105690126303,-15.334314814742719,4.423294279869316,5.630164285578317,-14.438705970062955,-1.0525407200693855,-10.846018296155897,19.76595421040517,-14.714469555550659,-10.002275252451712,-10.999769914265906,-20.828225571688108,1.9702065661204777,4.32987346781606,4.228573441111658,-13.770316350448361,-8.564366623907572,-18.711372218213786,11.505395107859467,9.920420660540817,8.69172629524542,1.9678000480378106,5.356864123276236,-4.7825946344936,-8.790142156250731,6.132646944489612,-7.901298080589759,-20.26774597395896,-11.265111796090705,-3.065892890865106,-18.765789224852263,-6.873233542688722,10.363804845854602,-6.613907322241408,10.221041341493185,-8.32954902643877,-2.541565764721958,7.640446618307437,2.52034383536186,-11.10374841393555,0.7466718097629986,8.65294940723898,5.214691858813758,6.3739673478783425,-18.71833767186366,16.751666996889536,-13.208765251553286,11.12776056978126,8.64846149949462,4.52596975761548,-15.313752992604844,-3.9499500115287285,-5.45989213741639,-1.926292413366798,-3.7826147540325192,-7.37874215779294,-7.383430902109959,-2.990280637336471,5.377262159626408,-0.8668709958351899,5.70706799673115,-21.68832529580396,3.0287389086908414,-8.404832175836468,14.783007972576561,-11.523035237551237,9.46482618995212,-5.538293120819198,-2.3637060522798827,8.460634224987832,-4.993995851585574,-3.6323862690755764,-11.230243370090514,6.295526155572818,9.234118738870814,3.8133967336144576,-9.813833363803807,8.427669680434681,1.7666192407721262,16.380888231740556,13.004939315291635,-21.657163296822404,12.604837642808558,-10.62126580308214,-9.841532479809157,4.851668274204318,-9.067151921979459,2.413000385898732,13.004392623680507,-1.2550228217316348,16.744453590796862,11.916014571567898,0.7956262889536798,-14.784967603221206,-19.13360312824154,-14.544792663761886,-22.981534984989395,11.758973631722114,-1.1488889180459065,14.701255685258204,16.57128922799229,-12.51090634885895,6.026217974653706,17.43369838598528,-2.8590625027590377,10.958793217149129,4.169186446717557,-17.122838245591467,-7.196465915534645,-16.021184002457755,-8.372309571668307,3.2960610933611756,-10.672123901279265,-11.087406456566768,10.365992177928899,-15.590112406342541,-8.714531051481245,14.466351955685894,-17.84448480533357,8.550162061167825,-3.3808962974431953,-16.795577630420702,-6.681799920758656,4.065636753533665,-7.537958941825948,-8.307175099176453,-2.837147887573528,-18.645300488132204,3.8410041882948334,6.941531137275115,-0.01752931629127974,-20.901243688938546,-14.309876501207562,-3.1814347190890704,17.43513100928552,7.198886228901737,14.446200624241111,14.114207404273696,15.265554757312263,-17.05232257104853,-5.354854252577793,-11.492995519299988,11.505188861013073,-2.3755177530136713,3.268745770536041,-18.77857763784415,-12.664849006559136,-3.3756041098223037,-3.7704937256425906,7.645672197898454,3.6540652284541615,-17.90059508815921,11.51886117975519,-11.622007445038056,-5.799778668361241,11.649910125906283,-13.747642999628649,5.371931708452781,-18.15542729334218,-1.1443921651338524,-11.879661481453454,3.3725255392341653,0.4735351457811764,-6.29998055892029,-11.355040958504741,-22.96537339189109,-12.479279862193078,16.749596880118027,0.0630716753177074,5.318687762568614,-1.1312125223081047,2.6957406191851643,10.274407786283582,-0.19991210634741957,-6.676446676304643,-18.45797786201772,9.870605600521305,-13.428715120538751,10.991996458034608,13.536451012309927,-0.340679739373136,11.377263606063222,-11.78003979052978,-15.39541168536692,-14.34018248556841,-5.498926695588789,-14.080410523884069,-11.75700058115526,6.372076657831502,-8.713864118541125,-10.668501117246487,-2.5945401926203315,6.719115368713727,-18.47077493171402,0.35754132357183166,-3.8707988382711034,-16.434535544822293,16.633123111829832,4.930441422214425,-1.4453022109065645,-20.73915001740842,-10.654329198318054,-5.147011393289718,-9.25462563770078,13.123008245714708,-11.34323939240484,2.324210055914259,-0.27482558849611477,-2.4272170545969693,-12.067039430173766,12.963091072976951,-10.54587983221244,-7.03051335272612,-11.252598947958507,10.342177262855731,-8.477569379146392,-6.271802106790361,-18.914022464569957,-1.8281498908520815,-10.780479210650238,0.9160827980324742,-6.830276255245082,-11.458930264255773,-14.26941938594987,-3.9615095293121416,13.475079456985194,-13.235522816787396,-13.512843087848738,-1.3669166384336084,9.955543138863744,-2.676309693560751,-4.439237201489605,-12.399624535874173,-0.2198862367568044,6.658588759728433,12.472392595121446,-4.589790358947834,6.035082583434827,4.881224828001976,6.332909966572752,-16.283438504384645,-20.79902822127823,0.76352229374723,-8.115935851262996,-3.8898666489623643,-8.90682294790155,-12.595939715105636,-17.26241628062801,-7.365472828654218,-23.046606812175323,-14.31096184319721,-16.946442842608523,13.49215177338873,-9.261821799030425,-4.697010682972387,-1.5139035003269516,-9.277202901257805,-8.666933749930257,-12.963636424909822,-5.058373086916882,0.932790804682565,8.866959991637342,0.7595702830391972,-10.613276818599882,-11.39624142902396,-8.874761981483328,3.7400391510940203,14.050124107976012,-6.146722319514736,1.3711336879256584,-2.101869891945506,-5.278057096032029,-14.484997702337969,3.545149703399022,6.404232755344168,-11.187445992296084,-10.905828064787936,-6.263956141725169,-11.97267501869603,-21.771835947829373,-2.4047233820634446,-6.922984272658914,-5.274477532374409,0.023159512643617264,-14.175963363477898,13.000297105098689,-0.8005158106092972,-1.414720052949602,-15.494476178612617,9.298335022256445,-12.27730073807141,-2.759885908019738,15.981335838170112,-4.308151856937076,-1.4162213688593988,-10.56166427714244,11.91135290411436,-17.57607420108968,-15.892905013150527,-7.517612682150168,-19.55560118633587,6.697602782260488,7.675665133126551,-16.790375756548322,11.56458073666178,-15.79938232849973,-13.221333356980008,-15.048178387014858,-15.353998585715146,-16.491681946506315,-3.4616920405676233,4.338014314079681,-1.2824522209384706,-2.4112147515705225,11.16223378928395,-13.392357979880288,6.831793974179539,-12.904015502772682,-16.96934258938332,8.304733980058364,15.917526565221321,0.02870134948677923,-11.790949788780265,-11.411913030084188,5.717705423660666,-13.78406709633692,-5.093567570076053,-14.858669046995006,-12.06023886610955,6.610058078007129,-5.99093741142904,4.624778172312062,14.505844190996704,-15.869106702812196,2.0920007485763352,-13.967083988400008,-9.885541396983822,-1.731009962261721,5.835540749832427,-3.4868825437179916,-11.714328385657955,-11.075611559431945,-17.340694906092548,-6.652004742671971,-16.17630166961128,-9.535415264769858,-2.662286750794421,-10.706030179543076,-9.962347989696937,-6.8170710312250264,4.293259468564418,-15.792384230244554,-15.06342794432225,12.788072545999427,2.0648729580072294,6.295605992511715,5.660732327152025,4.585333233042189,-14.100686662956512,8.557111614197682,-10.030077249137493,-2.148808830915887,-5.309962185784971,-2.757455795219549,-17.49935889312483,-2.330933168019386,-4.436071595924119,-14.731870312378643,-2.646115046550999,-12.534357529859987,12.773697613513876,-9.021830830042715,-11.894488408697582,-2.2128498686174476,-17.97639071928919,-17.24984973964567,7.967094148312554,-9.623472462696565,-2.5040720443306714,-15.221237922092655,-4.942232042647288,16.944517177272758,5.881459411039113,-5.758272462774962,-11.390888162445364,-1.6041633450857382,-11.91858328511841,-12.581593168712232,-15.309755972172795,-11.942593067618528,8.091792808601426,-3.043427927670998,-4.328118744207222,-12.225006217541189,-4.306222816182557,9.757887895330636,-11.577396656064865,-9.195336821016022,0.23058366405901043,-3.5966747736371305,-13.267938546608331,-17.259889029805688,9.682612837108387,-15.051071987812973,-4.258925236975808,-0.5811907823087976,-11.670887349663102,-18.81665187253006,-11.607930306619991,9.88983027162724,5.936430463203381,-13.163936265688703,6.747144301367307,-7.353182555178191,15.7068875511605,-6.377704772218991,8.790482912915618,9.25619646588144,-12.335148316842094,13.13167112193825,-6.112074930720099,-22.084152957769966,10.156958111506869,-12.941504851246068,-16.621893603558632,-2.1631532307751495,-5.0126156724788915,0.2868328057549692,1.3836113488889052,-14.047222765252389,7.004456438772988,5.001849809329194,-1.4204237231980434,-0.7631594596640001,-16.50195830789341,-16.82946502362763,-11.204932797305764,-12.743031331418702,-16.49530425388222,7.696827221979743,2.5248429629395415,-8.861409946260105,-8.750737832766935,3.455108820312513,-15.454110740229018,8.37612000444583,-11.574231258132176,-8.209548072264013,-13.511057862696205,-12.094651118441115,-10.116873454511168,-0.1746193848328081,8.842470999349947,-9.461281669162533,3.5235008222595776,15.930515194222325,-1.5875732192488987,-12.570782983544106,-11.646013478080937,16.419892038908678,-9.750499821252756,5.432765037828829,-11.256006854410499,10.804263301400814,2.0334409559102293,-9.80835894175336,-15.157870259717113,-12.573469988851485,-1.0837153205000907,3.7829745151276537,-16.3297259211557,1.2633842926678218,-15.961900365231594,-4.584872568056091,11.818923886682851,5.923254148188424,-12.567482309343026,9.827594421362946,-14.24867452782701,-6.961051411786509,-0.6088556764392572,-0.3647866648434422,-8.259547613707369,-10.703208221271746,-4.139895122116755,-17.935243947492147,-22.872998006715353,-13.338144343576623,-3.09510422191032,-3.018784786502379,-10.719113760994638,-0.258827511505624,5.644446595524872,10.121731441001629,-13.678527515367925,4.97658439050205,-9.354927364035875,-10.558709269870546,5.747537524713927,6.464431966087253,6.237179602115118,4.985489108868947,-12.740728808779602,-7.629346358051989,-14.016756152543742,0.34020163738051673,0.5460177926018348,-20.284967448893003,-11.629577327205562,-8.363217528320654,-2.7398362561126177,13.126368234056457,-10.975840951730369,-7.7512886720277505,-4.309420843268097,-4.269407411832867,5.857917580211944,-12.482970565002832,-12.00940651859593,-18.91218358172629,-12.904204968645896,11.121726018533,-3.790407435751573,-9.527008067836206,11.591087909101086,10.01054301734732,-12.07591923918654,10.636247825503004,-5.177898660649691,-5.427261043513047,-8.259109704392284],\"x2\":[-15.984144775821603,-8.399113416526355,-4.196261134098611,-15.110673212962425,9.417293090664383,6.303740951003289,7.799483002101026,-14.242029125780347,6.477475941001634,-1.234846370172223,0.48152244990439774,-15.476774382833126,-15.102181042343771,6.189569234718168,6.475263225532038,0.49176623018317833,-16.131250958168025,-7.8624457168307655,14.277781028815733,8.544252185850656,6.554144410524272,16.079636524296667,-7.68500507240005,2.7670683269131104,-2.17641411179484,-8.061981561227299,-12.276924064962577,-5.7676170325377925,11.021285313593088,-12.659835963069169,-2.9583148022620143,-17.35972811654028,-7.938123774749114,9.352144376006835,5.599311481403361,10.737216084888757,14.289505081265563,-19.820430154383022,-11.63879327941427,-0.6975433396568655,-6.510693403943671,-6.701700520871762,-21.72481232093789,4.544838910433672,9.958574087743157,-7.2730663528712425,-23.555061539407387,8.427138462757176,-6.457841711946427,6.534331271118463,12.907168127226518,8.646312250361804,10.538210003645261,-16.11120397098554,-20.779024821514763,7.524586113641335,8.042150673414143,8.967244787730301,-4.543469054910101,3.3164133372840734,-2.734759587825223,6.99600517059511,0.02391986626112111,14.256933173572508,9.895648091450282,-2.6912584906374777,-20.868793101657637,6.274844247578169,-2.951079294881671,-6.4131405338479315,12.299689747761844,16.369618190131785,5.521208233027905,-5.844338340972207,8.654302752608285,-12.107871347055507,-21.222636602800566,-5.732527365493288,-18.36005654399971,-11.754010741557193,17.700968063097157,-11.03996140202245,-6.24683730244567,-15.260663309593012,-7.864037575273595,-2.53180361875943,5.055276322755679,-21.121016496211126,-12.871958538529505,5.032134646847587,-2.8060068865959944,16.620128219168425,3.6295330646625725,-7.56830810091816,-0.506479915332903,14.149032716012991,5.736793837648041,4.470761855324259,6.615594832242911,16.291768934349506,-23.559757404898388,11.63261934506036,-27.77597781545505,-6.13142729003027,-8.191100671225449,-11.345306887759035,2.076217441023954,-17.102315545448107,-3.239736237564253,-10.21898679204647,-9.365882923492638,9.401534599400673,-15.106856424682706,-8.865636723525876,7.10826968969182,-1.720403532926022,5.666127991221575,-7.355210432997525,-7.7720134255246895,-1.271861597035719,-20.227000451264196,17.33088956699554,-7.596748553024544,-9.237440018680505,-18.435692946463416,10.869382851993626,8.555017776341925,3.869803625356462,-14.873367275593472,11.31017336380677,-14.409272859822424,9.754836549426257,-2.414853687867794,7.428808764931606,5.264476685619015,-6.380453616548856,-11.53679093522738,-8.954556211286857,17.333064489325707,-3.0017382317085746,4.122722716100533,3.666537251130376,-27.697820396750956,12.65112347105796,-0.00870109383128094,17.537935382118803,-1.0362923709648924,13.623264927668137,-7.064134330239019,-22.57927789820483,3.9402778024825005,-22.716832417898246,11.429456210913594,9.340201520364499,-12.480230959140021,-14.795142770634662,16.004191503437806,17.505091943863697,-7.391481553225518,8.702478413613056,11.133591609877167,-14.311063760843572,9.446868084374392,-8.443568238442419,-12.610521400901254,-20.65906603544391,-11.823946090278275,-6.750641242625871,-17.13647510109889,11.324125670781008,-3.3537196984762545,-3.407732734942995,17.71542280173382,4.358934091169476,0.8972996335687045,-3.646098808492533,-14.585085687539355,-23.53898346852978,-7.3618311821803895,-4.251840477466927,-19.46550227321199,-8.577840254887766,-9.260779366317475,10.07317894579321,-20.465144659464954,-9.544826931409164,-7.792386649031817,-15.223791811460394,8.539436732939208,-10.609824858867201,11.333631149095398,13.159671509754157,9.933010626091914,-10.995857366602548,-23.178544364851764,-5.380034555580444,0.8560327133126664,-2.5511625716040647,-22.89572948308684,-10.91373335806925,-24.60998285568814,-3.1333303706518087,-8.484454280660872,-15.751287760654826,-19.329162847585337,12.570777363252903,-23.304329918480803,6.902319170996753,-16.341023978063568,-6.468012445852211,1.6517360257274951,-1.3839686840620296,-2.135743435695257,1.8593307264034902,0.3476208519617657,17.787102552235673,0.010002615307540305,-12.05479549561207,-26.96791988863303,1.5080624066973405,-6.012143152649424,-27.48948242064883,-11.382703945334189,-8.009727594492622,11.324537095023164,-0.1575794192715954,9.51844811492826,10.867517982687142,14.556954520291686,11.302293088691354,-19.512559087106183,-19.264430766756206,-8.699523531447515,-4.511408226100688,-3.715463744526863,2.127225084436237,10.181984979137058,7.349304619203732,5.764315235035628,2.0680740568378546,-23.45784599193255,-2.636883081904794,10.077324611480808,16.156684576576836,-27.102681780658852,-7.835649733693583,3.149138581214483,10.631494275646759,-3.377835881545534,-16.322057243795918,-5.0041179263066,-16.038036790339213,3.3460954759183177,-13.90611566502745,4.3673687996397215,-2.848386425813737,-18.86086719709064,-23.584420714941086,-19.188039195474307,-0.5823971634116091,12.258352716614066,13.436477477898485,-11.427045625616866,-14.749648756922099,4.584649126132227,-12.07219922612631,-4.7483896502772724,5.854776987400663,-14.768468002541184,12.181621909266388,3.133964799425018,12.689419286781387,-7.964421082908185,-7.255773641577909,-9.962593264249751,2.304796061630764,-13.331472753984054,-13.119763072598118,-2.5809136193676787,-2.729254369037049,-8.103009897794479,3.1374871737436454,-5.538694145887483,8.65051949599902,-16.48829185531931,-14.514536490836823,-4.901503213171191,-2.7219487975471073,5.6801442201511145,-14.25310354877873,10.114047066287823,-25.074226847721928,12.801173005469165,2.979293683028212,12.249627553207805,16.134422886702165,-17.140650208726704,-22.338262666002816,-12.872521634211608,-0.9180975060338921,2.7742527251486258,-20.94765404444423,-22.23517421288312,-12.624215933944635,-5.929802935164147,-26.5255281704758,9.828437408666488,-14.903943523670717,-2.489667521436543,-6.886745137400482,2.664894114374537,11.06347341806313,-7.378395267983952,8.143189828860997,13.419023064880871,-3.655622069817912,-19.26695048999529,-23.164514766926327,-8.169132794765424,5.679149961380544,4.518537285563541,-9.71942878656061,1.2852470663217057,6.494950021420157,-1.8582734218364219,-2.5093333686480492,-13.210169407600846,-8.711735727467286,-18.028631790728806,16.676231069782773,-7.72820599607244,-9.063037108658731,-9.83482375177703,-18.39968753544472,4.160089573734712,16.153814289875214,-6.050263509714206,3.8709372504303325,1.854591894324039,-13.477399187926297,16.47251603874159,-9.924685880271129,-1.8837960758968282,-10.325811964337252,13.280675536314167,9.456192329465066,-8.567931929331856,-15.155695858080092,-6.704987236468005,15.359084101781217,-26.943939530355966,-7.799592457707442,-6.703973683424738,-5.115396791649934,8.783376551385656,-15.63085190474599,-11.260078389770852,-17.375403438480426,8.830417205216918,-17.10191356944094,-9.230282575988092,-10.703810763925249,7.15444229285153,-9.379514996923927,-13.922791626851316,2.166098154807436,8.186367300952256,-23.441500575043815,-8.768345154114119,-10.125093466569716,-9.387397286552094,-12.657643308813013,-13.077835020114648,15.314261463767792,-5.36250016146431,-9.558438918563962,-12.006468315406984,6.594033646556602,-6.782088489294357,-3.6132588233321177,-8.548603870443655,13.808186980728472,8.488435456083618,-1.7775542208797948,8.340971349463999,-6.487700407016264,-8.949004457675812,-14.211681124436865,-10.045970445485194,-9.210249780687993,3.32514476892658,1.9283411748714943,-10.401086152607503,4.290142080667114,-18.54003621702093,-12.771930163800583,-9.309389117693918,-9.449687981298835,-14.150765284210625,-8.104024554796123,-22.518511594701756,-13.729419646618025,0.282173644475224,16.840432404558687,-2.8877514034795717,2.0903648572672178,-6.8432538353629795,-2.5134190826389426,15.70931482661202,-26.120049978670412,7.5379414949851,11.967092584578,15.739259049778994,-5.216348590739618,-26.618867249261893,-5.215698124506854,-9.497178786328691,-3.920937772463338,-8.23574867664686,-12.371433415358583,15.357120433570001,-0.19035587072229704,-10.898379190978767,2.810882594795345,16.627970039939566,2.8433005518538077,-12.752454038449525,-6.969056526513821,4.350048896558835,-22.891829899508668,18.45720203165173,-17.69133332763099,8.167571024464115,-19.064804377161646,-10.0409241005902,-4.2843948570365065,-10.51598606065036,-13.317608654701294,-3.297001507369009,-7.536379005399671,13.05235344970834,15.300003147531696,-26.399574237389107,-22.32317768164391,-9.296569804847698,-6.836856401321448,2.4332993883231797,15.384664583752219,3.9000883940688866,-8.040247721797845,-3.506638872900866,-4.937688859893702,12.048872961968808,-16.422744366703352,5.4593622337309,-15.817578613346534,-10.883973768650492,-22.70554105403545,-10.135010510510728,-9.463651395987887,-9.165480232792493,-24.929736394450323,-5.373006414671548,-11.499965744071243,11.52311192715419,-0.6251012507027607,-1.149022864187953,-8.70541947801481,-11.037089557065208,-14.216343390375663,-1.0048393002508573,2.1320263167486893,8.943750218561721,-4.762934540012756,-1.1319775058936177,-20.613297948354308,4.999562995742945,-14.512508593803789,8.64557444516273,-20.454159807054683,-3.3222773944608335,-17.154563945166277,-18.93907215446942,-3.5617527040098333,-18.601810510940386,-2.8706959788541258,4.3514436847293325,12.052181458330612,-4.471770043323961,-1.7311369668149292,-12.732907434270926,17.190453084143314,-2.824244434522809,-13.295609119202988,7.93565080312348,-21.313993785901868,-10.872877663362162,-14.634985052671206,0.8064721767342449,4.535802495476571,-21.550007793986673,-8.750012909719985,-2.3885142983237824,-24.98961168039505,-14.598049508864,10.628735482246887,-6.825953982692797,-5.749711096102282,-19.998986813527168,-21.498028670029957,-12.665026353452058,-9.619319766153026,-19.604706185829507,-15.601789005283731,0.8139848227460067,1.7118534646483305,-24.49936548793063,-4.305064219333648,-18.702245221160585,16.24672854794112,-10.523157162708458,-21.584933679232932,-15.420388912130383,-9.370248963228462,-8.579828251037817,-13.58286030416525,-16.319687979372738,17.093975803561392,3.6265200062798173,-10.326203332743695,-8.707879521011666,-22.599882248448804,-18.949054797840212,-6.74869913464155,-10.064268060005258,-6.582105699469722,-14.822457866647616,-1.188819736768069,-26.451605282115448,1.4670165617344337,-2.027479743175563,12.321212939583269,-13.473809960444582,-26.4524616246969,-6.860125486967117,-22.04288476308592,-7.416052323200572,-9.578373579822339,-1.07027660306983,2.9635741668441575,-8.780406879323628,-14.074637861122374,-18.34203781418553,-3.169737256650519,-14.469689329059262,-12.733636940399345,-0.6965004149129467,2.9660230622449855,-0.8868056354858455,-0.6428711773938671,-2.6951596730568403,-1.1427131609638927,-4.102585551336497,-14.172981984141389,-10.658279910294368,-12.12394830168615,-2.6635662085716034,8.822207379502618,-14.311307328990393,-9.446669426807736,-13.00688380231267,-11.317371545627049,-8.372973011045366,-9.904477841326786,0.10259151767803426,2.0968714551547274,-10.273981132179557,4.093978098857153,-12.8451384809404,-11.080348505511415,2.782125945545159,15.568258484795313,-11.21024352622642,-8.732418783725873,-11.325436058056312,-22.383578262035506,-7.5399020612603165,-13.472723705094037,-26.358485954376302,-13.315813159272764,3.4375439929638496,0.17695798450655248,-14.905286264334068,4.611585246045816,-21.23939234211587,-14.977988903399405,15.69698213695189,-4.5333459369861595,-9.078359707270597,-12.595502015975683,-3.159213260132834,14.154430118172158,-13.797631902899107,-8.14319709644453,-1.524487298575622,-5.988135703191848,-6.2593860815825275,-5.763899661992371,-12.274383948347921,-11.898256727541472,-8.146895952929937,-8.477818697629509,-1.1708927208566595,-15.826756557582826,4.176772447457472,-6.235977960210129,1.9379621062368702,1.479378032555112,-9.782462003138056,-6.691586604825416,-10.499879504193567,-8.52028653985029,-2.6046296942993856,-9.57666087113886,-8.586228482443634,14.890567240377102,17.142531839194746,-13.74527301138648,8.790101732149044,-19.318084258960855,-2.767348146793145,18.435239437517836,-15.510254316607067,7.540494994487403,-9.110699682437488,-9.47115270915708,-2.8181774166439157,-0.18303616234023504,2.1805736676775536,-18.12716939988733,-1.1162049817243072,-25.173771338387557,-4.964518862725354,-11.261833571241626,-13.062475785593925,-26.24565233548221,-4.981377293384461,-5.716790570868753,-7.224786781211732,-13.507082847560117,-23.604677800447163,-17.536887396310718,4.041378147116403,-5.0595251702604935,-14.716800815538594,15.512458807613251,-13.15897987733862,-19.630533631941706,-9.916508151709143,-13.691564957378827,2.1732125766520554,2.111802592499356,-13.93923948234215,-16.72394811655164,-13.842057420745224,10.103163598311905,0.5752104264584352,-12.676599495233122,-18.81534032762884,3.513604254790084,-8.96561281760179,15.166968129512547,-22.302569477839732,-9.428349635490298,12.782187157268153,-11.100097189784458,-9.336582544040267,-0.0719674461857561,11.374820153572344,-5.367883974577919,13.652394296701521,-20.479680425319735,-3.8025984947451406,-5.227439937821854,8.219514008708346,-20.822586207481397,-11.456641625539422,2.8578824597861177,-13.339628015233732,-8.560280583640996,-4.826605987832225,-13.542701134261701,-11.323756953949815,5.5044572986850655,-6.048730991481075,14.81628537712487,-12.096444913395477,-8.243735246157595,-13.445149636332692,5.833649861345414,-5.031182166867879,14.471479703590669,-12.496065837468377,-5.649987472402911,-7.535006494467257,1.8971303925312424,2.0965064607562525,-12.785858013822928,-19.559256182863958,10.057392219663488,5.395232949068726,-1.016072455687464,-18.93549382890543,-18.27706455380228,-7.839779841394575,-10.918526743066113,-10.023089987432014,-18.789195905354898,-9.17522593834242,-3.9294531293013533,-13.114002644299143,-3.60113097404019,-10.096188190124321,15.324602395251137,-18.26522884336579,-11.937694716927851,-4.025690813222877,-9.625292849621683,-13.910396856285137,-16.941686563047302,-26.0274474896648,-21.286751208955963,-12.106973718283122,15.34609573768639,-20.271388300407104,-6.737512429378103,-7.592267177908817,-14.59705467762556,-3.3672484444122954,-12.528435742261678,-9.869123630050984,-18.90258903021961,-6.643261163788891,1.297242735665595,-9.66509995361203,15.385132749575991,-13.953546092283064,-10.697836565189702,-8.790098127306967,-10.327619853768766,2.4904197705689413,1.0982172970893131,4.405927126878337,-6.545222070943066,-9.133799290804028,-16.598338617725407,2.6819002858277434,-11.477363235748077,-13.496563653079576,-5.900727602649234,5.963831198960507,-0.2589997207456995,-2.968809859431924,-10.976445319792314,-17.332136216821684,-9.423213017995684,4.8752491941362885,-12.609556469534422,-19.820426279594226,-10.286222552213669,-0.5576789418569044,-25.893513536306056,-6.888382256165415,-9.869672113093781,14.685794291596979,1.8284425140810812,10.898288703166036,11.697427554018253,-14.427968105224627,-17.421207617871936,-9.496190172762258,-18.17376590944832,-13.634459396445456,-5.67331021851198,-8.83691244561547,1.6183956095937833,-10.115979398910335,-1.878467036652607,-9.587399009183242,-9.761823374937743,-5.942556766764979,12.146180845856147,14.13274319150059,16.060149879571522,12.699178665409049,15.150643384635643,-7.790679639227178,-12.060387881336599,-5.347741850908811,-20.810060027304456,7.754765252598989,-7.25590252260185,12.609770326478436,-16.79252076627995,-13.173535759815959,-18.364167162616344,-12.776389120776068,-10.256546154259569,-6.284836088898745,14.170699240944781,-19.07949343899533,-11.73194636938628,-10.340041774582206,-15.259218200866682,-10.491181434200268,-9.611382967009764,-11.98228414436439,-9.603795702414628,-4.519348325199153,-10.98531537869757,-13.96528418665125,-11.410222929906613,-14.677258971224171,12.853687300426307,7.375067689549293,15.858306122018494,-2.716770824410743,-11.395030119529322,-26.034373780524604,-18.839133191641007,1.8219655354580966,-11.940567929830484,-17.997740938932502,5.12951073225436,-10.249827512912038,5.365843288490384,-7.89161388226794,-13.800373601218915,14.739389619636478,-3.0152348120626775,-3.9383789951018042,-12.89073759485646,-18.55730608518482,-11.688448648585904,-10.819535818318004,-1.1666856687933045,-13.431340163592584,-9.851058386949564,-13.206797935550437,-14.083313955212931,-5.5920330695941365,-5.93147867605605,-10.769512852926372,17.065816655610075,-10.557424568124905,13.092498988806069,17.24639559389309,-12.267556996768104,10.142530537068161,-25.7425940815525,1.1054907897559745,-8.824422641241899,10.432440964205615,-5.265221997646853,-25.987491018625743,-7.059537709774705,13.43850847105404,-2.3285604827204285,-1.7422819296015268,-10.899554867679582,-10.62106418793872,-25.649632635786492,-13.73397778467207,-18.460877360584007,-11.7089403393095,-18.50034671400052,-10.269243361635825,-12.950664126636932,-25.90847612132185,-10.515161432740145,-13.241477530357109,-9.447714160195789,-19.318507591043222,-5.6696229181845315,-8.78132673940105,-12.794502904332033,2.7181368644618216,15.115741143925778,-14.457465983565623,-20.298725272092465,-9.278940178209547,-25.12852913248428,-11.86548484092735,12.169376022226569,-17.03302507246373,-9.975411413317463,-9.412471369566045,-8.108644848429622,-12.237654609102764,-0.3709910108526333,-3.744926333877257,-16.911769452078946,-9.39812370058836,-12.003192891689805,4.432280379925,14.618354120204462,-24.201307980264456,-15.992057117825231,-0.9848474458642726,-1.0135303613752118,-14.48550169850674,9.027322083925457,-14.049756580165537,12.524493710743252,-7.093604471634666,-7.239058158013492,-21.016610114383266,14.092592352349175,13.79560197432436,-11.362898388161248,-8.308952025441311,-25.29130200491666,-1.6075215899157134,-13.970738051399124,-0.7501703811980057,0.1453057352733952,-10.710756362140646,-18.315243033259453,-9.52431911361674,12.705885782381099,-8.570802086796876,-19.342130769084616,-5.1825870931551945,12.832957526807958,-9.122846350815635,-12.667072543296882,12.45735743002109,-9.464500215615,-13.91663916274267,-15.758286685188741,-1.7040886959770822,-10.30061097010602,-13.245037583582347,-7.084811610545874,-4.541161409942248,12.475359336555373,-25.131391313343574,12.632342621161035,-20.21827703277995,-13.860182878145396,0.1301948284716353,-19.473592063125107,-18.532308740219047,-13.045911173826196,-11.700054258174738,-9.374982056305813,-5.376100158063346,-12.882304083317674,-9.756974874894015,14.696859755131339,-10.294630832570018,-11.492290579286891,-3.729387524030874,12.763542150220411,-4.7435658666624265,-12.121285718364287,-11.355000138126355,2.1240793585227564,0.11455406923870168,1.420274434061775,0.6632712563238294,-24.152056498068585,-20.283787152803953,-10.462001518276452,-14.736920062135908,-3.0844421351650495,-10.804199491953836,-17.98658545263158,-19.75657695958077,-9.18215338944502,-3.353291004351645,-7.967487071265211,-19.521874606531757,-4.112842823158466,-4.670424407189036,-2.9592779314037196,-11.703406585548239,-18.762466145335406,-9.775217718466473,12.247366026615033,-6.620442173895516,-3.3863361332795074,-20.725720501080858,-5.573004529475672,-25.315937963509008,-9.489754540794872,-6.938881386769914,-10.74717134757288,0.13797553324514555,-19.269580807574258]}},\"id\":\"78bb2f3c-ea4e-4117-be49-bafadbd91fbd\",\"type\":\"ColumnDataSource\"},{\"attributes\":{\"plot\":null,\"text\":\"word2vec T-SNE for most common words\"},\"id\":\"e131fb67-0171-4df0-a26c-84ca4395237a\",\"type\":\"Title\"},{\"attributes\":{},\"id\":\"1251bcf4-809b-4542-85c0-9ee1e5431b09\",\"type\":\"BasicTickFormatter\"},{\"attributes\":{\"formatter\":{\"id\":\"502de46f-afdc-480d-bcb8-6f04d530cd41\",\"type\":\"BasicTickFormatter\"},\"plot\":{\"id\":\"416b428e-a71e-4625-962a-c10512e38103\",\"subtype\":\"Figure\",\"type\":\"Plot\"},\"ticker\":{\"id\":\"3025414a-7f32-492e-80fa-d18bc808f40e\",\"type\":\"BasicTicker\"}},\"id\":\"f8f49e26-2de8-433c-becc-193c285ae2ac\",\"type\":\"LinearAxis\"},{\"attributes\":{\"dimension\":1,\"plot\":{\"id\":\"416b428e-a71e-4625-962a-c10512e38103\",\"subtype\":\"Figure\",\"type\":\"Plot\"},\"ticker\":{\"id\":\"3025414a-7f32-492e-80fa-d18bc808f40e\",\"type\":\"BasicTicker\"}},\"id\":\"b85d57e7-0c7c-4cc3-ac58-621f285db526\",\"type\":\"Grid\"}],\"root_ids\":[\"416b428e-a71e-4625-962a-c10512e38103\"]},\"title\":\"Bokeh Application\",\"version\":\"0.12.2\"}};\n",
       "            var render_items = [{\"docid\":\"dcd42561-49b7-4afc-b56d-e9c470db127e\",\"elementid\":\"235aff79-4b0c-4143-a81a-230bb4fdd122\",\"modelid\":\"416b428e-a71e-4625-962a-c10512e38103\"}];\n",
       "            \n",
       "            Bokeh.embed.embed_items(docs_json, render_items);\n",
       "        });\n",
       "      },\n",
       "      function(Bokeh) {\n",
       "      }\n",
       "    ];\n",
       "  \n",
       "    function run_inline_js() {\n",
       "      \n",
       "      if ((window.Bokeh !== undefined) || (force === \"1\")) {\n",
       "        for (var i = 0; i < inline_js.length; i++) {\n",
       "          inline_js[i](window.Bokeh);\n",
       "        }if (force === \"1\") {\n",
       "          display_loaded();\n",
       "        }} else if (Date.now() < window._bokeh_timeout) {\n",
       "        setTimeout(run_inline_js, 100);\n",
       "      } else if (!window._bokeh_failed_load) {\n",
       "        console.log(\"Bokeh: BokehJS failed to load within specified timeout.\");\n",
       "        window._bokeh_failed_load = true;\n",
       "      } else if (!force) {\n",
       "        var cell = $(\"#235aff79-4b0c-4143-a81a-230bb4fdd122\").parents('.cell').data().cell;\n",
       "        cell.output_area.append_execute_result(NB_LOAD_WARNING)\n",
       "      }\n",
       "  \n",
       "    }\n",
       "  \n",
       "    if (window._bokeh_is_loading === 0) {\n",
       "      console.log(\"Bokeh: BokehJS loaded, going straight to plotting\");\n",
       "      run_inline_js();\n",
       "    } else {\n",
       "      load_libs(js_urls, function() {\n",
       "        console.log(\"Bokeh: BokehJS plotting callback run at\", now());\n",
       "        run_inline_js();\n",
       "      });\n",
       "    }\n",
       "  }(this));\n",
       "</script>"
      ]
     },
     "metadata": {},
     "output_type": "display_data"
    }
   ],
   "source": [
    "p = figure(tools=\"pan,wheel_zoom,reset,save\",\n",
    "           toolbar_location=\"above\",\n",
    "           title=\"word2vec T-SNE for most common words\")\n",
    "\n",
    "source = ColumnDataSource(data=dict(x1=words_top_ted_tsne[:,0],\n",
    "                                    x2=words_top_ted_tsne[:,1],\n",
    "                                    names=words_top_ted))\n",
    "\n",
    "p.scatter(x=\"x1\", y=\"x2\", size=8, source=source)\n",
    "\n",
    "labels = LabelSet(x=\"x1\", y=\"x2\", text=\"names\", y_offset=6,\n",
    "                  text_font_size=\"8pt\", text_color=\"#555555\",\n",
    "                  source=source, text_align='center')\n",
    "p.add_layout(labels)\n",
    "\n",
    "show(p)"
   ]
  },
  {
   "cell_type": "code",
   "execution_count": 112,
   "metadata": {
    "collapsed": true
   },
   "outputs": [],
   "source": [
    "# Hand-In: an interesting cluster in the top left corner of  the T-SNE consists of units: i.e. miles, month, years, feet, week"
   ]
  },
  {
   "cell_type": "markdown",
   "metadata": {},
   "source": [
    "### Part 5: Wiki Learnt Representations"
   ]
  },
  {
   "cell_type": "markdown",
   "metadata": {},
   "source": [
    "Download dataset"
   ]
  },
  {
   "cell_type": "code",
   "execution_count": 85,
   "metadata": {
    "collapsed": true
   },
   "outputs": [],
   "source": [
    "if not os.path.isfile('wikitext-103-raw-v1.zip'):\n",
    "    urllib.request.urlretrieve(\"https://s3.amazonaws.com/research.metamind.io/wikitext/wikitext-103-raw-v1.zip\", filename=\"wikitext-103-raw-v1.zip\")"
   ]
  },
  {
   "cell_type": "code",
   "execution_count": 98,
   "metadata": {
    "collapsed": false
   },
   "outputs": [],
   "source": [
    "with zipfile.ZipFile('wikitext-103-raw-v1.zip', 'r') as z:\n",
    "    input_text = str(z.open('wikitext-103-raw/wiki.train.raw', 'r').read(), encoding='utf-8') # Thanks Robert Bastian"
   ]
  },
  {
   "cell_type": "markdown",
   "metadata": {},
   "source": [
    "Preprocess sentences (note that it's important to remove small sentences for performance)"
   ]
  },
  {
   "cell_type": "code",
   "execution_count": 99,
   "metadata": {
    "collapsed": false
   },
   "outputs": [],
   "source": [
    "sentences_strings_wiki = []\n",
    "for line in input_text.split('\\n'):\n",
    "    s = [x for x in line.split('.') if x and len(x.split()) >= 5]\n",
    "    sentences_strings_wiki.extend(s)\n",
    "    \n",
    "for s_i in range(len(sentences_strings_wiki)):\n",
    "    sentences_strings_wiki[s_i] = re.sub(\"[^a-z]\", \" \", sentences_strings_wiki[s_i].lower())\n",
    "    sentences_strings_wiki[s_i] = re.sub(r'\\([^)]*\\)', '', sentences_strings_wiki[s_i])\n",
    "del input_text"
   ]
  },
  {
   "cell_type": "code",
   "execution_count": 100,
   "metadata": {
    "collapsed": false
   },
   "outputs": [
    {
     "name": "stdout",
     "output_type": "stream",
     "text": [
      "4267112\n",
      "853422\n"
     ]
    }
   ],
   "source": [
    "# sample 1/5 of the data\n",
    "shuffle(sentences_strings_wiki)\n",
    "print(len(sentences_strings_wiki))\n",
    "sentences_strings_wiki = sentences_strings_wiki[:int(len(sentences_strings_wiki)/5)]\n",
    "print(len(sentences_strings_wiki))"
   ]
  },
  {
   "cell_type": "code",
   "execution_count": 101,
   "metadata": {
    "collapsed": false
   },
   "outputs": [],
   "source": [
    "sentences_wiki = []\n",
    "for sent_str in sentences_strings_wiki:\n",
    "    tokens = re.sub(r\"[^a-z0-9]+\", \" \", sent_str.lower()).split()\n",
    "    sentences_wiki.append(tokens)"
   ]
  },
  {
   "cell_type": "markdown",
   "metadata": {},
   "source": [
    "Now, repeat all the same steps that you performed above. You should be able to reuse essentially all the code."
   ]
  },
  {
   "cell_type": "code",
   "execution_count": 102,
   "metadata": {
    "collapsed": false
   },
   "outputs": [
    {
     "data": {
      "text/html": [
       "\n",
       "\n",
       "    <div class=\"bk-root\">\n",
       "        <div class=\"plotdiv\" id=\"e174b1e7-2705-46cf-b961-6e912ab0bdb0\"></div>\n",
       "    </div>\n",
       "<script type=\"text/javascript\">\n",
       "  \n",
       "  (function(global) {\n",
       "    function now() {\n",
       "      return new Date();\n",
       "    }\n",
       "  \n",
       "    var force = \"\";\n",
       "  \n",
       "    if (typeof (window._bokeh_onload_callbacks) === \"undefined\" || force !== \"\") {\n",
       "      window._bokeh_onload_callbacks = [];\n",
       "      window._bokeh_is_loading = undefined;\n",
       "    }\n",
       "  \n",
       "  \n",
       "    \n",
       "    if (typeof (window._bokeh_timeout) === \"undefined\" || force !== \"\") {\n",
       "      window._bokeh_timeout = Date.now() + 0;\n",
       "      window._bokeh_failed_load = false;\n",
       "    }\n",
       "  \n",
       "    var NB_LOAD_WARNING = {'data': {'text/html':\n",
       "       \"<div style='background-color: #fdd'>\\n\"+\n",
       "       \"<p>\\n\"+\n",
       "       \"BokehJS does not appear to have successfully loaded. If loading BokehJS from CDN, this \\n\"+\n",
       "       \"may be due to a slow or bad network connection. Possible fixes:\\n\"+\n",
       "       \"</p>\\n\"+\n",
       "       \"<ul>\\n\"+\n",
       "       \"<li>re-rerun `output_notebook()` to attempt to load from CDN again, or</li>\\n\"+\n",
       "       \"<li>use INLINE resources instead, as so:</li>\\n\"+\n",
       "       \"</ul>\\n\"+\n",
       "       \"<code>\\n\"+\n",
       "       \"from bokeh.resources import INLINE\\n\"+\n",
       "       \"output_notebook(resources=INLINE)\\n\"+\n",
       "       \"</code>\\n\"+\n",
       "       \"</div>\"}};\n",
       "  \n",
       "    function display_loaded() {\n",
       "      if (window.Bokeh !== undefined) {\n",
       "        Bokeh.$(\"#e174b1e7-2705-46cf-b961-6e912ab0bdb0\").text(\"BokehJS successfully loaded.\");\n",
       "      } else if (Date.now() < window._bokeh_timeout) {\n",
       "        setTimeout(display_loaded, 100)\n",
       "      }\n",
       "    }\n",
       "  \n",
       "    function run_callbacks() {\n",
       "      window._bokeh_onload_callbacks.forEach(function(callback) { callback() });\n",
       "      delete window._bokeh_onload_callbacks\n",
       "      console.info(\"Bokeh: all callbacks have finished\");\n",
       "    }\n",
       "  \n",
       "    function load_libs(js_urls, callback) {\n",
       "      window._bokeh_onload_callbacks.push(callback);\n",
       "      if (window._bokeh_is_loading > 0) {\n",
       "        console.log(\"Bokeh: BokehJS is being loaded, scheduling callback at\", now());\n",
       "        return null;\n",
       "      }\n",
       "      if (js_urls == null || js_urls.length === 0) {\n",
       "        run_callbacks();\n",
       "        return null;\n",
       "      }\n",
       "      console.log(\"Bokeh: BokehJS not loaded, scheduling load and callback at\", now());\n",
       "      window._bokeh_is_loading = js_urls.length;\n",
       "      for (var i = 0; i < js_urls.length; i++) {\n",
       "        var url = js_urls[i];\n",
       "        var s = document.createElement('script');\n",
       "        s.src = url;\n",
       "        s.async = false;\n",
       "        s.onreadystatechange = s.onload = function() {\n",
       "          window._bokeh_is_loading--;\n",
       "          if (window._bokeh_is_loading === 0) {\n",
       "            console.log(\"Bokeh: all BokehJS libraries loaded\");\n",
       "            run_callbacks()\n",
       "          }\n",
       "        };\n",
       "        s.onerror = function() {\n",
       "          console.warn(\"failed to load library \" + url);\n",
       "        };\n",
       "        console.log(\"Bokeh: injecting script tag for BokehJS library: \", url);\n",
       "        document.getElementsByTagName(\"head\")[0].appendChild(s);\n",
       "      }\n",
       "    };var element = document.getElementById(\"e174b1e7-2705-46cf-b961-6e912ab0bdb0\");\n",
       "    if (element == null) {\n",
       "      console.log(\"Bokeh: ERROR: autoload.js configured with elementid 'e174b1e7-2705-46cf-b961-6e912ab0bdb0' but no matching script tag was found. \")\n",
       "      return false;\n",
       "    }\n",
       "  \n",
       "    var js_urls = [];\n",
       "  \n",
       "    var inline_js = [\n",
       "      function(Bokeh) {\n",
       "        Bokeh.$(function() {\n",
       "            var docs_json = {\"8211d410-4027-49f5-8619-e9b5c5defaab\":{\"roots\":{\"references\":[{\"attributes\":{\"callback\":null},\"id\":\"97f33c73-3e3c-42ad-8377-a5b1575e7802\",\"type\":\"DataRange1d\"},{\"attributes\":{\"plot\":null,\"text\":\"Top-1000 words distribution\"},\"id\":\"21763643-cd6e-4e86-86c4-2d248d12d398\",\"type\":\"Title\"},{\"attributes\":{\"plot\":{\"id\":\"06bbcd1d-88f8-4e53-8a95-5987c3887cda\",\"subtype\":\"Figure\",\"type\":\"Plot\"}},\"id\":\"02457ccc-816b-4012-88f8-877c0d81ea0e\",\"type\":\"WheelZoomTool\"},{\"attributes\":{\"plot\":{\"id\":\"06bbcd1d-88f8-4e53-8a95-5987c3887cda\",\"subtype\":\"Figure\",\"type\":\"Plot\"}},\"id\":\"31d5ff28-57ee-4bd5-a3c4-fdd0a214b6e4\",\"type\":\"ResetTool\"},{\"attributes\":{},\"id\":\"1f88a448-d967-4772-8cda-cd35dc5f93d8\",\"type\":\"BasicTickFormatter\"},{\"attributes\":{\"below\":[{\"id\":\"b7ab5e11-1b51-4089-b6e7-3865508466d2\",\"type\":\"LinearAxis\"}],\"left\":[{\"id\":\"e4dfc641-79e9-4484-85c1-7b6af84b0712\",\"type\":\"LinearAxis\"}],\"renderers\":[{\"id\":\"b7ab5e11-1b51-4089-b6e7-3865508466d2\",\"type\":\"LinearAxis\"},{\"id\":\"0ccd9db1-c71e-40e1-badb-6536b0e69155\",\"type\":\"Grid\"},{\"id\":\"e4dfc641-79e9-4484-85c1-7b6af84b0712\",\"type\":\"LinearAxis\"},{\"id\":\"1a36b353-aee9-4c54-9dcf-5e997bf75a50\",\"type\":\"Grid\"},{\"id\":\"461f2292-7d9d-4b9e-b51d-bced088d132c\",\"type\":\"GlyphRenderer\"}],\"title\":{\"id\":\"21763643-cd6e-4e86-86c4-2d248d12d398\",\"type\":\"Title\"},\"tool_events\":{\"id\":\"d76c3e57-0b41-4be5-a308-23a2bd84e37f\",\"type\":\"ToolEvents\"},\"toolbar\":{\"id\":\"97cfb7fa-3a4c-4abd-83f0-8ab3bacad186\",\"type\":\"Toolbar\"},\"toolbar_location\":\"above\",\"x_range\":{\"id\":\"97f33c73-3e3c-42ad-8377-a5b1575e7802\",\"type\":\"DataRange1d\"},\"y_range\":{\"id\":\"d7bb3e7a-6605-4468-9cf5-f7cd5d20cd7f\",\"type\":\"DataRange1d\"}},\"id\":\"06bbcd1d-88f8-4e53-8a95-5987c3887cda\",\"subtype\":\"Figure\",\"type\":\"Plot\"},{\"attributes\":{\"bottom\":{\"value\":0},\"fill_color\":{\"value\":\"#1f77b4\"},\"left\":{\"field\":\"left\"},\"line_color\":{\"value\":\"#555555\"},\"right\":{\"field\":\"right\"},\"top\":{\"field\":\"top\"}},\"id\":\"3a8d369b-0411-4d3f-b8c8-c8a20bf8a7c2\",\"type\":\"Quad\"},{\"attributes\":{\"plot\":{\"id\":\"06bbcd1d-88f8-4e53-8a95-5987c3887cda\",\"subtype\":\"Figure\",\"type\":\"Plot\"}},\"id\":\"2171b26b-0e8b-4ac0-9c50-a4af0d77ca13\",\"type\":\"SaveTool\"},{\"attributes\":{\"formatter\":{\"id\":\"76449209-5008-4079-8d89-c61bb93d185a\",\"type\":\"BasicTickFormatter\"},\"plot\":{\"id\":\"06bbcd1d-88f8-4e53-8a95-5987c3887cda\",\"subtype\":\"Figure\",\"type\":\"Plot\"},\"ticker\":{\"id\":\"353f7c58-189a-4d60-9cc8-6c64eaa46ac2\",\"type\":\"BasicTicker\"}},\"id\":\"e4dfc641-79e9-4484-85c1-7b6af84b0712\",\"type\":\"LinearAxis\"},{\"attributes\":{\"plot\":{\"id\":\"06bbcd1d-88f8-4e53-8a95-5987c3887cda\",\"subtype\":\"Figure\",\"type\":\"Plot\"},\"ticker\":{\"id\":\"baf50aa8-5096-4936-a4b1-2f2342d8d820\",\"type\":\"BasicTicker\"}},\"id\":\"0ccd9db1-c71e-40e1-badb-6536b0e69155\",\"type\":\"Grid\"},{\"attributes\":{\"plot\":{\"id\":\"06bbcd1d-88f8-4e53-8a95-5987c3887cda\",\"subtype\":\"Figure\",\"type\":\"Plot\"}},\"id\":\"84ea49a2-ae55-44b0-8ce8-7dcc86592020\",\"type\":\"PanTool\"},{\"attributes\":{},\"id\":\"d76c3e57-0b41-4be5-a308-23a2bd84e37f\",\"type\":\"ToolEvents\"},{\"attributes\":{\"callback\":null},\"id\":\"d7bb3e7a-6605-4468-9cf5-f7cd5d20cd7f\",\"type\":\"DataRange1d\"},{\"attributes\":{},\"id\":\"76449209-5008-4079-8d89-c61bb93d185a\",\"type\":\"BasicTickFormatter\"},{\"attributes\":{\"dimension\":1,\"plot\":{\"id\":\"06bbcd1d-88f8-4e53-8a95-5987c3887cda\",\"subtype\":\"Figure\",\"type\":\"Plot\"},\"ticker\":{\"id\":\"353f7c58-189a-4d60-9cc8-6c64eaa46ac2\",\"type\":\"BasicTicker\"}},\"id\":\"1a36b353-aee9-4c54-9dcf-5e997bf75a50\",\"type\":\"Grid\"},{\"attributes\":{\"formatter\":{\"id\":\"1f88a448-d967-4772-8cda-cd35dc5f93d8\",\"type\":\"BasicTickFormatter\"},\"plot\":{\"id\":\"06bbcd1d-88f8-4e53-8a95-5987c3887cda\",\"subtype\":\"Figure\",\"type\":\"Plot\"},\"ticker\":{\"id\":\"baf50aa8-5096-4936-a4b1-2f2342d8d820\",\"type\":\"BasicTicker\"}},\"id\":\"b7ab5e11-1b51-4089-b6e7-3865508466d2\",\"type\":\"LinearAxis\"},{\"attributes\":{\"bottom\":{\"value\":0},\"fill_alpha\":{\"value\":0.1},\"fill_color\":{\"value\":\"#1f77b4\"},\"left\":{\"field\":\"left\"},\"line_alpha\":{\"value\":0.1},\"line_color\":{\"value\":\"#1f77b4\"},\"right\":{\"field\":\"right\"},\"top\":{\"field\":\"top\"}},\"id\":\"cf0b26f2-6a2a-4704-88aa-40bd65d389a0\",\"type\":\"Quad\"},{\"attributes\":{},\"id\":\"353f7c58-189a-4d60-9cc8-6c64eaa46ac2\",\"type\":\"BasicTicker\"},{\"attributes\":{\"callback\":null,\"column_names\":[\"right\",\"left\",\"top\"],\"data\":{\"left\":[1912.0,14761.2,27610.4,40459.600000000006,53308.8,66158.0,79007.20000000001,91856.40000000001,104705.6,117554.8,130404.0,143253.2,156102.40000000002,168951.6,181800.80000000002,194650.0,207499.2,220348.40000000002,233197.6,246046.80000000002,258896.0,271745.2,284594.4,297443.60000000003,310292.80000000005,323142.0,335991.2,348840.4,361689.60000000003,374538.80000000005,387388.0,400237.2,413086.4,425935.60000000003,438784.80000000005,451634.0,464483.2,477332.4,490181.60000000003,503030.80000000005,515880.0,528729.2000000001,541578.4,554427.6,567276.8,580126.0,592975.2000000001,605824.4,618673.6000000001,631522.8,644372.0,657221.2000000001,670070.4,682919.6000000001,695768.8,708618.0,721467.2000000001,734316.4,747165.6000000001,760014.8,772864.0,785713.2000000001,798562.4,811411.6000000001,824260.8,837110.0,849959.2000000001,862808.4,875657.6000000001,888506.8,901356.0,914205.2000000001,927054.4,939903.6000000001,952752.8,965602.0,978451.2000000001,991300.4,1004149.6000000001,1016998.8,1029848.0,1042697.2000000001,1055546.4000000001,1068395.6,1081244.8,1094094.0,1106943.2,1119792.4000000001,1132641.6,1145490.8,1158340.0,1171189.2,1184038.4000000001,1196887.6,1209736.8,1222586.0,1235435.2000000002,1248284.4000000001,1261133.6,1273982.8],\"right\":[14761.2,27610.4,40459.600000000006,53308.8,66158.0,79007.20000000001,91856.40000000001,104705.6,117554.8,130404.0,143253.2,156102.40000000002,168951.6,181800.80000000002,194650.0,207499.2,220348.40000000002,233197.6,246046.80000000002,258896.0,271745.2,284594.4,297443.60000000003,310292.80000000005,323142.0,335991.2,348840.4,361689.60000000003,374538.80000000005,387388.0,400237.2,413086.4,425935.60000000003,438784.80000000005,451634.0,464483.2,477332.4,490181.60000000003,503030.80000000005,515880.0,528729.2000000001,541578.4,554427.6,567276.8,580126.0,592975.2000000001,605824.4,618673.6000000001,631522.8,644372.0,657221.2000000001,670070.4,682919.6000000001,695768.8,708618.0,721467.2000000001,734316.4,747165.6000000001,760014.8,772864.0,785713.2000000001,798562.4,811411.6000000001,824260.8,837110.0,849959.2000000001,862808.4,875657.6000000001,888506.8,901356.0,914205.2000000001,927054.4,939903.6000000001,952752.8,965602.0,978451.2000000001,991300.4,1004149.6000000001,1016998.8,1029848.0,1042697.2000000001,1055546.4000000001,1068395.6,1081244.8,1094094.0,1106943.2,1119792.4000000001,1132641.6,1145490.8,1158340.0,1171189.2,1184038.4000000001,1196887.6,1209736.8,1222586.0,1235435.2000000002,1248284.4000000001,1261133.6,1273982.8,1286832.0],\"top\":[7.152196245680664e-05,2.801730847056626e-06,1.3230395666656286e-06,3.113034274507363e-07,2.3347757058805222e-07,7.782585686268399e-08,2.3347757058805222e-07,2.3347757058805222e-07,0.0,1.5565171372536814e-07,1.5565171372536798e-07,1.5565171372536798e-07,7.782585686268416e-08,0.0,0.0,0.0,7.782585686268399e-08,0.0,0.0,0.0,0.0,0.0,0.0,0.0,0.0,0.0,0.0,7.782585686268399e-08,0.0,0.0,7.782585686268399e-08,0.0,0.0,7.782585686268399e-08,0.0,0.0,0.0,0.0,7.782585686268399e-08,0.0,0.0,0.0,7.782585686268435e-08,0.0,0.0,0.0,0.0,0.0,0.0,0.0,0.0,0.0,0.0,0.0,0.0,0.0,0.0,0.0,0.0,0.0,0.0,0.0,0.0,0.0,0.0,0.0,0.0,0.0,0.0,0.0,0.0,0.0,0.0,0.0,0.0,0.0,0.0,0.0,0.0,0.0,0.0,0.0,0.0,0.0,0.0,0.0,0.0,0.0,0.0,0.0,0.0,0.0,0.0,0.0,0.0,0.0,0.0,0.0,0.0,7.782585686268435e-08]}},\"id\":\"8ee97390-e69b-48c5-a31e-a5ec1d9a9d92\",\"type\":\"ColumnDataSource\"},{\"attributes\":{\"data_source\":{\"id\":\"8ee97390-e69b-48c5-a31e-a5ec1d9a9d92\",\"type\":\"ColumnDataSource\"},\"glyph\":{\"id\":\"3a8d369b-0411-4d3f-b8c8-c8a20bf8a7c2\",\"type\":\"Quad\"},\"hover_glyph\":null,\"nonselection_glyph\":{\"id\":\"cf0b26f2-6a2a-4704-88aa-40bd65d389a0\",\"type\":\"Quad\"},\"selection_glyph\":null},\"id\":\"461f2292-7d9d-4b9e-b51d-bced088d132c\",\"type\":\"GlyphRenderer\"},{\"attributes\":{\"active_drag\":\"auto\",\"active_scroll\":\"auto\",\"active_tap\":\"auto\",\"tools\":[{\"id\":\"84ea49a2-ae55-44b0-8ce8-7dcc86592020\",\"type\":\"PanTool\"},{\"id\":\"02457ccc-816b-4012-88f8-877c0d81ea0e\",\"type\":\"WheelZoomTool\"},{\"id\":\"31d5ff28-57ee-4bd5-a3c4-fdd0a214b6e4\",\"type\":\"ResetTool\"},{\"id\":\"2171b26b-0e8b-4ac0-9c50-a4af0d77ca13\",\"type\":\"SaveTool\"}]},\"id\":\"97cfb7fa-3a4c-4abd-83f0-8ab3bacad186\",\"type\":\"Toolbar\"},{\"attributes\":{},\"id\":\"baf50aa8-5096-4936-a4b1-2f2342d8d820\",\"type\":\"BasicTicker\"}],\"root_ids\":[\"06bbcd1d-88f8-4e53-8a95-5987c3887cda\"]},\"title\":\"Bokeh Application\",\"version\":\"0.12.2\"}};\n",
       "            var render_items = [{\"docid\":\"8211d410-4027-49f5-8619-e9b5c5defaab\",\"elementid\":\"e174b1e7-2705-46cf-b961-6e912ab0bdb0\",\"modelid\":\"06bbcd1d-88f8-4e53-8a95-5987c3887cda\"}];\n",
       "            \n",
       "            Bokeh.embed.embed_items(docs_json, render_items);\n",
       "        });\n",
       "      },\n",
       "      function(Bokeh) {\n",
       "      }\n",
       "    ];\n",
       "  \n",
       "    function run_inline_js() {\n",
       "      \n",
       "      if ((window.Bokeh !== undefined) || (force === \"1\")) {\n",
       "        for (var i = 0; i < inline_js.length; i++) {\n",
       "          inline_js[i](window.Bokeh);\n",
       "        }if (force === \"1\") {\n",
       "          display_loaded();\n",
       "        }} else if (Date.now() < window._bokeh_timeout) {\n",
       "        setTimeout(run_inline_js, 100);\n",
       "      } else if (!window._bokeh_failed_load) {\n",
       "        console.log(\"Bokeh: BokehJS failed to load within specified timeout.\");\n",
       "        window._bokeh_failed_load = true;\n",
       "      } else if (!force) {\n",
       "        var cell = $(\"#e174b1e7-2705-46cf-b961-6e912ab0bdb0\").parents('.cell').data().cell;\n",
       "        cell.output_area.append_execute_result(NB_LOAD_WARNING)\n",
       "      }\n",
       "  \n",
       "    }\n",
       "  \n",
       "    if (window._bokeh_is_loading === 0) {\n",
       "      console.log(\"Bokeh: BokehJS loaded, going straight to plotting\");\n",
       "      run_inline_js();\n",
       "    } else {\n",
       "      load_libs(js_urls, function() {\n",
       "        console.log(\"Bokeh: BokehJS plotting callback run at\", now());\n",
       "        run_inline_js();\n",
       "      });\n",
       "    }\n",
       "  }(this));\n",
       "</script>"
      ]
     },
     "metadata": {},
     "output_type": "display_data"
    }
   ],
   "source": [
    "counts_wiki = collections.Counter()\n",
    "tokens_wiki = [token for sentence in sentences_wiki for token in sentence]\n",
    "\n",
    "for token in tokens_wiki:\n",
    "    counts_wiki[token] += 1\n",
    "    \n",
    "counts_wiki_top1000 = counts_wiki.most_common(1000)\n",
    "\n",
    "hist, edges = np.histogram([x[1] for x in counts_wiki_top1000], density=True, bins=100, normed=True)\n",
    "\n",
    "p = figure(tools=\"pan,wheel_zoom,reset,save\",\n",
    "           toolbar_location=\"above\",\n",
    "           title=\"Top-1000 words distribution\")\n",
    "p.quad(top=hist, bottom=0, left=edges[:-1], right=edges[1:], line_color=\"#555555\")\n",
    "show(p)"
   ]
  },
  {
   "cell_type": "code",
   "execution_count": 103,
   "metadata": {
    "collapsed": true
   },
   "outputs": [],
   "source": [
    "model_wiki = Word2Vec(sentences_wiki, size=100, window=5, min_count=10, workers=1)"
   ]
  },
  {
   "cell_type": "code",
   "execution_count": 104,
   "metadata": {
    "collapsed": false
   },
   "outputs": [
    {
     "data": {
      "text/plain": [
       "[('woman', 0.6954430341720581),\n",
       " ('girl', 0.6509484648704529),\n",
       " ('boy', 0.6016116738319397),\n",
       " ('person', 0.5893335938453674),\n",
       " ('dog', 0.5880861282348633),\n",
       " ('mask', 0.5850304365158081),\n",
       " ('soldier', 0.5638561844825745),\n",
       " ('kid', 0.5495645999908447),\n",
       " ('creature', 0.547523021697998),\n",
       " ('men', 0.5333366990089417)]"
      ]
     },
     "execution_count": 104,
     "metadata": {},
     "output_type": "execute_result"
    }
   ],
   "source": [
    "model_wiki.most_similar(\"man\")"
   ]
  },
  {
   "cell_type": "code",
   "execution_count": 105,
   "metadata": {
    "collapsed": false
   },
   "outputs": [
    {
     "data": {
      "text/plain": [
       "[('software', 0.8049265742301941),\n",
       " ('cgi', 0.7623907327651978),\n",
       " ('hardware', 0.761694073677063),\n",
       " ('computers', 0.7339255809783936),\n",
       " ('simulation', 0.721693754196167),\n",
       " ('computing', 0.7167501449584961),\n",
       " ('interface', 0.7002394795417786),\n",
       " ('controller', 0.69896399974823),\n",
       " ('interactive', 0.6970891952514648),\n",
       " ('gps', 0.6895076036453247)]"
      ]
     },
     "execution_count": 105,
     "metadata": {},
     "output_type": "execute_result"
    }
   ],
   "source": [
    "model_wiki.most_similar(\"computer\")"
   ]
  },
  {
   "cell_type": "code",
   "execution_count": 106,
   "metadata": {
    "collapsed": false
   },
   "outputs": [
    {
     "data": {
      "text/plain": [
       "[('sediment', 0.7276384234428406),\n",
       " ('seawater', 0.6972014904022217),\n",
       " ('soil', 0.6954233646392822),\n",
       " ('stream', 0.6868279576301575),\n",
       " ('peat', 0.6830620765686035),\n",
       " ('drain', 0.6697967052459717),\n",
       " ('salt', 0.6679208874702454),\n",
       " ('oxygen', 0.6665977835655212),\n",
       " ('dry', 0.6652068495750427),\n",
       " ('marshes', 0.6618791818618774)]"
      ]
     },
     "execution_count": 106,
     "metadata": {},
     "output_type": "execute_result"
    }
   ],
   "source": [
    "model_wiki.most_similar(\"water\")"
   ]
  },
  {
   "cell_type": "code",
   "execution_count": 107,
   "metadata": {
    "collapsed": false
   },
   "outputs": [
    {
     "data": {
      "text/plain": [
       "[('telephone', 0.6932331919670105),\n",
       " ('fake', 0.6031588315963745),\n",
       " ('phones', 0.5974645018577576),\n",
       " ('mulder', 0.5884917974472046),\n",
       " ('prank', 0.586082935333252),\n",
       " ('file', 0.5787581205368042),\n",
       " ('twitter', 0.557492733001709),\n",
       " ('laptop', 0.5561655163764954),\n",
       " ('email', 0.5556689500808716),\n",
       " ('youtube', 0.5497740507125854)]"
      ]
     },
     "execution_count": 107,
     "metadata": {},
     "output_type": "execute_result"
    }
   ],
   "source": [
    "model_wiki.most_similar(\"phone\")"
   ]
  },
  {
   "cell_type": "code",
   "execution_count": 108,
   "metadata": {
    "collapsed": false
   },
   "outputs": [
    {
     "data": {
      "text/plain": [
       "[('cash', 0.7150408625602722),\n",
       " ('funds', 0.6921606063842773),\n",
       " ('payment', 0.670091986656189),\n",
       " ('compensation', 0.661243736743927),\n",
       " ('profits', 0.6422410011291504),\n",
       " ('debt', 0.632174015045166),\n",
       " ('loans', 0.6252145767211914),\n",
       " ('expenses', 0.6171555519104004),\n",
       " ('rent', 0.6132705211639404),\n",
       " ('revenue', 0.6083551645278931)]"
      ]
     },
     "execution_count": 108,
     "metadata": {},
     "output_type": "execute_result"
    }
   ],
   "source": [
    "model_wiki.most_similar(\"money\")"
   ]
  },
  {
   "cell_type": "markdown",
   "metadata": {},
   "source": [
    "#### t-SNE visualization"
   ]
  },
  {
   "cell_type": "code",
   "execution_count": 109,
   "metadata": {
    "collapsed": true
   },
   "outputs": [],
   "source": [
    "words_top_wiki = [pair[0] for pair in counts_wiki_top1000]\n",
    "\n",
    "# This assumes words_top_wiki is a list of strings, the top 1000 words\n",
    "words_top_vec_wiki = model_wiki[words_top_wiki]\n",
    "\n",
    "tsne = TSNE(n_components=2, random_state=0)\n",
    "words_top_wiki_tsne = tsne.fit_transform(words_top_vec_wiki)"
   ]
  },
  {
   "cell_type": "code",
   "execution_count": 110,
   "metadata": {
    "collapsed": false
   },
   "outputs": [
    {
     "data": {
      "text/html": [
       "\n",
       "\n",
       "    <div class=\"bk-root\">\n",
       "        <div class=\"plotdiv\" id=\"e662e143-1539-4ba6-af73-2ae0f7f60df3\"></div>\n",
       "    </div>\n",
       "<script type=\"text/javascript\">\n",
       "  \n",
       "  (function(global) {\n",
       "    function now() {\n",
       "      return new Date();\n",
       "    }\n",
       "  \n",
       "    var force = \"\";\n",
       "  \n",
       "    if (typeof (window._bokeh_onload_callbacks) === \"undefined\" || force !== \"\") {\n",
       "      window._bokeh_onload_callbacks = [];\n",
       "      window._bokeh_is_loading = undefined;\n",
       "    }\n",
       "  \n",
       "  \n",
       "    \n",
       "    if (typeof (window._bokeh_timeout) === \"undefined\" || force !== \"\") {\n",
       "      window._bokeh_timeout = Date.now() + 0;\n",
       "      window._bokeh_failed_load = false;\n",
       "    }\n",
       "  \n",
       "    var NB_LOAD_WARNING = {'data': {'text/html':\n",
       "       \"<div style='background-color: #fdd'>\\n\"+\n",
       "       \"<p>\\n\"+\n",
       "       \"BokehJS does not appear to have successfully loaded. If loading BokehJS from CDN, this \\n\"+\n",
       "       \"may be due to a slow or bad network connection. Possible fixes:\\n\"+\n",
       "       \"</p>\\n\"+\n",
       "       \"<ul>\\n\"+\n",
       "       \"<li>re-rerun `output_notebook()` to attempt to load from CDN again, or</li>\\n\"+\n",
       "       \"<li>use INLINE resources instead, as so:</li>\\n\"+\n",
       "       \"</ul>\\n\"+\n",
       "       \"<code>\\n\"+\n",
       "       \"from bokeh.resources import INLINE\\n\"+\n",
       "       \"output_notebook(resources=INLINE)\\n\"+\n",
       "       \"</code>\\n\"+\n",
       "       \"</div>\"}};\n",
       "  \n",
       "    function display_loaded() {\n",
       "      if (window.Bokeh !== undefined) {\n",
       "        Bokeh.$(\"#e662e143-1539-4ba6-af73-2ae0f7f60df3\").text(\"BokehJS successfully loaded.\");\n",
       "      } else if (Date.now() < window._bokeh_timeout) {\n",
       "        setTimeout(display_loaded, 100)\n",
       "      }\n",
       "    }\n",
       "  \n",
       "    function run_callbacks() {\n",
       "      window._bokeh_onload_callbacks.forEach(function(callback) { callback() });\n",
       "      delete window._bokeh_onload_callbacks\n",
       "      console.info(\"Bokeh: all callbacks have finished\");\n",
       "    }\n",
       "  \n",
       "    function load_libs(js_urls, callback) {\n",
       "      window._bokeh_onload_callbacks.push(callback);\n",
       "      if (window._bokeh_is_loading > 0) {\n",
       "        console.log(\"Bokeh: BokehJS is being loaded, scheduling callback at\", now());\n",
       "        return null;\n",
       "      }\n",
       "      if (js_urls == null || js_urls.length === 0) {\n",
       "        run_callbacks();\n",
       "        return null;\n",
       "      }\n",
       "      console.log(\"Bokeh: BokehJS not loaded, scheduling load and callback at\", now());\n",
       "      window._bokeh_is_loading = js_urls.length;\n",
       "      for (var i = 0; i < js_urls.length; i++) {\n",
       "        var url = js_urls[i];\n",
       "        var s = document.createElement('script');\n",
       "        s.src = url;\n",
       "        s.async = false;\n",
       "        s.onreadystatechange = s.onload = function() {\n",
       "          window._bokeh_is_loading--;\n",
       "          if (window._bokeh_is_loading === 0) {\n",
       "            console.log(\"Bokeh: all BokehJS libraries loaded\");\n",
       "            run_callbacks()\n",
       "          }\n",
       "        };\n",
       "        s.onerror = function() {\n",
       "          console.warn(\"failed to load library \" + url);\n",
       "        };\n",
       "        console.log(\"Bokeh: injecting script tag for BokehJS library: \", url);\n",
       "        document.getElementsByTagName(\"head\")[0].appendChild(s);\n",
       "      }\n",
       "    };var element = document.getElementById(\"e662e143-1539-4ba6-af73-2ae0f7f60df3\");\n",
       "    if (element == null) {\n",
       "      console.log(\"Bokeh: ERROR: autoload.js configured with elementid 'e662e143-1539-4ba6-af73-2ae0f7f60df3' but no matching script tag was found. \")\n",
       "      return false;\n",
       "    }\n",
       "  \n",
       "    var js_urls = [];\n",
       "  \n",
       "    var inline_js = [\n",
       "      function(Bokeh) {\n",
       "        Bokeh.$(function() {\n",
       "            var docs_json = {\"3c765684-b73c-4c0e-9269-ac44d98d31ee\":{\"roots\":{\"references\":[{\"attributes\":{},\"id\":\"72835bde-289a-4d9e-9032-6ba10f23054d\",\"type\":\"BasicTickFormatter\"},{\"attributes\":{\"plot\":{\"id\":\"9dab150a-b718-4021-beaa-c986779e1539\",\"subtype\":\"Figure\",\"type\":\"Plot\"}},\"id\":\"84acbd54-760b-4673-933f-155f9057f8a5\",\"type\":\"ResetTool\"},{\"attributes\":{\"plot\":{\"id\":\"9dab150a-b718-4021-beaa-c986779e1539\",\"subtype\":\"Figure\",\"type\":\"Plot\"}},\"id\":\"4e5211b1-6063-4dab-8cf6-409dacf2677b\",\"type\":\"PanTool\"},{\"attributes\":{\"formatter\":{\"id\":\"8506834d-ee58-47ee-b670-7d1bf3a38f86\",\"type\":\"BasicTickFormatter\"},\"plot\":{\"id\":\"9dab150a-b718-4021-beaa-c986779e1539\",\"subtype\":\"Figure\",\"type\":\"Plot\"},\"ticker\":{\"id\":\"3808a723-aba8-4206-9e36-bb40a5a1b2a3\",\"type\":\"BasicTicker\"}},\"id\":\"c229e276-4f3b-4b56-8b05-92e7fc02e11e\",\"type\":\"LinearAxis\"},{\"attributes\":{\"plot\":{\"id\":\"9dab150a-b718-4021-beaa-c986779e1539\",\"subtype\":\"Figure\",\"type\":\"Plot\"}},\"id\":\"42841f37-df71-4445-9cf1-044ff2fa592f\",\"type\":\"SaveTool\"},{\"attributes\":{\"callback\":null},\"id\":\"0fd628d4-286d-4977-8539-ec3487fb8e7e\",\"type\":\"DataRange1d\"},{\"attributes\":{\"data_source\":{\"id\":\"edc2fc4e-c886-401e-8712-b68a5319883c\",\"type\":\"ColumnDataSource\"},\"glyph\":{\"id\":\"b7eeb838-94b7-4a5b-9eca-4874d6188675\",\"type\":\"Circle\"},\"hover_glyph\":null,\"nonselection_glyph\":{\"id\":\"2ead4fb7-7f7f-40b9-8e5f-ea4ccda28f1b\",\"type\":\"Circle\"},\"selection_glyph\":null},\"id\":\"56c214d8-4518-4549-b13e-ed0a6dbf02a5\",\"type\":\"GlyphRenderer\"},{\"attributes\":{},\"id\":\"a3bc27f8-877b-439c-a2c0-290437a3be47\",\"type\":\"BasicTicker\"},{\"attributes\":{\"below\":[{\"id\":\"d18851d6-317b-4e30-b2f0-3033a966b328\",\"type\":\"LinearAxis\"}],\"left\":[{\"id\":\"c229e276-4f3b-4b56-8b05-92e7fc02e11e\",\"type\":\"LinearAxis\"}],\"renderers\":[{\"id\":\"d18851d6-317b-4e30-b2f0-3033a966b328\",\"type\":\"LinearAxis\"},{\"id\":\"dabbe6e3-d0f8-474a-b328-99439439b3bc\",\"type\":\"Grid\"},{\"id\":\"c229e276-4f3b-4b56-8b05-92e7fc02e11e\",\"type\":\"LinearAxis\"},{\"id\":\"8d6722e8-7f68-4fee-8888-0c86df2121ed\",\"type\":\"Grid\"},{\"id\":\"56c214d8-4518-4549-b13e-ed0a6dbf02a5\",\"type\":\"GlyphRenderer\"},{\"id\":\"6fd11466-82b6-45f9-b237-f2b2f8efe3ba\",\"type\":\"LabelSet\"}],\"title\":{\"id\":\"e80c3461-09f5-4ec1-8c41-e1b8543b5616\",\"type\":\"Title\"},\"tool_events\":{\"id\":\"d0b36e91-d11e-4259-9e51-e2078010b550\",\"type\":\"ToolEvents\"},\"toolbar\":{\"id\":\"73d79fd7-7529-420e-8846-a6cd494bb10b\",\"type\":\"Toolbar\"},\"toolbar_location\":\"above\",\"x_range\":{\"id\":\"7f9e9796-9bbe-44b7-910a-262cb0e9e0cf\",\"type\":\"DataRange1d\"},\"y_range\":{\"id\":\"0fd628d4-286d-4977-8539-ec3487fb8e7e\",\"type\":\"DataRange1d\"}},\"id\":\"9dab150a-b718-4021-beaa-c986779e1539\",\"subtype\":\"Figure\",\"type\":\"Plot\"},{\"attributes\":{},\"id\":\"d0b36e91-d11e-4259-9e51-e2078010b550\",\"type\":\"ToolEvents\"},{\"attributes\":{\"plot\":null,\"text\":\"word2vec T-SNE for most common words\"},\"id\":\"e80c3461-09f5-4ec1-8c41-e1b8543b5616\",\"type\":\"Title\"},{\"attributes\":{},\"id\":\"3808a723-aba8-4206-9e36-bb40a5a1b2a3\",\"type\":\"BasicTicker\"},{\"attributes\":{\"fill_color\":{\"value\":\"#1f77b4\"},\"line_color\":{\"value\":\"#1f77b4\"},\"size\":{\"units\":\"screen\",\"value\":8},\"x\":{\"field\":\"x1\"},\"y\":{\"field\":\"x2\"}},\"id\":\"b7eeb838-94b7-4a5b-9eca-4874d6188675\",\"type\":\"Circle\"},{\"attributes\":{\"callback\":null},\"id\":\"7f9e9796-9bbe-44b7-910a-262cb0e9e0cf\",\"type\":\"DataRange1d\"},{\"attributes\":{\"fill_alpha\":{\"value\":0.1},\"fill_color\":{\"value\":\"#1f77b4\"},\"line_alpha\":{\"value\":0.1},\"line_color\":{\"value\":\"#1f77b4\"},\"size\":{\"units\":\"screen\",\"value\":8},\"x\":{\"field\":\"x1\"},\"y\":{\"field\":\"x2\"}},\"id\":\"2ead4fb7-7f7f-40b9-8e5f-ea4ccda28f1b\",\"type\":\"Circle\"},{\"attributes\":{\"active_drag\":\"auto\",\"active_scroll\":\"auto\",\"active_tap\":\"auto\",\"tools\":[{\"id\":\"4e5211b1-6063-4dab-8cf6-409dacf2677b\",\"type\":\"PanTool\"},{\"id\":\"b2d949d0-6efd-4a9d-be68-6aeb55554be4\",\"type\":\"WheelZoomTool\"},{\"id\":\"84acbd54-760b-4673-933f-155f9057f8a5\",\"type\":\"ResetTool\"},{\"id\":\"42841f37-df71-4445-9cf1-044ff2fa592f\",\"type\":\"SaveTool\"}]},\"id\":\"73d79fd7-7529-420e-8846-a6cd494bb10b\",\"type\":\"Toolbar\"},{\"attributes\":{\"callback\":null,\"column_names\":[\"names\",\"x1\",\"x2\"],\"data\":{\"names\":[\"the\",\"of\",\"and\",\"in\",\"to\",\"a\",\"was\",\"s\",\"on\",\"as\",\"for\",\"that\",\"with\",\"by\",\"is\",\"his\",\"at\",\"he\",\"from\",\"it\",\"were\",\"an\",\"had\",\"which\",\"be\",\"this\",\"but\",\"are\",\"first\",\"not\",\"their\",\"after\",\"one\",\"her\",\"its\",\"also\",\"they\",\"two\",\"or\",\"have\",\"who\",\"new\",\"been\",\"has\",\"she\",\"when\",\"during\",\"time\",\"other\",\"would\",\"into\",\"all\",\"i\",\"more\",\"while\",\"over\",\"him\",\"later\",\"game\",\"only\",\"up\",\"most\",\"about\",\"three\",\"between\",\"out\",\"than\",\"th\",\"there\",\"some\",\"film\",\"may\",\"year\",\"before\",\"made\",\"no\",\"such\",\"second\",\"season\",\"where\",\"world\",\"war\",\"years\",\"however\",\"both\",\"being\",\"used\",\"then\",\"them\",\"song\",\"through\",\"these\",\"series\",\"against\",\"m\",\"album\",\"many\",\"team\",\"city\",\"number\",\"became\",\"north\",\"several\",\"part\",\"well\",\"united\",\"can\",\"four\",\"including\",\"under\",\"early\",\"state\",\"music\",\"south\",\"so\",\"episode\",\"day\",\"following\",\"said\",\"states\",\"american\",\"could\",\"did\",\"work\",\"known\",\"although\",\"began\",\"until\",\"because\",\"called\",\"released\",\"like\",\"t\",\"high\",\"people\",\"end\",\"british\",\"since\",\"around\",\"each\",\"life\",\"national\",\"long\",\"if\",\"found\",\"september\",\"west\",\"best\",\"million\",\"same\",\"another\",\"along\",\"back\",\"us\",\"five\",\"took\",\"you\",\"any\",\"show\",\"use\",\"group\",\"off\",\"final\",\"km\",\"area\",\"received\",\"century\",\"august\",\"october\",\"due\",\"school\",\"what\",\"line\",\"john\",\"east\",\"system\",\"will\",\"june\",\"july\",\"single\",\"march\",\"third\",\"government\",\"home\",\"games\",\"november\",\"much\",\"general\",\"set\",\"april\",\"large\",\"major\",\"based\",\"left\",\"family\",\"down\",\"place\",\"just\",\"york\",\"we\",\"house\",\"army\",\"history\",\"company\",\"included\",\"road\",\"january\",\"king\",\"december\",\"played\",\"now\",\"character\",\"band\",\"six\",\"name\",\"wrote\",\"according\",\"main\",\"won\",\"those\",\"death\",\"st\",\"led\",\"named\",\"within\",\"last\",\"described\",\"video\",\"own\",\"men\",\"air\",\"d\",\"times\",\"river\",\"next\",\"near\",\"late\",\"battle\",\"release\",\"record\",\"de\",\"make\",\"small\",\"still\",\"original\",\"league\",\"top\",\"way\",\"even\",\"route\",\"very\",\"force\",\"ship\",\"club\",\"species\",\"man\",\"production\",\"february\",\"storm\",\"great\",\"though\",\"u\",\"public\",\"again\",\"days\",\"play\",\"university\",\"held\",\"division\",\"built\",\"old\",\"among\",\"do\",\"members\",\"further\",\"match\",\"book\",\"role\",\"service\",\"having\",\"german\",\"story\",\"b\",\"white\",\"player\",\"career\",\"power\",\"french\",\"side\",\"water\",\"often\",\"order\",\"local\",\"former\",\"h\",\"point\",\"came\",\"continued\",\"black\",\"park\",\"without\",\"despite\",\"party\",\"england\",\"town\",\"few\",\"songs\",\"considered\",\"development\",\"take\",\"written\",\"half\",\"lost\",\"moved\",\"become\",\"version\",\"form\",\"island\",\"county\",\"support\",\"international\",\"military\",\"period\",\"building\",\"c\",\"forces\",\"president\",\"english\",\"different\",\"ii\",\"london\",\"little\",\"given\",\"court\",\"street\",\"country\",\"tropical\",\"performance\",\"re\",\"gave\",\"tour\",\"lead\",\"produced\",\"went\",\"attack\",\"similar\",\"position\",\"published\",\"track\",\"short\",\"using\",\"my\",\"church\",\"returned\",\"never\",\"class\",\"land\",\"n\",\"royal\",\"ships\",\"run\",\"recorded\",\"television\",\"father\",\"total\",\"good\",\"week\",\"how\",\"stated\",\"children\",\"right\",\"per\",\"western\",\"control\",\"aircraft\",\"making\",\"highway\",\"include\",\"upon\",\"throughout\",\"live\",\"love\",\"star\",\"fire\",\"women\",\"australia\",\"once\",\"light\",\"central\",\"less\",\"himself\",\"rock\",\"me\",\"head\",\"young\",\"remained\",\"instead\",\"players\",\"age\",\"characters\",\"station\",\"ten\",\"design\",\"across\",\"political\",\"writing\",\"away\",\"died\",\"title\",\"seven\",\"ft\",\"law\",\"r\",\"return\",\"sea\",\"months\",\"developed\",\"james\",\"eight\",\"red\",\"result\",\"center\",\"previous\",\"southern\",\"night\",\"reported\",\"e\",\"areas\",\"reached\",\"america\",\"race\",\"eventually\",\"noted\",\"son\",\"too\",\"office\",\"award\",\"act\",\"should\",\"william\",\"miles\",\"style\",\"college\",\"various\",\"created\",\"felt\",\"hurricane\",\"low\",\"field\",\"together\",\"sent\",\"seen\",\"win\",\"performed\",\"followed\",\"announced\",\"construction\",\"level\",\"full\",\"able\",\"member\",\"served\",\"mm\",\"japanese\",\"campaign\",\"established\",\"range\",\"killed\",\"action\",\"project\",\"works\",\"northern\",\"originally\",\"body\",\"special\",\"front\",\"australian\",\"taken\",\"points\",\"common\",\"modern\",\"thought\",\"chart\",\"others\",\"present\",\"george\",\"appeared\",\"features\",\"success\",\"behind\",\"born\",\"started\",\"addition\",\"rather\",\"playing\",\"feet\",\"caused\",\"every\",\"fourth\",\"football\",\"post\",\"located\",\"bridge\",\"get\",\"heavy\",\"stage\",\"damage\",\"decided\",\"critics\",\"championship\",\"initially\",\"o\",\"sold\",\"see\",\"added\",\"completed\",\"population\",\"david\",\"formed\",\"site\",\"saw\",\"non\",\"f\",\"fleet\",\"kingdom\",\"eastern\",\"close\",\"strong\",\"important\",\"worked\",\"soon\",\"director\",\"awards\",\"art\",\"go\",\"region\",\"coast\",\"almost\",\"free\",\"case\",\"towards\",\"leading\",\"popular\",\"opened\",\"mother\",\"weeks\",\"command\",\"open\",\"guns\",\"ground\",\"least\",\"union\",\"scene\",\"michael\",\"scored\",\"henry\",\"mi\",\"france\",\"help\",\"recording\",\"working\",\"event\",\"brought\",\"l\",\"ever\",\"training\",\"hall\",\"navy\",\"allowed\",\"sound\",\"cup\",\"wanted\",\"troops\",\"example\",\"hit\",\"wife\",\"does\",\"average\",\"provided\",\"featured\",\"records\",\"either\",\"far\",\"human\",\"europe\",\"placed\",\"victory\",\"council\",\"hours\",\"list\",\"magazine\",\"runs\",\"joined\",\"events\",\"mid\",\"put\",\"washington\",\"generally\",\"studio\",\"co\",\"robert\",\"believed\",\"media\",\"police\",\"finished\",\"opening\",\"squadron\",\"designed\",\"summer\",\"start\",\"minutes\",\"nine\",\"association\",\"saying\",\"operation\",\"involved\",\"significant\",\"radio\",\"brown\",\"japan\",\"al\",\"replaced\",\"beginning\",\"base\",\"available\",\"x\",\"earlier\",\"european\",\"highest\",\"big\",\"crew\",\"rest\",\"review\",\"particularly\",\"change\",\"process\",\"official\",\"met\",\"test\",\"largest\",\"month\",\"society\",\"films\",\"cast\",\"stone\",\"shot\",\"come\",\"better\",\"forced\",\"possible\",\"successful\",\"mph\",\"taking\",\"research\",\"lower\",\"captain\",\"middle\",\"relationship\",\"business\",\"reviews\",\"section\",\"appearance\",\"must\",\"real\",\"future\",\"increased\",\"social\",\"enough\",\"outside\",\"move\",\"passed\",\"praised\",\"units\",\"canada\",\"goal\",\"turned\",\"rights\",\"board\",\"above\",\"additional\",\"ended\",\"san\",\"chief\",\"staff\",\"cross\",\"community\",\"positive\",\"critical\",\"going\",\"program\",\"previously\",\"hill\",\"thus\",\"interest\",\"ordered\",\"committee\",\"charles\",\"brother\",\"gold\",\"winds\",\"space\",\"round\",\"paul\",\"gun\",\"lines\",\"thomas\",\"failed\",\"parts\",\"female\",\"musical\",\"castle\",\"directed\",\"groups\",\"personal\",\"g\",\"told\",\"spent\",\"find\",\"v\",\"plan\",\"elements\",\"infantry\",\"california\",\"attempt\",\"give\",\"lake\",\"germany\",\"reception\",\"bill\",\"news\",\"overall\",\"smith\",\"itself\",\"money\",\"battalion\",\"signed\",\"don\",\"required\",\"sometimes\",\"entire\",\"prior\",\"room\",\"election\",\"type\",\"idea\",\"grand\",\"square\",\"study\",\"evidence\",\"india\",\"asked\",\"district\",\"speed\",\"past\",\"score\",\"press\",\"movement\",\"usually\",\"novel\",\"cover\",\"hand\",\"turn\",\"governor\",\"episodes\",\"whom\",\"introduced\",\"green\",\"plot\",\"commander\",\"indian\",\"term\",\"ny\",\"quickly\",\"surface\",\"decision\",\"background\",\"claimed\",\"food\",\"uk\",\"whose\",\"minister\",\"students\",\"p\",\"issue\",\"complete\",\"already\",\"loss\",\"our\",\"port\",\"debut\",\"writer\",\"person\",\"influence\",\"course\",\"stars\",\"education\",\"remaining\",\"limited\",\"larger\",\"shows\",\"especially\",\"industry\",\"estimated\",\"voice\",\"k\",\"length\",\"cut\",\"science\",\"scenes\",\"entered\",\"blue\",\"fifth\",\"effects\",\"material\",\"services\",\"flight\",\"carried\",\"mark\",\"arrived\",\"la\",\"peter\",\"operations\",\"latter\",\"bay\",\"anti\",\"woman\",\"might\",\"suggested\",\"self\",\"earth\",\"structure\",\"richard\",\"response\",\"queen\",\"los\",\"living\",\"whether\",\"teams\",\"hot\",\"pop\",\"supported\",\"car\",\"nearly\",\"dark\",\"date\",\"commercial\",\"child\",\"railway\",\"britain\",\"village\",\"becoming\",\"pressure\",\"wide\",\"centre\",\"proposed\",\"department\",\"defeated\",\"leaving\",\"islands\",\"report\",\"winning\",\"naval\",\"soviet\",\"planned\",\"depression\",\"virginia\",\"civil\",\"appointed\",\"god\",\"approximately\",\"today\",\"brigade\",\"percent\",\"language\",\"changes\",\"intended\",\"view\",\"leader\",\"finally\",\"provide\",\"current\",\"network\",\"subsequently\",\"nature\",\"producer\",\"destroyed\",\"empire\",\"running\",\"shortly\",\"experience\",\"immediately\",\"tracks\",\"spanish\",\"size\",\"face\",\"health\",\"agreed\",\"higher\",\"lack\",\"captured\",\"corps\",\"manager\",\"themselves\",\"chinese\",\"daughter\",\"nd\",\"cost\",\"contract\",\"chicago\",\"museum\",\"really\",\"regular\",\"professional\",\"married\",\"compared\",\"officer\",\"helped\",\"fact\",\"related\",\"soldiers\",\"minor\",\"friends\",\"changed\",\"fans\",\"numerous\",\"done\",\"associated\",\"plans\",\"longer\",\"private\",\"always\",\"lyrics\",\"mostly\",\"trade\",\"lord\",\"effect\",\"yet\",\"cm\",\"location\",\"key\",\"upper\",\"feature\",\"billboard\",\"moving\",\"awarded\",\"energy\",\"officers\",\"fort\",\"books\",\"countries\",\"christian\",\"edward\",\"singer\",\"guitar\",\"suffered\",\"conference\",\"buildings\",\"texas\",\"got\",\"extended\",\"your\",\"offered\",\"probably\",\"jackson\",\"initial\",\"create\",\"albums\",\"regiment\",\"copies\",\"singles\",\"information\",\"pacific\",\"atlantic\",\"inspired\",\"friend\",\"problems\",\"remains\",\"mixed\",\"pass\",\"johnson\",\"ball\",\"appear\",\"dead\",\"poor\",\"minute\",\"difficult\",\"ran\",\"dance\",\"includes\",\"something\",\"forward\",\"via\",\"j\",\"double\",\"creek\",\"movie\",\"natural\",\"federal\",\"majority\",\"broadcast\"],\"x1\":[5.911535788792825,7.061366283457984,7.2830407932927805,13.852398451353553,3.3766564207006557,6.35814419597895,11.718939705626884,-9.879162825199442,14.972138645848556,6.343519745704338,6.887148997377864,-8.807688376022247,7.712846949118089,3.6864273722735694,11.715064845591781,-3.3355875181549717,7.8672494727025315,4.788060175971542,16.979616924501713,4.8557988427971175,12.978101375440996,6.0301224390244075,25.29565376765685,-8.446268144509025,25.554774691438748,5.048539718911962,-7.204443659731695,12.949692699387834,-4.0086880456643605,0.0662337156984614,-2.3965226626523948,-1.6605024458200819,6.491711459793942,-3.3545108632566607,-1.6096214303283958,1.5943207503553993,5.6290563099705455,18.698550344313425,5.396082499857069,25.213095026213328,-11.372216341663881,3.221054358510102,-1.3849002254146394,25.279738119229528,4.792516553300185,-7.969599544185427,13.823579486849743,-3.191866437609885,14.93519333654036,-7.525279593196283,17.869148296240862,15.85030317974254,5.067041653808821,10.739245792725487,-6.332253227077147,16.30550130813493,-2.8410835590167265,0.7400101575958449,-12.722099285682058,3.1737907939923744,19.328817909333686,7.132265258164821,15.984697101100744,18.793783842124977,15.89000413558712,19.96551753429662,3.223306955970238,-10.981631259031117,7.635516483302171,16.645678334364206,-13.600769220895323,-8.142478230130642,-17.17681260274171,-1.6771208297901532,7.671546022148289,3.7597519322296753,21.133251488825227,-4.800119090761082,-12.87517561835873,-8.15757220178231,8.424935181719942,10.857947536097608,-17.55323161705632,-7.074222349251101,16.17915703178978,25.187287537733567,2.6344499955705625,2.02318285117358,-3.1850108163550477,-15.772393591400016,16.976564079639747,15.938054949821506,-12.735873383502515,2.8566158200655707,-15.6319172861685,-15.939706143886896,16.922796881233353,-10.949355850467219,1.479413989729197,17.301605136869025,6.323874174707285,18.633789375486202,17.538159550098396,-5.823388812197514,21.13432278217008,9.15372672740173,-8.492037512670134,18.787638303673674,12.309772385817142,13.471093208941657,1.7284570291018293,-0.1601393246944237,-13.68636999517622,18.57421916342587,-16.32272909273885,-13.731609842180816,-16.69252417607653,-1.63125112147957,8.081550058520518,10.36156257977781,11.793736912235865,-7.64476215920642,-6.056994986339598,-6.518231739959116,10.163477416330148,-7.127644515297861,-1.7373172256593925,-1.1258690602014172,-6.699489021530453,7.478200837926607,9.721561624943579,5.447193313823506,-15.197888198460081,12.196789878968278,14.4723766494941,-0.28804431555146753,13.32405303233549,0.07974624635140229,15.530653045816226,7.190862778249448,-0.7527138538659256,10.211789530577692,16.27693791534319,-8.440402757859122,6.573864290791563,-21.940088676598396,18.326634861508943,-7.017190792371618,15.613859364652281,6.681743236457806,6.3463298809625455,16.217565321999796,19.280404331287194,7.988234169016643,18.785655590331046,4.489120509054327,5.128257926097496,4.116026136755357,-12.00264283676605,10.719480807774708,6.976946057650079,19.737224951515174,-3.47042843884247,20.85877592462463,4.128340058865246,1.057807751247263,0.5193924010524419,-21.803184528573098,-21.829348044096626,-5.205016692879118,-4.942239547224427,-17.110687780109565,0.3044612499816539,-8.733348168432856,18.37671762468019,-5.976461456161992,-7.96689422540135,-21.529721068616638,-21.700622589182604,7.293980293742038,-21.261071611523914,-4.8644669089399715,-1.8200328092661358,2.769075897314272,-12.70740717543022,-21.68860913021936,8.17745423081524,5.024830754585358,4.08255809037557,-21.462243044083905,11.982576910876356,11.883219076220254,16.914376297205546,0.04635760855509605,-5.89539673432975,19.712539538518378,-9.803159431813638,2.3967549891347377,0.7494108879510082,5.348592874945806,-1.6388914924401239,14.74489600449056,-0.4345489003742381,4.880152005244249,9.64297931984391,-0.9611849156950445,-21.301543923564914,-6.178707238422626,-21.372247403071,7.707154079053959,1.8570706599978228,-15.930951161361483,-14.992636516234455,18.795998911306256,-12.181163251276445,8.741598064581531,21.237705364715477,5.604568735387132,-2.410431848729672,15.365294929611833,-4.995155990268785,-11.00690916402591,4.967964614693203,7.719982830961612,14.571133098778256,-3.2072423238610717,9.01948712699093,-14.67209596226345,2.1360858558088633,14.046786883255498,14.347388686036643,-19.852318663792666,-1.6700046967625601,3.010339663464877,-2.987730500552952,7.852153844476208,-0.23969148424835707,16.508788570740794,-10.292879405332108,-13.263045091747692,-17.661145931625494,7.665912537138124,11.930354816799495,2.2661492969611303,4.700289215176162,-10.376532085933757,-6.633222128961883,0.5446177272418926,2.4355740842076536,-0.6271149399738226,-16.026686317816846,15.214871209469779,12.504544713576596,-10.311188542691236,5.888527892942401,16.830248070774324,-5.424771785608616,-21.41390656102052,9.08631491317075,9.458362773086254,-7.167797867449296,8.081524685278053,5.646000132435377,0.7204232149547505,-17.216140562951683,-0.25546451011385585,-4.974641408887138,3.5658263999527353,13.931069040110987,3.560842090273352,1.863901579671326,12.14042604238857,7.037882686979029,5.990862437341336,3.5533992313722504,-10.422930178226817,-12.78927620999882,-16.897953366598593,-7.404105267699562,25.272037307239653,11.780092753024885,-14.599485629955664,-19.438871267396856,10.103937172447546,-12.228527376484907,-10.405262974175876,-5.61445341337296,13.926640377671477,-0.14209608760077885,-3.9471292551199264,5.281152314291815,-7.65237572160108,6.364404558855635,-9.899239345491782,-18.152807549428413,0.9841343857507516,1.4987020461230163,-1.6547845661280909,7.082519234044741,0.2592571279894636,4.764584569708694,-5.63114978205813,6.543235912589746,10.02901470794048,2.942531736307001,18.57817405284007,-16.308091615141812,7.272716732636692,-5.372034223236118,5.105559525768852,9.328698426558827,15.196848600549673,-0.8264434953478997,0.301225133711383,6.443024334761191,-9.805160301868334,-3.4151251468731196,4.234986521321231,1.9015493510415789,-4.314812561966526,10.100964180730877,12.269449123211492,0.9478130844012579,-3.2988307728130986,-19.27900260100774,15.027245444474516,3.65256367456802,13.426849442579105,14.523267733877617,-18.13038640396694,0.4817729076613784,8.819914538640814,1.7303842674439798,-2.9648365505964924,-1.1220125186612229,8.567791333728044,9.052536992955435,-11.506397529253496,0.09578626097274887,1.4182382851692026,-12.035908422642343,-7.800316472350772,7.552081554420532,1.092166883103422,16.7943031119756,9.319633303812838,1.4475904421440298,9.54116036200442,-15.710515477256648,15.753091437035522,10.720583975051253,3.7034289781678154,-2.9393168813054644,-0.22906926620961016,0.4477728930732471,-9.584374282954466,4.004222349959872,-18.212376269962604,13.646304124551287,12.592324866626958,3.278670666768021,8.551147196599427,-11.181138435369123,-6.244080229736457,16.521700373584803,9.485001035386098,-17.04165654080767,-17.137738841355873,7.730285021795828,15.254963045998043,0.15400342474396977,17.291572902590957,16.79635118669134,-5.7421164724031,14.190367260083457,7.506439875148697,-0.9444262599164959,12.383821629496724,14.982510298760277,14.137099302733088,-11.695768155422927,-13.847897083098628,10.02451082588004,17.58138667375817,14.750545252008479,10.212256675028469,0.7531463338863753,8.271288662635799,16.526959918160184,9.945481525898812,-3.8243225776854617,-14.069749310218139,4.257055966603219,0.027045365689928658,15.75549873546135,-1.9358993449702226,2.309940417857006,-12.016661408452707,-0.7887940627122519,-15.834948614573706,-1.836526817808253,19.362337224728275,-4.480065094840457,16.117387158146293,2.3843085554605743,-10.493981488679648,19.748366644071893,-3.831878654739517,-12.037538178743894,18.645206775837618,5.922038180565397,-3.6191473430064343,-19.249299428206186,4.1891167971779915,11.42995698074625,-17.361913330033794,6.667073797724117,-8.815086425693341,18.745041873973673,8.516726701923599,-5.656754247680757,-0.7987477927780466,1.2877701746606962,16.876983142588227,-16.2508467374332,6.302427983505229,-19.17111761923117,4.250571986715947,-0.5648738952526915,10.934026349715465,-9.86095865434352,1.9090586617486642,8.314129657232707,-6.3191044698610055,-16.067597253384957,-1.203859675873328,-19.99031459287203,-4.525079150573959,-7.801258398592794,-8.16531425725026,21.16660954540185,-2.2005020507997006,-4.775283762676599,16.96217361643771,7.231728157914137,8.309299966328412,9.080255044399047,12.172769160945219,1.4230142795355958,14.568904984170802,-0.012615238490666272,9.589401927793224,-2.618642852043631,8.363433000051648,5.259965610246212,6.310748836846367,-3.3065698993688426,-6.7600594112975685,7.457036194937365,-0.34789199536917426,5.7570383276125785,6.133921755748237,4.7596717635565735,13.58559110717448,5.560588285700001,4.368434030661419,10.016879751437541,2.3465281223817733,6.083293418323417,-5.734897808856977,-6.704335932206275,16.896770810085727,1.977330862315175,-0.2469922474153124,8.19981794380997,0.8226524685182448,12.065076153739215,3.367360334508206,14.7827048086642,9.444082335484243,4.193863436637369,9.245593039936542,-18.55549079684005,14.94075021664365,4.274913082504934,-8.626440887145982,8.566199552173831,10.032912132835355,-3.182146201167818,14.618355610409951,-5.653216900463895,-2.356086638337314,8.606473741587722,10.14179960404222,-0.8879837915209908,5.925766593426811,4.925940965710642,7.0708114627252066,-4.894304362759186,-10.24271718528466,-6.13202561925696,4.060062409132881,-1.1419641760143768,6.192658765728055,11.352812817224892,-10.248608663518528,-0.5575965541722052,-1.555669233388261,-8.112395107890976,-10.07263832726241,1.689043209085924,-17.22087325098779,7.281073967103709,7.018727834513533,4.103548272930789,3.0586796227244344,5.217602244953024,-9.149203763623808,4.554698740998127,-0.433331767008444,0.9448340521304994,7.144373632355154,-18.837958180890613,12.927531256542172,10.36566418555574,16.88228554577885,10.58711534583166,10.441950396959243,11.016607666556972,6.196777531058263,1.928570347907472,-9.356219250341354,-19.992379760854906,-6.32307997174934,5.634848474586624,4.754286317421232,15.886804649537636,15.430707554629805,8.180397889931285,-5.882808987978966,17.06726442389449,11.403195829658943,10.500203904214041,2.9657493418709238,-6.19918893541288,-17.31812497050403,6.712325493351543,12.914065532955503,18.124743090062903,1.4344329140960175,13.345519214584922,7.138118341890375,-16.570868616591255,-8.922583787528511,-0.3540447703448141,-7.557445669029436,21.085695085394978,9.742791462747237,-4.317889280474205,-13.213249686460621,1.338092414843235,-9.318664593784344,2.9973380455124223,-18.423366351037696,0.32996352976375554,-7.73479936574088,-1.7299495783687324,12.267676443206923,-0.08470925381165734,-13.64270872356019,-10.073185018967642,-1.777234818395463,14.83135916260975,0.28200783680035296,2.1765585237663867,-6.134137136554322,-6.073543437288017,16.707873040789057,5.122270871889844,9.45279280343504,-13.277295738553542,4.798512059605315,8.08259944621487,2.016409083892548,9.557191563282045,3.9381392728144853,-2.5830538595994703,-2.7492123540719753,-16.864641150997624,20.62042385770505,-10.133018861576701,1.7370601666224479,-1.5636972198238444,-9.471817786268678,3.3054610431005895,3.122225785940842,1.0812436041237172,5.553934416233338,-13.18174159016332,-10.598399715170508,-8.47467868964767,5.571060579934643,-8.69105104390125,11.075849487091965,-2.4433847905006094,-2.2396985963400793,13.188598472660175,2.4747208592228467,-15.735709914486188,0.8935492081915788,-16.187446363593914,18.608976684536643,-3.4056447664540457,8.358525431876023,15.584227809807107,11.302214270787587,11.651592832484766,-10.13935437307836,7.581732634948131,9.426140575634692,-16.10204894150222,5.031158207431456,-1.059358598195788,0.9691967982935493,9.71347410878384,-20.239769630160513,0.823369732705725,10.499041767063181,-7.610991670633358,7.0505643381494005,11.811234941075705,6.349043540671589,-9.973353782006562,6.384958987264257,0.0062936483964426415,-5.420623629205098,9.400146154279263,1.2814515718688164,9.545098982032732,-7.674973036431276,-17.09211743595778,-4.7374347116984685,-14.114863758694133,-11.715762039644344,-6.57328717463595,1.113844320885423,5.58358578529308,10.309960587426419,-0.31607987217288447,4.070197834285407,10.62533520256499,20.124214689284738,4.593796729583348,-5.28180817454565,12.81437617653791,-6.7823306088657365,1.7006222785422187,-7.895709693702821,3.643666287599446,-8.007087381022133,-2.3182052075196595,-11.578880638465371,-8.103016713095522,3.3222228726203307,3.0113470998914464,11.01310110750687,3.644489720974783,-15.89210107971346,14.59038848720199,4.037302077892937,2.1327000717090043,9.23959403074599,14.878419357371355,8.174851644253238,-2.090123945606166,2.2557885952253276,-4.681773133623993,-1.3961954178290976,13.499334734370356,4.396271837063288,-2.184301764220349,2.290105722101738,5.453529152462229,11.540586517384812,9.445469085574699,-1.6707736179018378,9.737739030347202,9.742539444938258,1.4244884470696813,-6.142273550510629,1.2194339587146632,0.5078392773922126,4.8494977417622405,-1.8730881066134408,-0.14726326685364316,-1.9863952791729904,-7.979870187612007,-6.567821573012557,8.526191866226739,19.688412473791693,-4.78783892922991,-4.005462209301863,-8.948381174791558,18.041439850225206,-2.6338772844009943,-8.282463967364315,-2.5265256408617,-2.03211488276696,15.86682896702924,-13.261778241065294,-1.9824597237542196,8.255207441267943,7.145074297045543,1.3409187231989135,-19.066947590926322,7.541455539419267,-1.8075814759748645,6.959037916910952,-18.752174998541008,-7.558303410706262,-2.40778362405347,14.206427883722426,1.9432413262357062,-7.729729345207479,7.546685103026787,2.8407483356444674,9.339855483320678,-4.305246652258343,-5.402128108193467,-9.05735658131666,14.737330041422751,-7.984622039313174,5.304243696173718,-3.49443107858353,13.986915577107188,-0.7296330846991061,-10.646998600120945,0.18443040430243784,5.309543352099546,6.231919114629137,-1.7086704570202065,-1.7330964666644664,4.504510072521856,-3.3734923105743584,-3.1838742990758657,-18.979493052095037,0.31443531897753796,-5.2212685300011,-4.356824690871706,10.377070631492028,-0.6084428234751827,1.8955355118766175,-7.041206250869338,2.4321048053989722,-1.767189182063729,-8.66321736788151,6.81123551869408,5.289309683647811,-13.505577763506,-11.985429752205075,0.17939632361101443,3.8864333997829545,3.4922512824570004,-13.766362054433682,-11.392683539965654,4.471403867656283,7.805840019764596,-15.523307869656113,6.415177136716755,11.790564293975704,0.05150296780163893,-0.6226846240189399,2.094669602325207,-4.044351903408418,-6.950380056805239,-2.1296271356629206,7.065170866898076,-3.4646060846731457,8.61052911591113,-9.911558291428458,3.3207938119303444,14.211346766590209,-18.82661899098194,-5.945739095230318,7.006244398891567,4.758139372964156,-0.6947697040434804,3.5357596240917517,4.289249408194993,-11.765361125290683,-10.128334947671393,16.64716045848623,-2.1547665655029458,1.8405709347476287,10.01516673695556,-4.987483235655387,14.366741542490345,9.226350345646122,11.45276727915615,-11.417987741965417,6.810332535684342,5.902933315796188,5.358187553998958,-14.375144934066967,-18.696145596404946,9.803319839115131,2.2831658715020193,-6.12748980737356,-16.584477178415344,-1.2136244668695,8.674832845838749,-4.943621235912344,-2.494771786005122,-3.947652803121633,-7.337156522280726,14.208657745163345,3.446830296412184,-8.751779273409428,-1.3041728569042617,-17.884482117129224,-8.719069142270552,15.326693132483094,4.979021269310164,3.7324276187506404,11.985489428902573,16.60504973069365,-7.822871336376766,7.224432981919368,1.042915566060648,-3.908264856739323,-2.2122087023220836,-8.311140796277,-4.678400080804027,-5.937652663512064,1.9911090303040686,5.982224881205617,-8.585448824565292,-11.22663147159173,-18.39713367737829,-14.215829702984937,5.39631562556834,2.642231381470102,14.993348950500014,7.696740684434294,-2.085175400193347,6.1909481486302615,16.22485609596781,-1.770071276067539,9.603710230429762,0.5942736640277855,6.6024472519066055,-6.403107320158268,11.087361293058242,-0.2069668984331139,5.108824539041059,-0.7961201216590582,-1.6908767266794607,0.22588507672544242,5.1554256738336655,-5.537872242916332,-2.486264057140465,12.276778879125557,11.684318240673523,0.8626209166338606,9.049481915654638,1.631176619136498,12.569484307928782,2.7009706642244025,1.6037614057643759,16.562841704862294,3.4243090817755895,14.01984822557713,15.941870593089199,13.735672832929831,-1.8094123551440642,0.8070438533408043,-1.25465606132284,5.415604649352727,4.9578254419557375,8.47906526999478,3.357028480650281,-10.403902771875957,1.4887779504885978,0.9936183184203256,-9.545191408359605,2.398210472998286,8.83027493628203,2.5457323759281736,1.6631319339675454,-1.776616983353227,1.8793615785376676,-15.99347436710776,13.261329875851073,9.845239027119673,0.30815287199559466,-4.856142789924939,-2.619867283899981,11.800379449494844,9.974134988989247,1.6708982847315579,14.297858306869413,-7.744218696931462,-3.48035558394241,12.734306458102283,-6.233303152103635,-10.991017099443242,14.896799300289816,-8.058690230082563,0.7619938945600877,-0.8857298456724816,-15.98897632228158,8.034181774160054,-10.08108568994887,-5.607340087356538,21.166587201461883,6.38416573894219,-1.8158384749074483,0.8076136072958658,9.391186288979931,13.237265718437714,9.679938174879702,-7.250664957183276,-0.6190486698905783,-8.815236950197454,17.14928896341955,9.541578330876508,9.447760727416764,-7.666598563579938,9.70616392613152,3.778230736256052,1.8204540686287771,-15.99126473997642,6.0745000252038714,6.7132325450612305,-6.642101887287656,-2.495327180347116,1.4194280981745702,5.07989950348132,0.8248900757530947,11.30553092947668,12.690946180986801,10.051037424182741,-18.37940310684565,3.2755217756387616,2.2728860624744485,-5.327135186596514,12.413636712196483,1.057140697589551,-13.031694037909844,8.218822663957233,12.855925633722869,-7.583515106970999,-14.666063821229718,-14.813202479987263,-3.0632901607093257,-8.781952743424222,-3.0359300839799355,0.44256791567752485,1.3614170524860687,4.0332754492752025,3.463694552834264,2.3062707855641658,1.4431342470949582,-8.188216988776574,4.6883159708341955,8.459165340638055,-16.97742721590487,14.059597213356675,8.576173171912833,-17.296829717430928,-4.804815137951545,11.957927149279676,12.089180890743167,7.235973146935577,-7.240395683219716,-1.0253220284583915,1.7494000672261134,9.685218345972737,2.5062536841429655,-7.551260208558895,-1.9078566686593206,9.952376724788651,6.773527144415848,9.987312174833761,-15.840295588381716,4.1811766816848,1.4014815175541346,-13.77310172947696,10.06810422803216,-16.098429795863744,18.986843873296426,16.884034285353067,-18.614716292530442,7.3600287523378505,3.107294749914903,-13.849963109281315,2.1265054764933202,-0.5050577579190705,13.44034079161808,-11.177545092374528],\"x2\":[16.359140254972587,14.729869469924656,13.701275324890483,16.425287799349395,16.92333071939989,19.54309886880753,8.144762835644102,13.563147030583307,18.382225578886487,14.043199668456566,15.528380134627996,16.96763229255367,13.588812252445663,20.002816135764668,8.155585108677386,17.187578972513577,-3.72545002171879,23.05029879943728,17.259851651465333,21.504056159767583,8.160494780296215,19.35811165502771,5.851094344735953,17.55116717150536,7.582736345390386,21.055155143385274,16.807698343637664,8.166024312854969,22.59353368513106,16.531874595819257,17.047687019748647,24.83935458224077,17.91898781731882,17.176294720776898,17.28439879074714,16.90918654683987,8.361894879775491,7.76730940702745,14.133581678196437,5.6243111938624315,15.524118416117842,11.79786161176323,15.641933771449926,5.721200246172258,23.082935177470944,18.62357071127265,17.074247235955976,19.126486817690907,5.7205642417429825,-19.64434258875805,15.673157354793068,7.1989318354910745,7.644989868512693,24.892944794408102,17.934999903225695,13.958092829447171,15.521392823991306,24.094256097586275,-9.827773001153572,15.542531214314979,13.949047953236235,11.740776930321722,12.528818500292406,8.032806020379882,16.46545667674202,15.12028073562263,14.294953168680545,20.593572916560266,23.096013770039676,6.120805879645235,-0.24005768910318925,-18.974989590390063,10.727080564934031,24.891503931325065,-13.348076705107317,15.53732299045596,11.324658751005808,22.306602393466406,2.4652657557416346,18.357215612243028,1.1677564794528759,-3.622923724959132,12.88554613284184,16.886689827620284,7.31305197612109,6.8070020219542275,-22.967442051155874,19.165256206815016,15.733436876298196,5.2924436321152415,15.772815553167389,5.4346981503584395,1.9247361672347985,5.243480637629202,-9.486388619798136,5.352600664950149,6.173334054275263,-12.10790334290613,-0.43370988359737184,9.383237566140656,-13.545453150323299,1.9217068749679047,6.559343674099996,10.663938834974592,11.346334078388534,2.1257247065109177,-19.839973426389104,8.185842806863077,5.877891562678009,15.03601260735161,23.168745933648864,-5.712936469297936,5.136176333620561,1.1598684803218895,-4.994582545951905,1.152304335807145,10.166905877507833,24.60321494932516,-24.464592701468874,4.57842950947046,0.6768060143600095,-19.74097519353689,-20.273895838067343,3.135266282911799,-20.868109834519345,16.88425293245687,-19.083461741165376,19.390716254282804,16.773060323417035,-21.382169787461027,-17.537319137571558,10.094339014668453,-4.320480721618658,20.292557740724302,-4.041754895106158,21.991008133074757,1.1750243125096798,14.953280309837714,15.0329649472125,20.65056638814489,8.796540670821804,2.777269279986983,31.447530325828886,16.05028639086285,-22.71279914681367,8.072436227420312,2.1876184478151046,21.55391013853057,9.804399977097267,21.0913467173431,19.56794980903585,15.072037448581437,14.83569505548291,2.7863514251731702,8.413874665876982,-13.159041804083227,7.791913293203137,15.112734298509807,2.0796522708723613,9.90116039317719,-1.137704615640853,14.909208050765793,22.704142539126156,-3.6410326032001943,0.7283205215683135,-19.653393241367958,12.57708234256891,7.857804721512947,8.104661076670181,18.684258233087515,-1.9918179234429543,-3.757305588353939,4.136043878679676,-6.59041335164854,0.7876137167222601,6.296397789987898,-19.620784508006338,8.25593791361584,7.900186762536116,5.494399179777103,8.188092213894015,22.279118122327258,-5.22178776942304,3.9785475791277713,-9.844976805239794,8.400833206506638,18.777352867664895,-7.013195988224643,-14.839285092091078,8.392118492455479,18.800607981171016,14.417607136510894,-13.201151900646318,-13.088953448058655,-9.468088087304737,14.96197760229845,6.84709741162793,15.739340210619117,-3.5986001192850496,7.918771407872009,-2.4336116259062495,-9.642766794531765,14.344607933693318,3.5098720085078767,-15.891676443689162,-0.19119532775201487,8.201736600401013,-7.212734874564612,8.007257072155273,-16.15546660337643,13.549376016034842,0.22983215339936924,5.57128485761788,8.38174867655553,12.710129163545059,-24.242075842897062,-0.030432942060126013,17.02932421737441,-12.341588898493201,5.417801867449886,-9.530708122346534,20.57958613150391,-17.117185725751426,-21.13170441584892,15.617531568502866,22.775331364759392,-21.99782760623243,1.2964628558652749,8.230742372737382,-4.6582769685808,-6.331467938587659,-10.634713142492632,13.46612834569547,-0.28352434714146957,23.074208180946723,-3.6705067664193995,22.79402010814145,-6.356246128352288,10.442286625519023,10.457889627678139,-12.649032031904024,-11.58300563274095,18.777612462870987,15.05733841249605,17.403074336499984,-12.14488349053413,21.54257211780787,4.745581414690245,15.03048450884424,1.9723806472026517,-5.5523395031469205,-9.252406570882533,-7.74367459493993,-12.686096678998263,0.563107339677438,-3.077648245756252,4.319144628974842,7.892329493700663,-6.025797867971219,17.956333241625334,16.864117524959553,2.467316158842566,5.289212937239368,19.525963750351092,12.805075372809835,-8.781037552507508,-0.877777013148719,-19.80866191991942,-10.639068027732376,-22.08169623370136,24.713965453854446,6.385525229736415,-9.689431003886794,-5.254166668350208,18.89913439352791,-9.451962531137237,-1.66898696683275,-0.9529955770769718,5.632452885567133,6.053173466388716,0.683525574037438,0.5251961445856503,-10.73671121695407,8.13211286492153,-11.567211251921602,8.529263405734952,13.69254673439219,-0.08454489277867339,5.575849411010775,13.090145814058655,13.230125743877288,10.543372628121364,4.86712980720251,-5.841912618598232,-10.608685346129022,3.623127863408641,-16.200819715093413,-19.44198953915434,8.136802767170543,-0.7267877296717854,15.408891785842169,18.271203403431212,-1.7854532534781669,-0.9183154126148629,-0.4722338617490788,6.824589733672863,5.4681672552668985,-22.267463778377238,4.369344231151472,-12.17083382706362,-18.72233200743209,11.500680923983628,-13.552022678315891,-15.546740943491342,-12.887866675837648,10.742830529794919,5.742350577215345,-0.5580632198113078,-1.9542546090730537,10.91897881202641,2.50700973178504,-3.5697623245007524,12.584191935068684,1.1601102730287407,-13.423341791580567,-8.978081358527822,-6.045991015608417,2.263372620093052,6.468685011285671,-9.134876169736698,-2.207749468391186,18.08177844344054,-19.436681178348106,-4.897174524808915,1.0358332700507031,1.169579461597232,-6.04061815219601,7.40087844336182,19.46542923288895,-18.253366918161525,6.00697734752794,-2.658845854390596,-19.068747314605577,-16.174044974463815,-7.793727533071928,12.327003384602246,3.5087390362437723,-18.650157130969006,6.322906840893298,35.21321653813649,9.947356630588986,8.464122443067115,0.8950484276423943,-15.553430704149731,16.23857580558047,-14.505431819405262,1.5552921189149778,-11.686522105450317,-0.5281330954739093,-7.850111717660716,-10.07416260721004,-17.560403326124295,1.9182001260110413,-10.132865032141204,9.879293747383995,17.75605958998012,10.633347504157936,-3.79088616965401,-24.32224183411362,-3.495326665108459,7.132320900496666,11.059887554453347,1.6527908718270892,13.93710065672439,-7.01177135286035,-13.153752179939174,2.8056047606176553,5.631787329259438,18.54228954562585,16.74617126704045,4.066534405543863,-4.192189715891913,6.505808018106967,-8.037186270532265,-3.9885799292082327,-0.7237319918697924,18.10384079217241,9.555409168383873,2.1342099457241597,24.605946684226073,16.042647686537144,5.684887076699569,7.539355930294057,6.735000615273022,-1.8400546560668662,-15.30606762866903,18.328700278316113,-11.624094919126465,21.077297939708878,0.022599586503162294,2.5884665688297095,8.3561319999334,4.569113655285668,15.150514609873301,7.036710945187231,-2.7832015910126007,14.951971097032299,-14.307283739360736,12.638174155840696,8.519062698899823,27.02236907407633,-4.99399608799983,-11.74494010987184,-10.359155784629785,-1.7485383961165466,12.822969265809615,-20.739395175091733,-6.393795637879493,8.609008135537993,8.223178246868892,10.516250429679443,-0.7420562059186594,24.645266088419056,1.551663713488427,9.843695279983672,-23.724765071899125,-10.874146538822307,0.7849878413496068,-16.69063134815056,0.16829760927739196,6.390027760031862,18.979996844451357,-23.783484205406175,-10.657852145108853,-5.6864572284364066,-3.792348997524652,-3.1279604420361666,-5.0852600992341515,-19.564169903716593,-6.92414745180921,-3.5051422845957236,7.890123612344445,-2.473155745387551,6.390082149332721,-16.577749797779525,-24.136115672337812,-6.0329175189005895,20.218914656989146,1.7936715382270987,13.788315552309701,-20.925394305244307,-20.565485104086967,-10.293367515913296,-17.056789568841086,-17.888480588167557,-24.950240426612815,1.9152684193085088,12.449118511527919,16.427890154365564,-22.67892202652375,-5.480770493324881,-15.876724623042419,32.77582488396654,1.7239841074802105,-3.3028822969979337,-20.79002614028917,20.5786300150905,-13.35377448210595,-3.4992586832746366,4.490055803956038,2.8656742879103456,1.5668510845590786,17.570980895802585,7.505164069521538,16.067893463512405,5.081441788114454,0.6963637498444251,-17.361668648211086,20.75893687679083,12.595228344457803,12.137523541201537,-23.107269783788343,4.857673359219038,5.251674067853744,12.093192784275859,-6.8878066739282735,-16.172033555040585,-15.12431411955419,9.669883851544583,15.071781437537563,-13.111473587541774,-17.8170995860206,11.48310519732493,24.796040137841903,-8.21255008865555,27.01323932352063,-16.968140061797428,20.605001218895133,22.262478816085867,-12.757801875904184,-3.44270267317882,-21.615991611213833,3.0104791110961173,-10.680034149193675,17.50611336727541,6.3306389761529545,-11.794355243475431,-26.367242766203812,0.22920157105539782,-10.359999582288111,17.724541783670922,-11.083491910078337,-17.86271239106566,-10.53999274797201,-19.755692189667304,-18.760457054163993,1.2293528308586563,-5.622468402964506,-20.64707629512238,2.414653460244026,-17.377328752863708,12.876448263255126,-11.192571720976892,-8.64112813818289,4.5765591414651,1.8905566881230724,18.18335206611901,17.77189060342051,13.625082281345104,-15.747456168035,19.953205996169476,-3.737965855593334,-3.1190331861053924,1.9500692134343163,-10.583346888440436,1.04913634632508,0.38543309531273956,11.890825039249956,14.956958402383863,8.613240511620111,15.495487004607778,11.933140845680452,12.94999091496849,-18.784952515543992,-10.064648645742375,12.780134505812624,-7.30310144535206,15.989077214351836,-8.382257643193103,1.9414469982390152,10.32420217995173,1.3867082173546676,0.9718337434249045,-5.4076383708215054,-10.477566773380284,-7.057174296579328,-3.54144809948749,-0.5973205213849659,11.150183199190986,6.656587333271446,-7.868814932367945,3.946386972157571,-16.353852798543063,-11.432973464950393,15.461992146520524,6.11732975233178,-1.9571659117266218,-4.175150687846928,-22.44113510527134,6.025182084454855,-10.32673660126506,-23.023766367480025,-8.828363961053808,9.98148250171648,-11.432990454723521,-10.705274026357356,-20.273470631447008,10.706572867447536,-18.905954843654204,-16.051170429558535,10.487596259179993,14.446009408057014,18.908342221505812,9.981748461138773,0.40359012192339416,-20.18557738411491,-10.185176627298274,-3.6902473809889664,12.845988678214619,7.775334598405204,-2.0428552195639065,-9.006544480743656,-17.7253127304876,7.48741514523791,22.775984426423175,-16.111636727420816,-3.7808997773608732,13.05472279807518,6.966413694608759,-4.999843739517588,-6.19736315430089,-23.175513311526604,2.1443275718439945,-5.267348917815549,-16.989718668165395,21.99860982904047,-8.955938123984998,-22.772010086604737,9.553437186699314,21.841459423467498,12.864489467536028,8.65922207470185,-2.290883958725822,-25.203664363722524,-7.049110326538044,11.451334995740838,14.723584723071296,2.1354258466225375,7.87729738230419,0.969314790681842,-11.958996880124301,-19.78886243034695,21.90480975604096,2.9262418731034985,-8.600652144645856,-9.900594029537986,24.495551319883617,1.8638700362127034,23.175214815652417,7.27733502307079,-6.75587390609598,17.098290711499622,-1.2269887214283246,11.658778468698156,12.687905674017781,9.043202817027476,3.3316465278889296,-17.77795535304938,-2.727559927302831,23.225336440875534,10.71484486636716,-2.0390119937980566,-0.2612174341053208,0.44930172645611594,-1.7284098581544718,-9.760750900543059,-10.616524038205348,24.34161189046543,-22.083405865132228,10.64840761574206,12.937491611366967,-3.967230064579161,-12.71090712684902,2.402427927716918,26.28871802792589,-5.347406359054051,22.43512027609667,-9.844053137657609,5.05427564952369,0.3385620463553867,5.109605633635012,7.8792089123904745,-19.627978709172236,8.972584529478238,11.854230967141625,16.315397112885496,3.6456968407138626,-6.165446613649691,15.38240942688063,-10.448323800525685,-15.335636679921173,-23.31805091750986,-7.5522609253732735,0.10942917034291444,-9.238586831232565,-15.687614741006776,-4.5839101985464845,-5.602526504764958,23.64340244601405,18.650765654979125,-17.335068880210596,-4.25535490399086,-6.724052832598227,-6.227617301912981,8.354172686975888,-0.77691536229638,14.995352046605763,14.950003636029303,-16.70036453540029,4.802032770479519,16.600766838067045,0.5286446914466192,15.273803594504793,9.517631640292036,-21.626929059776643,-7.264673279795691,-6.847673489110768,-10.670077174895441,6.241617390735217,-4.121507699102682,5.862923815073231,-11.876557477009367,-5.493749971484016,-8.313576593997267,4.425654520119973,-6.271632188357952,-22.00179472682822,6.2772070790554615,-1.9960290478698008,5.286782789978158,0.2900391695821618,-18.66493846239661,-0.9684369140245302,7.988323973445537,-10.833775573247628,-24.69037682160921,-18.08903221000509,-10.689577788106238,-9.77514128125769,8.554016958133516,6.318077766449306,-9.962065201059824,-3.506395307640819,10.49582247425692,-11.335017934135484,-0.3203027906816586,-0.20939199067651848,9.602518143219449,-5.067556366857936,1.7923184913912962,20.720496339622468,-4.943906212263612,16.160402269297247,14.277927933820486,-10.14899186283434,-19.423312057122065,-6.420551997900177,-22.500169590510133,13.306691645575624,16.80139032626221,24.808081762384962,-2.552876128602728,-3.878194341789176,5.306303882195695,8.468804098338612,-9.207874543110254,-2.5685813030631683,2.41318457077529,8.135271775339463,0.3682987337815031,-23.87798791539196,-1.911930095683926,12.600137899846262,11.933667858599565,-8.819711175591022,2.1165799052048517,-1.1875589825590214,13.461927367278909,-1.1748408244631618,11.474854335893173,6.84004982514429,-9.633906404200584,-6.093712913251624,1.1202917984341647,15.517817974539927,-20.65452328715709,8.364539835698105,-0.5049176888127569,-7.1150494467355365,0.9464561274511585,11.440976777505572,4.302283632254406,19.223277279678577,12.661377174670054,8.835433178020121,8.35768552551245,-23.79782431211341,13.903626241237944,2.2187085333159056,13.81305076881744,-6.23929861773205,-3.268973169554156,-11.008315964280058,8.479703867234985,16.1145920149768,16.014965048341768,-12.439404353396672,8.302039383828156,-1.438969135003652,8.329827797633735,-3.1786693301112363,-3.033492087986655,10.084533687525344,11.793019414917124,6.510180182370659,0.06267781012856417,12.337809021827766,15.96652558494821,23.703776862569207,3.61949230421693,11.55814760073627,3.5147414997690696,-24.018632770566267,3.4205412686453878,-11.347187185425177,21.31355567544485,-12.30234602802212,1.7417572711206328,0.9340551349936184,-16.885310934544492,8.164139093554713,22.241716539977656,10.905052404820331,7.623140192956612,5.588376812306779,-6.5588529697155655,-16.84070276531361,-4.850257102020752,-16.344505379031546,-12.320624161321756,-5.454611078073632,-7.125792107992789,16.775778999108777,0.3029818143164187,3.442055878759964,-3.012919591645053,-19.421097801339396,-23.733513250915294,9.227448372130283,12.48468573104062,5.496291907993109,-6.330484681946517,10.031322540608455,-7.268906756224053,-3.7811313730817275,10.86525559585204,15.789072728774498,-12.028355518967347,4.89097910721306,5.9583293408497315,-18.591503174221003,2.6067423119485045,11.934448840050251,8.945607125768428,19.38461415697721,3.5085142949865507,-2.9941833765861032,2.892536283223882,-0.8228179257278738,0.14901067504420523,-13.23111118003204,12.438087877587394,18.70962421395508,-0.8823078044265629,-21.72284506783116,-5.603833936327902,-13.67272171581126,-12.825403799438513,-1.2479647669640879,7.590315187464377,-12.07942690748286,-3.808266720308954,2.660404629223426,-23.08641011925986,-6.029892800468652,-3.424778688604758,-2.313814855971145,-21.07756604682693,9.11725526671846,12.303953283928983,13.75428691404059,-10.173054397165837,10.320684409625843,2.4104495442233844,11.030814492280328,-23.073921319672596,9.397070484029411,-6.160389361420732,28.92742363077769,-10.947698188616002,12.094627983699171,2.1631004053212584,19.11717484394484,10.132965791457694,-3.666358599786907,-12.933668220609665,-1.1309499631728817,-9.80971391358535,20.420140880228516,9.374793443501895,20.060685168435462,6.237389109012408,2.485891425693106,21.231804183698937,6.491558147586046,0.4144980448746429,-19.63840386601826,22.83606648393253,16.68424975828625,-13.584881280726544,-10.571908207553975,-3.925789691457423,15.336681459898108,2.135362429113498,-10.67480220054262,20.5846911779692,9.747510300419737,4.206316365365386,-3.6688121090556556,-0.6965381143024065,-4.417273117043834,15.915848235503704,-13.029217343804794,-13.035311739858319,0.002751273314386264,-6.853324729699335,-22.06993342254634,13.683447171466756,11.493911385133002,-5.587216690398697,13.659699055546936,-9.390420647464639,-14.18836848327746,-0.3026599055052079,6.454147522741963,-20.42672998113896,11.326512970771288,8.603998039719594,23.88569401636598,6.415529745567854,15.142975112326354,4.570197711575524,12.672274027353367,3.1155050708602796,-6.980957073303853,10.659904755883996,14.872403498934203,32.49953036557816,1.5670756102474876,13.710330997649539,23.710158218589275,-12.951512773827579,4.90750881978211,-11.105283581901167,-20.312866635613602,13.210484283720854,-5.613879904645518,0.133811093804928,-2.092350616487906,0.04205098099644464,3.14180658925801,-7.051587443089292,4.54054735721484,6.850074671184232,-14.711735994718422,-12.283124304206332,1.6261536017140332,-5.168869191757448,-16.402401948577708,-18.702935420283456,9.555846874653641,-20.78968516240545,13.951499711384741,-4.391103504381835,17.751095318556384,-10.999979730144213,5.525123713664348,-10.11495688346459,4.1876010987682655,5.4635012026847445,7.45373246288214,-1.5405991754663164,0.5050020692331032,-19.809980893928714,-9.529887433569641,12.053340666668612,13.182627625249502,15.011491827548657,-9.775107226018228,-4.772961914199031,-8.371200181049577,-12.562524600148798,10.061023314555982,17.018349752581113,12.786908415655406,10.639934645089758,-15.672090172160418,4.128118336073134,-15.381451962844922,-4.194567595980245,14.55516393897142,16.42754953425724,-10.76032814650589,5.757163655494601,0.10156439929032612,1.346043083471105,10.295500369019976,-5.738455293932812,11.61047080858192,1.8466618518277118]}},\"id\":\"edc2fc4e-c886-401e-8712-b68a5319883c\",\"type\":\"ColumnDataSource\"},{\"attributes\":{\"plot\":{\"id\":\"9dab150a-b718-4021-beaa-c986779e1539\",\"subtype\":\"Figure\",\"type\":\"Plot\"},\"ticker\":{\"id\":\"a3bc27f8-877b-439c-a2c0-290437a3be47\",\"type\":\"BasicTicker\"}},\"id\":\"dabbe6e3-d0f8-474a-b328-99439439b3bc\",\"type\":\"Grid\"},{\"attributes\":{\"plot\":{\"id\":\"9dab150a-b718-4021-beaa-c986779e1539\",\"subtype\":\"Figure\",\"type\":\"Plot\"}},\"id\":\"b2d949d0-6efd-4a9d-be68-6aeb55554be4\",\"type\":\"WheelZoomTool\"},{\"attributes\":{\"plot\":{\"id\":\"9dab150a-b718-4021-beaa-c986779e1539\",\"subtype\":\"Figure\",\"type\":\"Plot\"},\"source\":{\"id\":\"edc2fc4e-c886-401e-8712-b68a5319883c\",\"type\":\"ColumnDataSource\"},\"text\":{\"field\":\"names\"},\"text_align\":\"center\",\"text_color\":{\"value\":\"#555555\"},\"text_font_size\":{\"value\":\"8pt\"},\"x\":{\"field\":\"x1\"},\"y\":{\"field\":\"x2\"},\"y_offset\":{\"value\":6}},\"id\":\"6fd11466-82b6-45f9-b237-f2b2f8efe3ba\",\"type\":\"LabelSet\"},{\"attributes\":{},\"id\":\"8506834d-ee58-47ee-b670-7d1bf3a38f86\",\"type\":\"BasicTickFormatter\"},{\"attributes\":{\"formatter\":{\"id\":\"72835bde-289a-4d9e-9032-6ba10f23054d\",\"type\":\"BasicTickFormatter\"},\"plot\":{\"id\":\"9dab150a-b718-4021-beaa-c986779e1539\",\"subtype\":\"Figure\",\"type\":\"Plot\"},\"ticker\":{\"id\":\"a3bc27f8-877b-439c-a2c0-290437a3be47\",\"type\":\"BasicTicker\"}},\"id\":\"d18851d6-317b-4e30-b2f0-3033a966b328\",\"type\":\"LinearAxis\"},{\"attributes\":{\"dimension\":1,\"plot\":{\"id\":\"9dab150a-b718-4021-beaa-c986779e1539\",\"subtype\":\"Figure\",\"type\":\"Plot\"},\"ticker\":{\"id\":\"3808a723-aba8-4206-9e36-bb40a5a1b2a3\",\"type\":\"BasicTicker\"}},\"id\":\"8d6722e8-7f68-4fee-8888-0c86df2121ed\",\"type\":\"Grid\"}],\"root_ids\":[\"9dab150a-b718-4021-beaa-c986779e1539\"]},\"title\":\"Bokeh Application\",\"version\":\"0.12.2\"}};\n",
       "            var render_items = [{\"docid\":\"3c765684-b73c-4c0e-9269-ac44d98d31ee\",\"elementid\":\"e662e143-1539-4ba6-af73-2ae0f7f60df3\",\"modelid\":\"9dab150a-b718-4021-beaa-c986779e1539\"}];\n",
       "            \n",
       "            Bokeh.embed.embed_items(docs_json, render_items);\n",
       "        });\n",
       "      },\n",
       "      function(Bokeh) {\n",
       "      }\n",
       "    ];\n",
       "  \n",
       "    function run_inline_js() {\n",
       "      \n",
       "      if ((window.Bokeh !== undefined) || (force === \"1\")) {\n",
       "        for (var i = 0; i < inline_js.length; i++) {\n",
       "          inline_js[i](window.Bokeh);\n",
       "        }if (force === \"1\") {\n",
       "          display_loaded();\n",
       "        }} else if (Date.now() < window._bokeh_timeout) {\n",
       "        setTimeout(run_inline_js, 100);\n",
       "      } else if (!window._bokeh_failed_load) {\n",
       "        console.log(\"Bokeh: BokehJS failed to load within specified timeout.\");\n",
       "        window._bokeh_failed_load = true;\n",
       "      } else if (!force) {\n",
       "        var cell = $(\"#e662e143-1539-4ba6-af73-2ae0f7f60df3\").parents('.cell').data().cell;\n",
       "        cell.output_area.append_execute_result(NB_LOAD_WARNING)\n",
       "      }\n",
       "  \n",
       "    }\n",
       "  \n",
       "    if (window._bokeh_is_loading === 0) {\n",
       "      console.log(\"Bokeh: BokehJS loaded, going straight to plotting\");\n",
       "      run_inline_js();\n",
       "    } else {\n",
       "      load_libs(js_urls, function() {\n",
       "        console.log(\"Bokeh: BokehJS plotting callback run at\", now());\n",
       "        run_inline_js();\n",
       "      });\n",
       "    }\n",
       "  }(this));\n",
       "</script>"
      ]
     },
     "metadata": {},
     "output_type": "display_data"
    }
   ],
   "source": [
    "p = figure(tools=\"pan,wheel_zoom,reset,save\",\n",
    "           toolbar_location=\"above\",\n",
    "           title=\"word2vec T-SNE for most common words\")\n",
    "\n",
    "source = ColumnDataSource(data=dict(x1=words_top_wiki_tsne[:,0],\n",
    "                                    x2=words_top_wiki_tsne[:,1],\n",
    "                                    names=words_top_wiki))\n",
    "\n",
    "p.scatter(x=\"x1\", y=\"x2\", size=8, source=source)\n",
    "\n",
    "labels = LabelSet(x=\"x1\", y=\"x2\", text=\"names\", y_offset=6,\n",
    "                  text_font_size=\"8pt\", text_color=\"#555555\",\n",
    "                  source=source, text_align='center')\n",
    "p.add_layout(labels)\n",
    "\n",
    "show(p)"
   ]
  },
  {
   "cell_type": "code",
   "execution_count": null,
   "metadata": {
    "collapsed": true
   },
   "outputs": [],
   "source": []
  }
 ],
 "metadata": {
  "anaconda-cloud": {},
  "kernelspec": {
   "display_name": "Python [default]",
   "language": "python",
   "name": "python3"
  },
  "language_info": {
   "codemirror_mode": {
    "name": "ipython",
    "version": 3
   },
   "file_extension": ".py",
   "mimetype": "text/x-python",
   "name": "python",
   "nbconvert_exporter": "python",
   "pygments_lexer": "ipython3",
   "version": "3.5.2"
  }
 },
 "nbformat": 4,
 "nbformat_minor": 0
}
